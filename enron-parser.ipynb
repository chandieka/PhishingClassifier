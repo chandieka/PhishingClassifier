{
 "cells": [
  {
   "cell_type": "markdown",
   "metadata": {},
   "source": [
    "## Datasets Parser"
   ]
  },
  {
   "cell_type": "code",
   "execution_count": 1,
   "metadata": {},
   "outputs": [],
   "source": [
    "import pandas as pd\n",
    "import email\n",
    "import os"
   ]
  },
  {
   "cell_type": "code",
   "execution_count": 3,
   "metadata": {},
   "outputs": [],
   "source": [
    "enronEmails = pd.read_csv('./datasets/raw/emails.csv')"
   ]
  },
  {
   "cell_type": "code",
   "execution_count": 5,
   "metadata": {},
   "outputs": [],
   "source": [
    "def getBody(mail):\n",
    "    message = email.message_from_string(mail.message)\n",
    "\n",
    "    if message.is_multipart():\n",
    "        messagebody = ''.join(part.get_payload().__str__() for part in message.get_payload())\n",
    "    else:\n",
    "        messagebody = message.get_payload()\n",
    "\n",
    "    return f'{messagebody}'"
   ]
  },
  {
   "cell_type": "code",
   "execution_count": 6,
   "metadata": {},
   "outputs": [],
   "source": [
    "enronEmails[\"raw_mail\"] = enronEmails.message"
   ]
  },
  {
   "cell_type": "code",
   "execution_count": 7,
   "metadata": {},
   "outputs": [],
   "source": [
    "enronEmails['subject'] = enronEmails.apply(\n",
    "    lambda row: email.message_from_string(row.message)['subject'],\n",
    "    axis=1)"
   ]
  },
  {
   "cell_type": "code",
   "execution_count": 8,
   "metadata": {},
   "outputs": [],
   "source": [
    "enronEmails[\"from\"] = enronEmails.apply(\n",
    "    lambda row: email.message_from_string(row.message)['from'],\n",
    "    axis=1)"
   ]
  },
  {
   "cell_type": "code",
   "execution_count": 9,
   "metadata": {},
   "outputs": [],
   "source": [
    "enronEmails[\"to\"] =  enronEmails.apply(\n",
    "    lambda row: email.message_from_string(row.message)['to'], \n",
    "    axis=1)"
   ]
  },
  {
   "cell_type": "code",
   "execution_count": 10,
   "metadata": {},
   "outputs": [],
   "source": [
    "enronEmails[\"status\"] = enronEmails.apply(\n",
    "    lambda row: email.message_from_string(row.message)['status'], \n",
    "    axis=1)"
   ]
  },
  {
   "cell_type": "code",
   "execution_count": 11,
   "metadata": {},
   "outputs": [],
   "source": [
    "enronEmails[\"date\"] = enronEmails.apply(\n",
    "    lambda row: email.message_from_string(row.message)['date'],\n",
    "    axis=1)"
   ]
  },
  {
   "cell_type": "code",
   "execution_count": 12,
   "metadata": {},
   "outputs": [],
   "source": [
    "enronEmails[\"body\"] = enronEmails.apply(getBody, axis=1)"
   ]
  },
  {
   "cell_type": "code",
   "execution_count": 13,
   "metadata": {},
   "outputs": [],
   "source": [
    "df = enronEmails.drop(columns=['file', 'message'])"
   ]
  },
  {
   "cell_type": "code",
   "execution_count": 15,
   "metadata": {},
   "outputs": [],
   "source": [
    "df.to_csv('./datasets/raw/enron-emails.csv', index=False)\n",
    "os.remove('./datasets/raw/emails.csv')"
   ]
  }
 ],
 "metadata": {
  "kernelspec": {
   "display_name": "Python 3.9.12 ('base')",
   "language": "python",
   "name": "python3"
  },
  "language_info": {
   "codemirror_mode": {
    "name": "ipython",
    "version": 3
   },
   "file_extension": ".py",
   "mimetype": "text/x-python",
   "name": "python",
   "nbconvert_exporter": "python",
   "pygments_lexer": "ipython3",
   "version": "3.9.12"
  },
  "orig_nbformat": 4,
  "vscode": {
   "interpreter": {
    "hash": "43faf7f6e3c8903bcbf219f459c479e0fb6d51fc0610fd9ffdaf5b483d5dbe7d"
   }
  }
 },
 "nbformat": 4,
 "nbformat_minor": 2
}
