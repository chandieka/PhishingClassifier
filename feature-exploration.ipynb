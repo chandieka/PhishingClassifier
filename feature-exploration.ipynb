{
 "cells": [
  {
   "cell_type": "markdown",
   "metadata": {},
   "source": [
    "# Summary"
   ]
  },
  {
   "cell_type": "markdown",
   "metadata": {},
   "source": [
    "As the datasets are completely text based, extrapolating new features is a must have.\n",
    "\n",
    "the following is the features that this script try to extract from the existing data, which are as follow:\n",
    "- retrive extra information from the email headers:\n",
    "  - content-type \n",
    "  - charset \n",
    "  - content_transfer_encoding \n",
    "- check if the email body contain the following:\n",
    "  - html\n",
    "  - javascript\n",
    "  - css\n",
    "  - html_form\n",
    "  - html_iframe\n",
    "- Count how many URLs found in the email body\n",
    "- Calculated the lenght of 'Subject' used in the email\n",
    "- Calculate the email subject and body entropy\n",
    "- Count how many attachement are in the email\n",
    "- Encode several category into numeric value\n",
    "  - content_type\n",
    "  - content_transfer_encoding\n",
    "  - charset"
   ]
  },
  {
   "attachments": {},
   "cell_type": "markdown",
   "metadata": {},
   "source": [
    "retrive extra information from the email headers:\n",
    "content-type \n",
    "charset \n",
    "content_transfer_encoding \n",
    "check if the email body contain the following:\n",
    "html\n",
    "javascript\n",
    "css\n",
    "html_form\n",
    "html_iframe\n",
    "Count how many URLs found in the email body\n",
    "Calculated the lenght of 'Subject' used in the email\n",
    "Calculate the email subject and body entropy\n",
    "Count how many attachement are in the email\n",
    "Encode several category into numeric value\n",
    "content_type\n",
    "content_transfer_encoding\n",
    "charset"
   ]
  },
  {
   "cell_type": "markdown",
   "metadata": {},
   "source": [
    "## Import libraries"
   ]
  },
  {
   "cell_type": "markdown",
   "metadata": {},
   "source": [
    "Here we import the libraries needed"
   ]
  },
  {
   "cell_type": "code",
   "execution_count": 96,
   "metadata": {},
   "outputs": [],
   "source": [
    "import pandas as pd\n",
    "from datetime import datetime\n",
    "from dateutil import parser\n",
    "import re\n",
    "import email"
   ]
  },
  {
   "cell_type": "markdown",
   "metadata": {},
   "source": [
    "## Import Datasets to Pandas"
   ]
  },
  {
   "cell_type": "markdown",
   "metadata": {},
   "source": [
    "load the 3 datasets and store it in a variable "
   ]
  },
  {
   "cell_type": "code",
   "execution_count": 114,
   "metadata": {},
   "outputs": [],
   "source": [
    "fraudDataframe = pd.read_csv('datasets/clean/fraud-emails.csv')\n",
    "phishingDataframe = pd.read_csv('datasets/clean/phishing-emails.csv')\n",
    "enronDataframe = pd.read_csv('datasets/clean/enron-emails.csv')"
   ]
  },
  {
   "cell_type": "markdown",
   "metadata": {},
   "source": [
    "Concatenate the 2 malicious datasets and stored it in one variable "
   ]
  },
  {
   "cell_type": "code",
   "execution_count": 115,
   "metadata": {},
   "outputs": [],
   "source": [
    "malicious_df = pd.concat([fraudDataframe, phishingDataframe], ignore_index=True)\n",
    "enron_df = enronDataframe"
   ]
  },
  {
   "cell_type": "markdown",
   "metadata": {},
   "source": [
    "## Extract Features from the datasets"
   ]
  },
  {
   "cell_type": "code",
   "execution_count": 116,
   "metadata": {},
   "outputs": [],
   "source": [
    "# this method is really inefficient and will take too long for larger datasets\n",
    "\n",
    "def getExtraInfo(row):\n",
    "    try:\n",
    "        message = email.message_from_string(row.raw_mail)\n",
    "        row['content_type'] = message.get_content_type()      \n",
    "        row['charset'] = message.get_content_charset()\n",
    "        row['content_transfer_encoding'] = message['Content-Transfer-Encoding']\n",
    "        return row\n",
    "    except Exception as e:\n",
    "        return row"
   ]
  },
  {
   "cell_type": "markdown",
   "metadata": {},
   "source": [
    "the function above does feature extraction for for content_type, chartset and content_transfer_encoding"
   ]
  },
  {
   "cell_type": "code",
   "execution_count": 117,
   "metadata": {},
   "outputs": [],
   "source": [
    "malicious_df = malicious_df.apply(getExtraInfo, axis=1)"
   ]
  },
  {
   "cell_type": "markdown",
   "metadata": {},
   "source": [
    "Here we apply the function \"getExtraInfo\" to the malicious dataframe"
   ]
  },
  {
   "cell_type": "markdown",
   "metadata": {},
   "source": [
    "the 3 cells bellow shows the unique categories that are taken from the malicious dataframe"
   ]
  },
  {
   "cell_type": "code",
   "execution_count": 118,
   "metadata": {},
   "outputs": [
    {
     "data": {
      "text/plain": [
       "array(['text/plain', 'multipart/mixed', 'multipart/alternative',\n",
       "       'text/html', 'multipart/related',\n",
       "       'text/html content-transfer-encoding: 8bit\\\\r\\\\n',\n",
       "       'text/htmlcontent-transfer-encoding:8bitrn'], dtype=object)"
      ]
     },
     "execution_count": 118,
     "metadata": {},
     "output_type": "execute_result"
    }
   ],
   "source": [
    "malicious_df.content_type.unique()"
   ]
  },
  {
   "cell_type": "code",
   "execution_count": 119,
   "metadata": {},
   "outputs": [
    {
     "data": {
      "text/plain": [
       "array(['us-ascii', 'iso-8859-1', 'windows-1252', 'ansi', None,\n",
       "       'windows-1256', 'iso-8859-2', 'windows-1254', 'windows-1250',\n",
       "       'gb2312', 'utf-8', 'x-user-defined', 'iso-8859-15', 'koi8-r',\n",
       "       'windows-1251', 'windows-1253', 'unknown-8bit', 'windows-1257',\n",
       "       'windows-125', 'tis-620', 'iso-2022-jp', '', 'iso-8859-9',\n",
       "       'charset=\"iso-8859-1', 'euc-kr', 'ks_c_5601-1987', 'utf-7',\n",
       "       'koi8-u'], dtype=object)"
      ]
     },
     "execution_count": 119,
     "metadata": {},
     "output_type": "execute_result"
    }
   ],
   "source": [
    "malicious_df.charset.unique()"
   ]
  },
  {
   "cell_type": "code",
   "execution_count": 120,
   "metadata": {},
   "outputs": [
    {
     "data": {
      "text/plain": [
       "array(['8bit', '7bit', None, 'binary', 'quoted-printable', '7BIT',\n",
       "       'base64', '8BIT', 'QUOTED-PRINTABLE', '7Bit', 'Quoted-Printable',\n",
       "       '7Bit ', 'BASE64', '7bit ', '8bit\\\\r\\\\n',\n",
       "       '7Bit\\n\\tboundary=\"--VHOABG67774\"'], dtype=object)"
      ]
     },
     "execution_count": 120,
     "metadata": {},
     "output_type": "execute_result"
    }
   ],
   "source": [
    "malicious_df.content_transfer_encoding.unique()"
   ]
  },
  {
   "cell_type": "markdown",
   "metadata": {},
   "source": [
    "As you can see alot of the categories are a copies of each other which need to be clean before it can be used"
   ]
  },
  {
   "cell_type": "markdown",
   "metadata": {},
   "source": [
    "If we used the method above for the enron_df it will take a lot longer (30+ minutes). Which is why the implementation of the feature extraction will be done by taking applying a function to a series, this will perform much faster than what is done to the malicious dataframe"
   ]
  },
  {
   "cell_type": "markdown",
   "metadata": {},
   "source": [
    "Bellow we apply an anonymous function to a series which are than save to the original dataframe. This method perform better and faster."
   ]
  },
  {
   "cell_type": "code",
   "execution_count": 121,
   "metadata": {},
   "outputs": [],
   "source": [
    "enron_df['content_type'] = enron_df.raw_mail.apply(lambda raw_mail: email.message_from_string(raw_mail).get_content_type())"
   ]
  },
  {
   "attachments": {},
   "cell_type": "markdown",
   "metadata": {},
   "source": [
    "All the enron emails did not contained any non plain text email which is not an actuall representation of reality"
   ]
  },
  {
   "cell_type": "code",
   "execution_count": 122,
   "metadata": {},
   "outputs": [
    {
     "data": {
      "text/plain": [
       "array(['text/plain'], dtype=object)"
      ]
     },
     "execution_count": 122,
     "metadata": {},
     "output_type": "execute_result"
    }
   ],
   "source": [
    "enron_df['content_type'].unique()"
   ]
  },
  {
   "cell_type": "markdown",
   "metadata": {},
   "source": [
    "the cell above extract the content_type of the email for each email instances and no cleaning is needed for this column"
   ]
  },
  {
   "cell_type": "code",
   "execution_count": 123,
   "metadata": {},
   "outputs": [],
   "source": [
    "enron_df['charset'] = enron_df.raw_mail.apply(lambda raw_mail: email.message_from_string(raw_mail).get_content_charset())"
   ]
  },
  {
   "cell_type": "code",
   "execution_count": 124,
   "metadata": {},
   "outputs": [
    {
     "data": {
      "text/plain": [
       "array(['us-ascii', 'ansi_x3.4-1968', None], dtype=object)"
      ]
     },
     "execution_count": 124,
     "metadata": {},
     "output_type": "execute_result"
    }
   ],
   "source": [
    "enron_df['charset'].unique()"
   ]
  },
  {
   "cell_type": "markdown",
   "metadata": {},
   "source": [
    "the cell above extract the charset of each email instances"
   ]
  },
  {
   "cell_type": "code",
   "execution_count": 130,
   "metadata": {},
   "outputs": [
    {
     "name": "stderr",
     "output_type": "stream",
     "text": [
      "C:\\Users\\chandieka\\AppData\\Local\\Temp\\ipykernel_6008\\3959877204.py:1: SettingWithCopyWarning: \n",
      "A value is trying to be set on a copy of a slice from a DataFrame\n",
      "\n",
      "See the caveats in the documentation: https://pandas.pydata.org/pandas-docs/stable/user_guide/indexing.html#returning-a-view-versus-a-copy\n",
      "  malicious_df.charset.loc[malicious_df.charset == ''] = None\n"
     ]
    }
   ],
   "source": [
    "malicious_df.charset.loc[malicious_df.charset == ''] = None"
   ]
  },
  {
   "cell_type": "markdown",
   "metadata": {},
   "source": [
    "the cell above replace any empty string for charset to a None value"
   ]
  },
  {
   "cell_type": "code",
   "execution_count": 131,
   "metadata": {},
   "outputs": [],
   "source": [
    "enron_df['content_transfer_encoding'] = enron_df.raw_mail.apply(\n",
    "    lambda raw_mail: email.message_from_string(raw_mail)['Content-Transfer-Encoding'])"
   ]
  },
  {
   "cell_type": "markdown",
   "metadata": {},
   "source": [
    "the cell above extract the content_transfer_encoding use by the email"
   ]
  },
  {
   "cell_type": "code",
   "execution_count": 132,
   "metadata": {},
   "outputs": [
    {
     "data": {
      "text/plain": [
       "array(['7bit', 'quoted-printable', None, 'base64'], dtype=object)"
      ]
     },
     "execution_count": 132,
     "metadata": {},
     "output_type": "execute_result"
    }
   ],
   "source": [
    "enron_df['content_transfer_encoding'].unique()"
   ]
  },
  {
   "cell_type": "markdown",
   "metadata": {},
   "source": [
    "## Cleaning duplicates"
   ]
  },
  {
   "cell_type": "markdown",
   "metadata": {},
   "source": [
    "As you've seen before for malicious dataframe, the categories contains alot of duplicates to clean this we will manually replace the duplicates with the real values."
   ]
  },
  {
   "cell_type": "code",
   "execution_count": 133,
   "metadata": {},
   "outputs": [
    {
     "name": "stderr",
     "output_type": "stream",
     "text": [
      "C:\\Users\\chandieka\\AppData\\Local\\Temp\\ipykernel_6008\\4252805751.py:1: SettingWithCopyWarning: \n",
      "A value is trying to be set on a copy of a slice from a DataFrame\n",
      "\n",
      "See the caveats in the documentation: https://pandas.pydata.org/pandas-docs/stable/user_guide/indexing.html#returning-a-view-versus-a-copy\n",
      "  malicious_df.content_transfer_encoding.loc[malicious_df.content_transfer_encoding.isin(['7BIT', '7Bit ', '7bit ','7Bit\\n\\tboundary=\"--VHOABG67774\"', '7Bit'])] = '7bit'\n",
      "C:\\Users\\chandieka\\AppData\\Local\\Temp\\ipykernel_6008\\4252805751.py:2: SettingWithCopyWarning: \n",
      "A value is trying to be set on a copy of a slice from a DataFrame\n",
      "\n",
      "See the caveats in the documentation: https://pandas.pydata.org/pandas-docs/stable/user_guide/indexing.html#returning-a-view-versus-a-copy\n",
      "  malicious_df.content_transfer_encoding.loc[malicious_df.content_transfer_encoding.isin(['8bit\\\\r\\\\n', '8BIT', ])] = '8bit'\n",
      "C:\\Users\\chandieka\\AppData\\Local\\Temp\\ipykernel_6008\\4252805751.py:3: SettingWithCopyWarning: \n",
      "A value is trying to be set on a copy of a slice from a DataFrame\n",
      "\n",
      "See the caveats in the documentation: https://pandas.pydata.org/pandas-docs/stable/user_guide/indexing.html#returning-a-view-versus-a-copy\n",
      "  malicious_df.content_transfer_encoding.loc[malicious_df.content_transfer_encoding.isin(['QUOTED-PRINTABLE', 'Quoted-Printable'])] = 'quoted-printable'\n",
      "C:\\Users\\chandieka\\AppData\\Local\\Temp\\ipykernel_6008\\4252805751.py:4: SettingWithCopyWarning: \n",
      "A value is trying to be set on a copy of a slice from a DataFrame\n",
      "\n",
      "See the caveats in the documentation: https://pandas.pydata.org/pandas-docs/stable/user_guide/indexing.html#returning-a-view-versus-a-copy\n",
      "  malicious_df.content_transfer_encoding.loc[malicious_df.content_transfer_encoding.isin(['BASE64'])] = 'base64'\n"
     ]
    }
   ],
   "source": [
    "malicious_df.content_transfer_encoding.loc[malicious_df.content_transfer_encoding.isin(['7BIT', '7Bit ', '7bit ','7Bit\\n\\tboundary=\"--VHOABG67774\"', '7Bit'])] = '7bit'\n",
    "malicious_df.content_transfer_encoding.loc[malicious_df.content_transfer_encoding.isin(['8bit\\\\r\\\\n', '8BIT', ])] = '8bit'\n",
    "malicious_df.content_transfer_encoding.loc[malicious_df.content_transfer_encoding.isin(['QUOTED-PRINTABLE', 'Quoted-Printable'])] = 'quoted-printable'\n",
    "malicious_df.content_transfer_encoding.loc[malicious_df.content_transfer_encoding.isin(['BASE64'])] = 'base64'"
   ]
  },
  {
   "cell_type": "markdown",
   "metadata": {},
   "source": [
    "From the datasets we also can extract some other information such as what is the email address domain used to send and receive the email."
   ]
  },
  {
   "cell_type": "code",
   "execution_count": 134,
   "metadata": {},
   "outputs": [],
   "source": [
    "malicious_df['from_domain'] = malicious_df.parsed_from.str.split('@', expand=True)[1]\n",
    "malicious_df['to_domain'] = malicious_df.parsed_from.str.split('@', expand=True)[1]"
   ]
  },
  {
   "cell_type": "code",
   "execution_count": 135,
   "metadata": {},
   "outputs": [],
   "source": [
    "enron_df['from_domain'] = enron_df.parsed_from.str.split('@', expand=True)[1]\n",
    "enron_df['to_domain'] = enron_df.parsed_from.str.split('@', expand=True)[1]"
   ]
  },
  {
   "cell_type": "markdown",
   "metadata": {},
   "source": [
    "the 2 cell above extract the email domain using the split function and use \"@\" as the delimeter, then take the 2nd value from the array."
   ]
  },
  {
   "cell_type": "code",
   "execution_count": 136,
   "metadata": {},
   "outputs": [
    {
     "name": "stderr",
     "output_type": "stream",
     "text": [
      "C:\\Users\\chandieka\\AppData\\Local\\Temp\\ipykernel_6008\\3384894740.py:1: SettingWithCopyWarning: \n",
      "A value is trying to be set on a copy of a slice from a DataFrame\n",
      "\n",
      "See the caveats in the documentation: https://pandas.pydata.org/pandas-docs/stable/user_guide/indexing.html#returning-a-view-versus-a-copy\n",
      "  malicious_df.content_transfer_encoding.loc[\n"
     ]
    }
   ],
   "source": [
    "malicious_df.content_transfer_encoding.loc[\n",
    "    (malicious_df.content_type == 'text/htmlcontent-transfer-encoding:8bitrn') | \n",
    "    (malicious_df.content_type == 'text/html content-transfer-encoding: 8bit\\\\r\\\\n')] = '8bit'"
   ]
  },
  {
   "cell_type": "code",
   "execution_count": 137,
   "metadata": {},
   "outputs": [
    {
     "name": "stderr",
     "output_type": "stream",
     "text": [
      "C:\\Users\\chandieka\\AppData\\Local\\Temp\\ipykernel_6008\\2100451434.py:1: SettingWithCopyWarning: \n",
      "A value is trying to be set on a copy of a slice from a DataFrame\n",
      "\n",
      "See the caveats in the documentation: https://pandas.pydata.org/pandas-docs/stable/user_guide/indexing.html#returning-a-view-versus-a-copy\n",
      "  malicious_df.content_type.loc[\n"
     ]
    }
   ],
   "source": [
    "malicious_df.content_type.loc[\n",
    "    (malicious_df.content_type == 'text/htmlcontent-transfer-encoding:8bitrn') | \n",
    "    (malicious_df.content_type == 'text/html content-transfer-encoding: 8bit\\\\r\\\\n')] = \"text/html\""
   ]
  },
  {
   "cell_type": "markdown",
   "metadata": {},
   "source": [
    "the 2 cell above clean some error cause by the parser and dirty data that the parser can intrepet correctly"
   ]
  },
  {
   "cell_type": "markdown",
   "metadata": {},
   "source": [
    "## Extracting Numberic and Boolean features"
   ]
  },
  {
   "cell_type": "markdown",
   "metadata": {},
   "source": [
    "the 2 code cells bellow extract the numeric features by using regex pattern"
   ]
  },
  {
   "cell_type": "code",
   "execution_count": 138,
   "metadata": {},
   "outputs": [],
   "source": [
    "# Get email that contains html\n",
    "malicious_df['html'] = malicious_df.content_type.str.count('(text/html)')\n",
    "# Get email that contains javascript\n",
    "malicious_df['javascript'] = malicious_df.raw_mail.str.count('(<script|.js)')\n",
    "# Get email that contains css\n",
    "malicious_df['css'] = malicious_df.raw_mail.str.count('(<style|\\.css)')\n",
    "# Get email that contains html form\n",
    "malicious_df['html_form'] = malicious_df.raw_mail.str.count('(<form)')\n",
    "malicious_df['html_iframe'] = malicious_df.raw_mail.str.count('<iframe')"
   ]
  },
  {
   "cell_type": "code",
   "execution_count": 139,
   "metadata": {},
   "outputs": [],
   "source": [
    "# Get email that contains html\n",
    "enron_df['html'] = enron_df.content_type.str.count('(text/html|<!DOCTYPE html>)')\n",
    "# Get email that contains javascript\n",
    "enron_df['javascript'] = enron_df.raw_mail.str.count('(<script|\\.js)')\n",
    "# Get email that contains css\n",
    "enron_df['css'] = enron_df.raw_mail.str.count('(<style|\\.css)')\n",
    "# Get email that contains html form\n",
    "enron_df['html_form'] = enron_df.raw_mail.str.count('(<form)')\n",
    "enron_df['html_iframe'] = enron_df.raw_mail.str.count('(<iframe)')"
   ]
  },
  {
   "attachments": {},
   "cell_type": "markdown",
   "metadata": {},
   "source": [
    "the function bellow count how many string that match the pattern specified, the pattern is for finding valid URL in the email"
   ]
  },
  {
   "cell_type": "code",
   "execution_count": 140,
   "metadata": {},
   "outputs": [],
   "source": [
    "def getURLs(text):\n",
    "    count = len(re.findall(r'(https?://\\S+)', f'{text}'))\n",
    "    return count"
   ]
  },
  {
   "attachments": {},
   "cell_type": "markdown",
   "metadata": {},
   "source": [
    "Here we apply the function to the body to find the number of URLs that are in the message"
   ]
  },
  {
   "cell_type": "code",
   "execution_count": 141,
   "metadata": {},
   "outputs": [],
   "source": [
    "malicious_df['URLs_in_message'] = malicious_df.body.apply(getURLs)"
   ]
  },
  {
   "cell_type": "code",
   "execution_count": 142,
   "metadata": {},
   "outputs": [],
   "source": [
    "enron_df['URLs_in_message'] = enron_df.body.apply(getURLs)"
   ]
  },
  {
   "attachments": {},
   "cell_type": "markdown",
   "metadata": {},
   "source": [
    "Here we count the number of characters are there in the subject column"
   ]
  },
  {
   "cell_type": "code",
   "execution_count": 143,
   "metadata": {},
   "outputs": [],
   "source": [
    "malicious_df['subject_len'] = malicious_df.subject.apply(lambda x: len(f'{x}'))"
   ]
  },
  {
   "cell_type": "code",
   "execution_count": 144,
   "metadata": {},
   "outputs": [],
   "source": [
    "enron_df['subject_len'] = enron_df.subject.apply(lambda x: len(f'{x}'))"
   ]
  },
  {
   "attachments": {},
   "cell_type": "markdown",
   "metadata": {},
   "source": [
    "Here we count the number of characters are there in the body column"
   ]
  },
  {
   "cell_type": "code",
   "execution_count": null,
   "metadata": {},
   "outputs": [],
   "source": [
    "malicious_df['body_len'] = malicious_df.body.apply(lambda x: len(f'{x}'))"
   ]
  },
  {
   "cell_type": "code",
   "execution_count": null,
   "metadata": {},
   "outputs": [],
   "source": [
    "enron_df['body_len'] = enron_df.body.apply(lambda x: len(f'{x}'))"
   ]
  },
  {
   "cell_type": "markdown",
   "metadata": {},
   "source": [
    "Calculate the Entropy of the Body & Subject "
   ]
  },
  {
   "cell_type": "code",
   "execution_count": 145,
   "metadata": {},
   "outputs": [],
   "source": [
    "from collections import Counter\n",
    "from math import log\n",
    "\n",
    "def shannon(string):\n",
    "    s = f'{string}'\n",
    "    counts = Counter(s)\n",
    "    frequencies = ((i / len(s)) for i in counts.values())\n",
    "    return - sum(f * log(f, 2) for f in frequencies)"
   ]
  },
  {
   "cell_type": "code",
   "execution_count": 146,
   "metadata": {},
   "outputs": [],
   "source": [
    "malicious_df['subject_entropy'] = malicious_df.subject.apply(shannon)\n",
    "malicious_df['body_entropy'] = malicious_df.body.apply(shannon)"
   ]
  },
  {
   "cell_type": "code",
   "execution_count": 147,
   "metadata": {},
   "outputs": [],
   "source": [
    "enron_df['subject_entropy'] = enron_df.subject.apply(shannon)\n",
    "enron_df['body_entropy'] = enron_df.body.apply(shannon)"
   ]
  },
  {
   "cell_type": "markdown",
   "metadata": {},
   "source": [
    "here, we count how many attachement can be found by checking for file extension."
   ]
  },
  {
   "cell_type": "code",
   "execution_count": 148,
   "metadata": {},
   "outputs": [],
   "source": [
    "pattern = '\\.(doc|exe|msi|pdf|docx|doc|docm|ppt|pps|ppa|ppam|xls|xlsx|zip|rar|tar|gzip)'\n",
    "\n",
    "malicious_df['attachement'] = malicious_df.body.str.count(pattern)\n",
    "enron_df['attachement'] = enron_df.body.str.count(pattern)"
   ]
  },
  {
   "cell_type": "markdown",
   "metadata": {},
   "source": [
    "Transform categorical text data into numeric category by using original encoding"
   ]
  },
  {
   "cell_type": "code",
   "execution_count": 149,
   "metadata": {},
   "outputs": [],
   "source": [
    "malicious_df['enc_content_transfer_encoding'] = pd.factorize(malicious_df['content_transfer_encoding'])[0] + 1\n",
    "malicious_df['enc_content_type'] = pd.factorize(malicious_df['content_type'])[0] + 1\n",
    "malicious_df['enc_charset'] = pd.factorize(malicious_df['charset'])[0] + 1"
   ]
  },
  {
   "cell_type": "code",
   "execution_count": 150,
   "metadata": {},
   "outputs": [],
   "source": [
    "enron_df['enc_content_transfer_encoding'] = pd.factorize(enron_df['content_transfer_encoding'])[0] + 1\n",
    "enron_df['enc_content_type'] = pd.factorize(enron_df['content_type'])[0] + 1\n",
    "enron_df['enc_charset'] = pd.factorize(enron_df['charset'])[0] + 1"
   ]
  },
  {
   "cell_type": "markdown",
   "metadata": {},
   "source": [
    "save results"
   ]
  },
  {
   "cell_type": "code",
   "execution_count": 151,
   "metadata": {},
   "outputs": [],
   "source": [
    "enron_df.to_csv('datasets/explored/enron-emails-explored.csv', index=False)\n",
    "malicious_df.to_csv('datasets/explored/malicious-emails-explored.csv', index=False)"
   ]
  }
 ],
 "metadata": {
  "kernelspec": {
   "display_name": "Python 3.9.12 ('base')",
   "language": "python",
   "name": "python3"
  },
  "language_info": {
   "codemirror_mode": {
    "name": "ipython",
    "version": 3
   },
   "file_extension": ".py",
   "mimetype": "text/x-python",
   "name": "python",
   "nbconvert_exporter": "python",
   "pygments_lexer": "ipython3",
   "version": "3.9.12 (main, Apr  4 2022, 05:22:27) [MSC v.1916 64 bit (AMD64)]"
  },
  "orig_nbformat": 4,
  "vscode": {
   "interpreter": {
    "hash": "3f83a4b8e1c187aca35894c8eeaad8267ead7007e3a6e08dfe58ab16c9dd478f"
   }
  }
 },
 "nbformat": 4,
 "nbformat_minor": 2
}
