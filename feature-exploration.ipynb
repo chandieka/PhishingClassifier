{
 "cells": [
  {
   "cell_type": "markdown",
   "metadata": {},
   "source": [
    "# Summary"
   ]
  },
  {
   "cell_type": "markdown",
   "metadata": {},
   "source": [
    "As the datasets are completely text based, extrapolating new features is a must have.\n",
    "\n",
    "the following is the features that this script try to extract from the existing data, which are as follow:\n",
    "- retrive extra information from the email headers:\n",
    "  - content-type \n",
    "  - charset \n",
    "  - content_transfer_encoding \n",
    "- check if the email body contain the following:\n",
    "  - html\n",
    "  - javascript\n",
    "  - css\n",
    "  - html_form\n",
    "  - html_iframe\n",
    "- Count how many URLs found in the email body\n",
    "- Calculated the lenght of 'Subject' used in the email"
   ]
  },
  {
   "cell_type": "markdown",
   "metadata": {},
   "source": [
    "## Import libraries"
   ]
  },
  {
   "cell_type": "code",
   "execution_count": 35,
   "metadata": {},
   "outputs": [],
   "source": [
    "import pandas as pd\n",
    "from datetime import datetime\n",
    "from dateutil import parser\n",
    "import re\n",
    "import email"
   ]
  },
  {
   "cell_type": "markdown",
   "metadata": {},
   "source": [
    "## Import Datasets to Pandas"
   ]
  },
  {
   "cell_type": "code",
   "execution_count": 36,
   "metadata": {},
   "outputs": [],
   "source": [
    "fraudDataframe = pd.read_csv('datasets/clean/fraud-emails.csv')\n",
    "phishingDataframe = pd.read_csv('datasets/clean/phishing-emails.csv')\n",
    "enronDataframe = pd.read_csv('datasets/clean/enron-emails.csv')"
   ]
  },
  {
   "cell_type": "code",
   "execution_count": 37,
   "metadata": {},
   "outputs": [],
   "source": [
    "malicious_df = pd.concat([fraudDataframe, phishingDataframe], ignore_index=True)\n",
    "enron_df = enronDataframe"
   ]
  },
  {
   "cell_type": "markdown",
   "metadata": {},
   "source": [
    "Uncomment the codes bellow and run this if the index is save to the CSV"
   ]
  },
  {
   "cell_type": "code",
   "execution_count": 38,
   "metadata": {},
   "outputs": [],
   "source": [
    "# malicious_df = malicious_df.drop(columns='Unnamed: 0')\n",
    "# enron_df = enron_df.drop(columns=['Unnamed: 0','Unnamed: 0.1'])"
   ]
  },
  {
   "cell_type": "markdown",
   "metadata": {},
   "source": [
    "Extract extra informations that can be used as a features"
   ]
  },
  {
   "cell_type": "code",
   "execution_count": 39,
   "metadata": {},
   "outputs": [],
   "source": [
    "# this method is really inefficient and will take too long for larger datasets\n",
    "\n",
    "def getExtraInfo(row):\n",
    "    try:\n",
    "        message = email.message_from_string(row.raw_mail)\n",
    "        row['content_type'] = message.get_content_type()      \n",
    "        row['charset'] = message.get_content_charset()\n",
    "        row['content_transfer_encoding'] = message['Content-Transfer-Encoding']\n",
    "        return row\n",
    "    except Exception as e:\n",
    "        return row"
   ]
  },
  {
   "cell_type": "code",
   "execution_count": null,
   "metadata": {},
   "outputs": [],
   "source": [
    "malicious_df = malicious_df.apply(getExtraInfo, axis=1)"
   ]
  },
  {
   "cell_type": "markdown",
   "metadata": {},
   "source": [
    "If we used the method above for the enron_df it will take a lot longer (30+ minutes) then doing it like in the code bellow "
   ]
  },
  {
   "cell_type": "code",
   "execution_count": 40,
   "metadata": {},
   "outputs": [],
   "source": [
    "enron_df['content_type'] = enron_df.raw_mail.apply(lambda raw_mail: email.message_from_string(raw_mail).get_content_type())"
   ]
  },
  {
   "cell_type": "code",
   "execution_count": 41,
   "metadata": {},
   "outputs": [],
   "source": [
    "enron_df['charset'] = enron_df.raw_mail.apply(lambda raw_mail: email.message_from_string(raw_mail).get_content_charset())"
   ]
  },
  {
   "cell_type": "code",
   "execution_count": 42,
   "metadata": {},
   "outputs": [
    {
     "data": {
      "text/plain": [
       "array(['us-ascii', 'ansi_x3.4-1968', None], dtype=object)"
      ]
     },
     "execution_count": 42,
     "metadata": {},
     "output_type": "execute_result"
    }
   ],
   "source": [
    "enron_df['charset'].unique()"
   ]
  },
  {
   "cell_type": "code",
   "execution_count": 43,
   "metadata": {},
   "outputs": [
    {
     "name": "stderr",
     "output_type": "stream",
     "text": [
      "C:\\Users\\chandieka\\AppData\\Local\\Temp\\ipykernel_13476\\3959877204.py:1: SettingWithCopyWarning: \n",
      "A value is trying to be set on a copy of a slice from a DataFrame\n",
      "\n",
      "See the caveats in the documentation: https://pandas.pydata.org/pandas-docs/stable/user_guide/indexing.html#returning-a-view-versus-a-copy\n",
      "  malicious_df.charset.loc[malicious_df.charset == ''] = None\n"
     ]
    }
   ],
   "source": [
    "malicious_df.charset.loc[malicious_df.charset == ''] = None"
   ]
  },
  {
   "cell_type": "code",
   "execution_count": 44,
   "metadata": {},
   "outputs": [],
   "source": [
    "enron_df['content_transfer_encoding'] = enron_df.raw_mail.apply(lambda raw_mail: email.message_from_string(raw_mail)['Content-Transfer-Encoding'])"
   ]
  },
  {
   "cell_type": "markdown",
   "metadata": {},
   "source": [
    "Clean some inconsistensy on 'content_transfer_encoding' columns for malicious_df"
   ]
  },
  {
   "cell_type": "code",
   "execution_count": 45,
   "metadata": {},
   "outputs": [
    {
     "data": {
      "text/plain": [
       "array(['8bit', '7bit', None, 'binary', 'quoted-printable', '7BIT',\n",
       "       'base64', '8BIT', 'QUOTED-PRINTABLE', '7Bit', 'Quoted-Printable',\n",
       "       '7Bit ', 'BASE64', '7bit ', '8bit\\\\r\\\\n',\n",
       "       '7Bit\\n\\tboundary=\"--VHOABG67774\"'], dtype=object)"
      ]
     },
     "execution_count": 45,
     "metadata": {},
     "output_type": "execute_result"
    }
   ],
   "source": [
    "malicious_df.content_transfer_encoding.unique()"
   ]
  },
  {
   "cell_type": "code",
   "execution_count": 46,
   "metadata": {},
   "outputs": [
    {
     "name": "stderr",
     "output_type": "stream",
     "text": [
      "C:\\Users\\chandieka\\AppData\\Local\\Temp\\ipykernel_13476\\4252805751.py:1: SettingWithCopyWarning: \n",
      "A value is trying to be set on a copy of a slice from a DataFrame\n",
      "\n",
      "See the caveats in the documentation: https://pandas.pydata.org/pandas-docs/stable/user_guide/indexing.html#returning-a-view-versus-a-copy\n",
      "  malicious_df.content_transfer_encoding.loc[malicious_df.content_transfer_encoding.isin(['7BIT', '7Bit ', '7bit ','7Bit\\n\\tboundary=\"--VHOABG67774\"', '7Bit'])] = '7bit'\n",
      "C:\\Users\\chandieka\\AppData\\Local\\Temp\\ipykernel_13476\\4252805751.py:2: SettingWithCopyWarning: \n",
      "A value is trying to be set on a copy of a slice from a DataFrame\n",
      "\n",
      "See the caveats in the documentation: https://pandas.pydata.org/pandas-docs/stable/user_guide/indexing.html#returning-a-view-versus-a-copy\n",
      "  malicious_df.content_transfer_encoding.loc[malicious_df.content_transfer_encoding.isin(['8bit\\\\r\\\\n', '8BIT', ])] = '8bit'\n",
      "C:\\Users\\chandieka\\AppData\\Local\\Temp\\ipykernel_13476\\4252805751.py:3: SettingWithCopyWarning: \n",
      "A value is trying to be set on a copy of a slice from a DataFrame\n",
      "\n",
      "See the caveats in the documentation: https://pandas.pydata.org/pandas-docs/stable/user_guide/indexing.html#returning-a-view-versus-a-copy\n",
      "  malicious_df.content_transfer_encoding.loc[malicious_df.content_transfer_encoding.isin(['QUOTED-PRINTABLE', 'Quoted-Printable'])] = 'quoted-printable'\n",
      "C:\\Users\\chandieka\\AppData\\Local\\Temp\\ipykernel_13476\\4252805751.py:4: SettingWithCopyWarning: \n",
      "A value is trying to be set on a copy of a slice from a DataFrame\n",
      "\n",
      "See the caveats in the documentation: https://pandas.pydata.org/pandas-docs/stable/user_guide/indexing.html#returning-a-view-versus-a-copy\n",
      "  malicious_df.content_transfer_encoding.loc[malicious_df.content_transfer_encoding.isin(['BASE64'])] = 'base64'\n"
     ]
    }
   ],
   "source": [
    "malicious_df.content_transfer_encoding.loc[malicious_df.content_transfer_encoding.isin(['7BIT', '7Bit ', '7bit ','7Bit\\n\\tboundary=\"--VHOABG67774\"', '7Bit'])] = '7bit'\n",
    "malicious_df.content_transfer_encoding.loc[malicious_df.content_transfer_encoding.isin(['8bit\\\\r\\\\n', '8BIT', ])] = '8bit'\n",
    "malicious_df.content_transfer_encoding.loc[malicious_df.content_transfer_encoding.isin(['QUOTED-PRINTABLE', 'Quoted-Printable'])] = 'quoted-printable'\n",
    "malicious_df.content_transfer_encoding.loc[malicious_df.content_transfer_encoding.isin(['BASE64'])] = 'base64'"
   ]
  },
  {
   "cell_type": "markdown",
   "metadata": {},
   "source": [
    "Get the email domain used to send the email and the domain of the email for the receiver"
   ]
  },
  {
   "cell_type": "code",
   "execution_count": 47,
   "metadata": {},
   "outputs": [],
   "source": [
    "malicious_df['from_domain'] = malicious_df.parsed_from.str.split('@', expand=True)[1]\n",
    "malicious_df['to_domain'] = malicious_df.parsed_from.str.split('@', expand=True)[1]"
   ]
  },
  {
   "cell_type": "code",
   "execution_count": 48,
   "metadata": {},
   "outputs": [],
   "source": [
    "enron_df['from_domain'] = enron_df.parsed_from.str.split('@', expand=True)[1]\n",
    "enron_df['to_domain'] = enron_df.parsed_from.str.split('@', expand=True)[1]"
   ]
  },
  {
   "cell_type": "markdown",
   "metadata": {},
   "source": [
    "Clean some inconsistensy in the content_type and content_transfer_encoding columns"
   ]
  },
  {
   "cell_type": "code",
   "execution_count": 49,
   "metadata": {},
   "outputs": [
    {
     "name": "stderr",
     "output_type": "stream",
     "text": [
      "C:\\Users\\chandieka\\AppData\\Local\\Temp\\ipykernel_13476\\3384894740.py:1: SettingWithCopyWarning: \n",
      "A value is trying to be set on a copy of a slice from a DataFrame\n",
      "\n",
      "See the caveats in the documentation: https://pandas.pydata.org/pandas-docs/stable/user_guide/indexing.html#returning-a-view-versus-a-copy\n",
      "  malicious_df.content_transfer_encoding.loc[\n"
     ]
    }
   ],
   "source": [
    "malicious_df.content_transfer_encoding.loc[\n",
    "    (malicious_df.content_type == 'text/htmlcontent-transfer-encoding:8bitrn') | \n",
    "    (malicious_df.content_type == 'text/html content-transfer-encoding: 8bit\\\\r\\\\n')] = '8bit'"
   ]
  },
  {
   "cell_type": "code",
   "execution_count": 50,
   "metadata": {},
   "outputs": [
    {
     "name": "stderr",
     "output_type": "stream",
     "text": [
      "C:\\Users\\chandieka\\AppData\\Local\\Temp\\ipykernel_13476\\2100451434.py:1: SettingWithCopyWarning: \n",
      "A value is trying to be set on a copy of a slice from a DataFrame\n",
      "\n",
      "See the caveats in the documentation: https://pandas.pydata.org/pandas-docs/stable/user_guide/indexing.html#returning-a-view-versus-a-copy\n",
      "  malicious_df.content_type.loc[\n"
     ]
    }
   ],
   "source": [
    "malicious_df.content_type.loc[\n",
    "    (malicious_df.content_type == 'text/htmlcontent-transfer-encoding:8bitrn') | \n",
    "    (malicious_df.content_type == 'text/html content-transfer-encoding: 8bit\\\\r\\\\n')] = \"text/html\""
   ]
  },
  {
   "cell_type": "markdown",
   "metadata": {},
   "source": [
    "Adding Numeric, Boolean and others features"
   ]
  },
  {
   "cell_type": "code",
   "execution_count": 51,
   "metadata": {},
   "outputs": [
    {
     "name": "stderr",
     "output_type": "stream",
     "text": [
      "C:\\Users\\chandieka\\AppData\\Local\\Temp\\ipykernel_13476\\3274002611.py:4: UserWarning: This pattern is interpreted as a regular expression, and has match groups. To actually get the groups, use str.extract.\n",
      "  malicious_df['javascript'] = malicious_df.raw_mail.str.contains('(<script|.js)', case=False, regex=True)\n",
      "C:\\Users\\chandieka\\AppData\\Local\\Temp\\ipykernel_13476\\3274002611.py:6: UserWarning: This pattern is interpreted as a regular expression, and has match groups. To actually get the groups, use str.extract.\n",
      "  malicious_df['css'] = malicious_df.raw_mail.str.contains('(<style|\\.css)', case=False, regex=True)\n",
      "C:\\Users\\chandieka\\AppData\\Local\\Temp\\ipykernel_13476\\3274002611.py:8: UserWarning: This pattern is interpreted as a regular expression, and has match groups. To actually get the groups, use str.extract.\n",
      "  malicious_df['html_form'] = malicious_df.raw_mail.str.contains('(<form)', case=False, regex=True)\n"
     ]
    }
   ],
   "source": [
    "# Get email that contains html\n",
    "malicious_df['html'] = malicious_df.content_type.str.contains('text/html', case=False, regex=True)\n",
    "# Get email that contains javascript\n",
    "malicious_df['javascript'] = malicious_df.raw_mail.str.contains('(<script|.js)', case=False, regex=True)\n",
    "# Get email that contains css\n",
    "malicious_df['css'] = malicious_df.raw_mail.str.contains('(<style|\\.css)', case=False, regex=True)\n",
    "# Get email that contains html form\n",
    "malicious_df['html_form'] = malicious_df.raw_mail.str.contains('(<form)', case=False, regex=True)\n",
    "malicious_df['html_iframe'] = malicious_df.raw_mail.str.contains('<iframe', case=False, regex=True)"
   ]
  },
  {
   "cell_type": "code",
   "execution_count": 52,
   "metadata": {},
   "outputs": [
    {
     "name": "stderr",
     "output_type": "stream",
     "text": [
      "C:\\Users\\chandieka\\AppData\\Local\\Temp\\ipykernel_13476\\828125060.py:4: UserWarning: This pattern is interpreted as a regular expression, and has match groups. To actually get the groups, use str.extract.\n",
      "  enron_df['javascript'] = enron_df.raw_mail.str.contains('(<script|.js)', case=False, regex=True)\n",
      "C:\\Users\\chandieka\\AppData\\Local\\Temp\\ipykernel_13476\\828125060.py:6: UserWarning: This pattern is interpreted as a regular expression, and has match groups. To actually get the groups, use str.extract.\n",
      "  enron_df['css'] = enron_df.raw_mail.str.contains('(<style|\\.css)', case=False, regex=True)\n",
      "C:\\Users\\chandieka\\AppData\\Local\\Temp\\ipykernel_13476\\828125060.py:8: UserWarning: This pattern is interpreted as a regular expression, and has match groups. To actually get the groups, use str.extract.\n",
      "  enron_df['html_form'] = enron_df.raw_mail.str.contains('(<form)', case=False, regex=True)\n"
     ]
    }
   ],
   "source": [
    "# Get email that contains html\n",
    "enron_df['html'] = enron_df.content_type.str.contains('text/html', case=False, regex=True)\n",
    "# Get email that contains javascript\n",
    "enron_df['javascript'] = enron_df.raw_mail.str.contains('(<script|.js)', case=False, regex=True)\n",
    "# Get email that contains css\n",
    "enron_df['css'] = enron_df.raw_mail.str.contains('(<style|\\.css)', case=False, regex=True)\n",
    "# Get email that contains html form\n",
    "enron_df['html_form'] = enron_df.raw_mail.str.contains('(<form)', case=False, regex=True)\n",
    "enron_df['html_iframe'] = enron_df.raw_mail.str.contains('<iframe', case=False, regex=True)"
   ]
  },
  {
   "cell_type": "markdown",
   "metadata": {},
   "source": [
    "Count how many URLs is in the message body"
   ]
  },
  {
   "cell_type": "code",
   "execution_count": 53,
   "metadata": {},
   "outputs": [],
   "source": [
    "def getURLs(text):\n",
    "    count = len(re.findall(r'(https?://\\S+)', text))\n",
    "    return count"
   ]
  },
  {
   "cell_type": "code",
   "execution_count": 54,
   "metadata": {},
   "outputs": [],
   "source": [
    "malicious_df['URLs_in_message'] = malicious_df.body.apply(getURLs)"
   ]
  },
  {
   "cell_type": "code",
   "execution_count": 55,
   "metadata": {},
   "outputs": [],
   "source": [
    "enron_df['URLs_in_message'] = enron_df.body.apply(getURLs)"
   ]
  },
  {
   "cell_type": "markdown",
   "metadata": {},
   "source": [
    "Check if email contains attachement"
   ]
  },
  {
   "cell_type": "code",
   "execution_count": 56,
   "metadata": {},
   "outputs": [
    {
     "name": "stderr",
     "output_type": "stream",
     "text": [
      "C:\\Users\\chandieka\\AppData\\Local\\Temp\\ipykernel_13476\\1733998395.py:3: UserWarning: This pattern is interpreted as a regular expression, and has match groups. To actually get the groups, use str.extract.\n",
      "  malicious_df['attachement'] = malicious_df.body.str.contains(pattern, case=False)\n",
      "C:\\Users\\chandieka\\AppData\\Local\\Temp\\ipykernel_13476\\1733998395.py:4: UserWarning: This pattern is interpreted as a regular expression, and has match groups. To actually get the groups, use str.extract.\n",
      "  enron_df['attachement'] = enron_df.body.str.contains(pattern, case=False)\n"
     ]
    }
   ],
   "source": [
    "pattern = '\\.(doc|exe|msi|pdf|docx|doc|docm|ppt|pps|ppa|ppam|xls|xlsx|zip|rar|tar|gzip)'\n",
    "\n",
    "malicious_df['attachement'] = malicious_df.body.str.contains(pattern, case=False)\n",
    "enron_df['attachement'] = enron_df.body.str.contains(pattern, case=False)"
   ]
  },
  {
   "cell_type": "markdown",
   "metadata": {},
   "source": [
    "save results"
   ]
  },
  {
   "cell_type": "code",
   "execution_count": 57,
   "metadata": {},
   "outputs": [],
   "source": [
    "enron_df.to_csv('datasets/explored/enron-emails-explored.csv', index=False)\n",
    "malicious_df.to_csv('datasets/explored/malicious-emails-explored.csv', index=False)"
   ]
  }
 ],
 "metadata": {
  "kernelspec": {
   "display_name": "Python 3.9.12 ('base')",
   "language": "python",
   "name": "python3"
  },
  "language_info": {
   "codemirror_mode": {
    "name": "ipython",
    "version": 3
   },
   "file_extension": ".py",
   "mimetype": "text/x-python",
   "name": "python",
   "nbconvert_exporter": "python",
   "pygments_lexer": "ipython3",
   "version": "3.9.12"
  },
  "orig_nbformat": 4,
  "vscode": {
   "interpreter": {
    "hash": "3f83a4b8e1c187aca35894c8eeaad8267ead7007e3a6e08dfe58ab16c9dd478f"
   }
  }
 },
 "nbformat": 4,
 "nbformat_minor": 2
}
