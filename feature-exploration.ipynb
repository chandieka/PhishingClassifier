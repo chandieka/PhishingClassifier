{
 "cells": [
  {
   "cell_type": "markdown",
   "metadata": {},
   "source": [
    "## Import libraries"
   ]
  },
  {
   "cell_type": "code",
   "execution_count": 2,
   "metadata": {},
   "outputs": [],
   "source": [
    "import pandas as pd\n",
    "from datetime import datetime\n",
    "from dateutil import parser\n",
    "import re\n",
    "import email\n"
   ]
  },
  {
   "cell_type": "markdown",
   "metadata": {},
   "source": [
    "## Import Datasets to Pandas"
   ]
  },
  {
   "cell_type": "code",
   "execution_count": 3,
   "metadata": {},
   "outputs": [],
   "source": [
    "fraudDataframe = pd.read_csv('datasets/clean/fraud-emails.csv')\n",
    "phishingDataframe = pd.read_csv('datasets/clean/phishing-emails.csv')\n",
    "enronDataframe = pd.read_csv('datasets/clean/enron-emails.csv')"
   ]
  },
  {
   "cell_type": "code",
   "execution_count": 4,
   "metadata": {},
   "outputs": [],
   "source": [
    "malicious_df = pd.concat([fraudDataframe, phishingDataframe], ignore_index=True)\n",
    "enron_df = enronDataframe"
   ]
  },
  {
   "cell_type": "markdown",
   "metadata": {},
   "source": [
    "Run this if the index is save to the CSV"
   ]
  },
  {
   "cell_type": "code",
   "execution_count": 5,
   "metadata": {},
   "outputs": [],
   "source": [
    "malicious_df = malicious_df.drop(columns='Unnamed: 0')\n",
    "enron_df = enron_df.drop(columns=['Unnamed: 0','Unnamed: 0.1'])"
   ]
  },
  {
   "cell_type": "markdown",
   "metadata": {},
   "source": [
    "Extract extra informations that can be used as a features"
   ]
  },
  {
   "cell_type": "code",
   "execution_count": 6,
   "metadata": {},
   "outputs": [],
   "source": [
    "# this method is really inefficient and will take too long for larger datasets\n",
    "# \n",
    "\n",
    "def getExtraInfo(row):\n",
    "    try:\n",
    "        message = email.message_from_string(row.raw_mail)\n",
    "        row['content_type'] = message.get_content_type()      \n",
    "        row['charset'] = message.get_content_charset()\n",
    "        row['content_transfer_encoding'] = message['Content-Transfer-Encoding']\n",
    "        return row\n",
    "    except Exception as e:\n",
    "        return row\n",
    "\n",
    "malicious_df = malicious_df.apply(getExtraInfo, axis=1)"
   ]
  },
  {
   "cell_type": "markdown",
   "metadata": {},
   "source": [
    "If we used the method above for the enron_df it will take a lot longer (30+ minutes) then doing it like in the code bellow "
   ]
  },
  {
   "cell_type": "code",
   "execution_count": 7,
   "metadata": {},
   "outputs": [],
   "source": [
    "enron_df['content_type'] = enron_df.raw_mail.apply(lambda raw_mail: email.message_from_string(raw_mail).get_content_type())"
   ]
  },
  {
   "cell_type": "code",
   "execution_count": 8,
   "metadata": {},
   "outputs": [],
   "source": [
    "enron_df['charset'] = enron_df.raw_mail.apply(lambda raw_mail: email.message_from_string(raw_mail).get_content_charset())"
   ]
  },
  {
   "cell_type": "code",
   "execution_count": 9,
   "metadata": {},
   "outputs": [],
   "source": [
    "enron_df['content_transfer_encoding'] = enron_df.raw_mail.apply(lambda raw_mail: email.message_from_string(raw_mail)['Content-Transfer-Encoding'])"
   ]
  },
  {
   "cell_type": "markdown",
   "metadata": {},
   "source": [
    "Get the email domain used to send the email and the domain of the email for the receiver"
   ]
  },
  {
   "cell_type": "code",
   "execution_count": 10,
   "metadata": {},
   "outputs": [],
   "source": [
    "malicious_df['from_domain'] = malicious_df.parsed_from.str.split('@', expand=True)[1]\n",
    "malicious_df['to_domain'] = malicious_df.parsed_from.str.split('@', expand=True)[1]"
   ]
  },
  {
   "cell_type": "code",
   "execution_count": 11,
   "metadata": {},
   "outputs": [
    {
     "data": {
      "text/plain": [
       "to_domain\n",
       "example.com         3204\n",
       "M                   1328\n",
       "domain.com           733\n",
       "S                    358\n",
       "aclweb.org           297\n",
       "                    ... \n",
       "portugalmail.com       1\n",
       "alibi.com.mk           1\n",
       "jrocha.com.br          1\n",
       "bluemail.ch            1\n",
       "123.                   1\n",
       "Name: from_domain, Length: 321, dtype: int64"
      ]
     },
     "execution_count": 11,
     "metadata": {},
     "output_type": "execute_result"
    }
   ],
   "source": [
    "(malicious_df.groupby(['to_domain']).from_domain.count()).sort_values(ascending=False)"
   ]
  },
  {
   "cell_type": "code",
   "execution_count": 12,
   "metadata": {},
   "outputs": [],
   "source": [
    "enron_df['from_domain'] = enron_df.parsed_from.str.split('@', expand=True)[1]\n",
    "enron_df['to_domain'] = enron_df.parsed_from.str.split('@', expand=True)[1]"
   ]
  },
  {
   "cell_type": "code",
   "execution_count": 13,
   "metadata": {},
   "outputs": [
    {
     "data": {
      "text/plain": [
       "to_domain\n",
       "enron.com                 427784\n",
       "aol.com                     2803\n",
       "hotmail.com                 2427\n",
       "mailman.enron.com           1775\n",
       "txu.com                     1653\n",
       "                           ...  \n",
       "learningstrategies.com         1\n",
       "leasinggroup.com               1\n",
       "lexgen.com                     1\n",
       "lexis-nexis.com                1\n",
       "zzz2.net                       1\n",
       "Name: from_domain, Length: 5289, dtype: int64"
      ]
     },
     "execution_count": 13,
     "metadata": {},
     "output_type": "execute_result"
    }
   ],
   "source": [
    "(enron_df.groupby(['to_domain']).from_domain.count()).sort_values(ascending=False)"
   ]
  },
  {
   "cell_type": "markdown",
   "metadata": {},
   "source": [
    "Clean some inconsistensy in the content_type and content_transfer_encoding columns"
   ]
  },
  {
   "cell_type": "code",
   "execution_count": 14,
   "metadata": {},
   "outputs": [
    {
     "name": "stdout",
     "output_type": "stream",
     "text": [
      "['text/plain' 'multipart/mixed' 'multipart/alternative' 'text/html'\n",
      " 'multipart/related' 'text/html content-transfer-encoding: 8bit\\\\r\\\\n'\n",
      " 'text/htmlcontent-transfer-encoding:8bitrn']\n",
      "raw_mail                        0\n",
      "subject                        38\n",
      "from                         1043\n",
      "to                           1043\n",
      "status                        363\n",
      "date                            0\n",
      "body                            0\n",
      "parsed_from                     0\n",
      "parsed_to                       0\n",
      "parsed_date                     0\n",
      "malicious                       0\n",
      "content_type                    0\n",
      "charset                      4217\n",
      "content_transfer_encoding    4021\n",
      "from_domain                     0\n",
      "to_domain                       0\n",
      "dtype: int64\n"
     ]
    }
   ],
   "source": [
    "print(malicious_df.content_type.unique())\n",
    "print(malicious_df.isna().sum())"
   ]
  },
  {
   "cell_type": "code",
   "execution_count": 15,
   "metadata": {},
   "outputs": [
    {
     "name": "stdout",
     "output_type": "stream",
     "text": [
      "['text/plain']\n",
      "raw_mail                          0\n",
      "subject                           0\n",
      "from                              0\n",
      "to                            21847\n",
      "status                       517401\n",
      "date                              0\n",
      "body                              0\n",
      "parsed_from                       0\n",
      "parsed_to                         0\n",
      "parsed_date                       0\n",
      "malicious                         0\n",
      "content_type                      0\n",
      "charset                          29\n",
      "content_transfer_encoding        29\n",
      "from_domain                       0\n",
      "to_domain                         0\n",
      "dtype: int64\n"
     ]
    }
   ],
   "source": [
    "print(enron_df.content_type.unique())\n",
    "print(enron_df.isna().sum())"
   ]
  },
  {
   "cell_type": "code",
   "execution_count": 16,
   "metadata": {},
   "outputs": [
    {
     "name": "stderr",
     "output_type": "stream",
     "text": [
      "C:\\Users\\chandieka\\AppData\\Local\\Temp\\ipykernel_7732\\3384894740.py:1: SettingWithCopyWarning: \n",
      "A value is trying to be set on a copy of a slice from a DataFrame\n",
      "\n",
      "See the caveats in the documentation: https://pandas.pydata.org/pandas-docs/stable/user_guide/indexing.html#returning-a-view-versus-a-copy\n",
      "  malicious_df.content_transfer_encoding.loc[\n"
     ]
    }
   ],
   "source": [
    "malicious_df.content_transfer_encoding.loc[\n",
    "    (malicious_df.content_type == 'text/htmlcontent-transfer-encoding:8bitrn') | \n",
    "    (malicious_df.content_type == 'text/html content-transfer-encoding: 8bit\\\\r\\\\n')] = '8bit'"
   ]
  },
  {
   "cell_type": "code",
   "execution_count": 17,
   "metadata": {},
   "outputs": [
    {
     "name": "stderr",
     "output_type": "stream",
     "text": [
      "C:\\Users\\chandieka\\AppData\\Local\\Temp\\ipykernel_7732\\2100451434.py:1: SettingWithCopyWarning: \n",
      "A value is trying to be set on a copy of a slice from a DataFrame\n",
      "\n",
      "See the caveats in the documentation: https://pandas.pydata.org/pandas-docs/stable/user_guide/indexing.html#returning-a-view-versus-a-copy\n",
      "  malicious_df.content_type.loc[\n"
     ]
    }
   ],
   "source": [
    "malicious_df.content_type.loc[\n",
    "    (malicious_df.content_type == 'text/htmlcontent-transfer-encoding:8bitrn') | \n",
    "    (malicious_df.content_type == 'text/html content-transfer-encoding: 8bit\\\\r\\\\n')] = \"text/html\""
   ]
  },
  {
   "cell_type": "markdown",
   "metadata": {},
   "source": [
    "Adding Numeric, Boolean and others features"
   ]
  },
  {
   "cell_type": "code",
   "execution_count": 18,
   "metadata": {},
   "outputs": [
    {
     "name": "stderr",
     "output_type": "stream",
     "text": [
      "C:\\Users\\chandieka\\AppData\\Local\\Temp\\ipykernel_7732\\203773983.py:4: UserWarning: This pattern is interpreted as a regular expression, and has match groups. To actually get the groups, use str.extract.\n",
      "  malicious_df['javascript'] = malicious_df.raw_mail.str.contains('(<script|.js)', case=False, regex=True)\n",
      "C:\\Users\\chandieka\\AppData\\Local\\Temp\\ipykernel_7732\\203773983.py:6: UserWarning: This pattern is interpreted as a regular expression, and has match groups. To actually get the groups, use str.extract.\n",
      "  malicious_df['css'] = malicious_df.raw_mail.str.contains('(<style|\\.css)', case=False, regex=True)\n",
      "C:\\Users\\chandieka\\AppData\\Local\\Temp\\ipykernel_7732\\203773983.py:8: UserWarning: This pattern is interpreted as a regular expression, and has match groups. To actually get the groups, use str.extract.\n",
      "  malicious_df['html_form'] = malicious_df.raw_mail.str.contains('(<form)', case=False, regex=True)\n"
     ]
    }
   ],
   "source": [
    "# Get email that contains html\n",
    "malicious_df['html'] = malicious_df.content_type.str.contains('text/html', case=False, regex=True)\n",
    "# Get email that contains javascript\n",
    "malicious_df['javascript'] = malicious_df.raw_mail.str.contains('(<script|.js)', case=False, regex=True)\n",
    "# Get email that contains css\n",
    "malicious_df['css'] = malicious_df.raw_mail.str.contains('(<style|\\.css)', case=False, regex=True)\n",
    "# Get email that contains html form\n",
    "malicious_df['html_form'] = malicious_df.raw_mail.str.contains('(<form)', case=False, regex=True)\n",
    "malicious_df['html_iframe'] = malicious_df.raw_mail.str.contains('<iframe', case=False, regex=True)"
   ]
  },
  {
   "cell_type": "code",
   "execution_count": 24,
   "metadata": {},
   "outputs": [],
   "source": [
    "def getURLs(text):\n",
    "    count = len(re.findall(r'(https?://\\S+)', text))\n",
    "    return count\n",
    "\n",
    "malicious_df['URLs_in_message'] = malicious_df.body.apply(getURLs)"
   ]
  },
  {
   "cell_type": "code",
   "execution_count": 26,
   "metadata": {},
   "outputs": [
    {
     "name": "stderr",
     "output_type": "stream",
     "text": [
      "C:\\Users\\chandieka\\AppData\\Local\\Temp\\ipykernel_7732\\828125060.py:4: UserWarning: This pattern is interpreted as a regular expression, and has match groups. To actually get the groups, use str.extract.\n",
      "  enron_df['javascript'] = enron_df.raw_mail.str.contains('(<script|.js)', case=False, regex=True)\n",
      "C:\\Users\\chandieka\\AppData\\Local\\Temp\\ipykernel_7732\\828125060.py:6: UserWarning: This pattern is interpreted as a regular expression, and has match groups. To actually get the groups, use str.extract.\n",
      "  enron_df['css'] = enron_df.raw_mail.str.contains('(<style|\\.css)', case=False, regex=True)\n",
      "C:\\Users\\chandieka\\AppData\\Local\\Temp\\ipykernel_7732\\828125060.py:8: UserWarning: This pattern is interpreted as a regular expression, and has match groups. To actually get the groups, use str.extract.\n",
      "  enron_df['html_form'] = enron_df.raw_mail.str.contains('(<form)', case=False, regex=True)\n"
     ]
    }
   ],
   "source": [
    "# Get email that contains html\n",
    "enron_df['html'] = enron_df.content_type.str.contains('text/html', case=False, regex=True)\n",
    "# Get email that contains javascript\n",
    "enron_df['javascript'] = enron_df.raw_mail.str.contains('(<script|.js)', case=False, regex=True)\n",
    "# Get email that contains css\n",
    "enron_df['css'] = enron_df.raw_mail.str.contains('(<style|\\.css)', case=False, regex=True)\n",
    "# Get email that contains html form\n",
    "enron_df['html_form'] = enron_df.raw_mail.str.contains('(<form)', case=False, regex=True)\n",
    "enron_df['html_iframe'] = enron_df.raw_mail.str.contains('<iframe', case=False, regex=True)"
   ]
  },
  {
   "cell_type": "code",
   "execution_count": null,
   "metadata": {},
   "outputs": [],
   "source": [
    "enron_df['URLs_in_message'] = enron_df.body.apply(getURLs)\n"
   ]
  },
  {
   "cell_type": "markdown",
   "metadata": {},
   "source": [
    "save results"
   ]
  },
  {
   "cell_type": "code",
   "execution_count": 27,
   "metadata": {},
   "outputs": [],
   "source": [
    "enron_df.to_csv('datasets/explored/enron-emails-explored.csv', index=False)\n",
    "malicious_df.to_csv('datasets/explored/malicious-emails-explored.csv', index=False)"
   ]
  }
 ],
 "metadata": {
  "kernelspec": {
   "display_name": "Python 3.9.12 ('base')",
   "language": "python",
   "name": "python3"
  },
  "language_info": {
   "codemirror_mode": {
    "name": "ipython",
    "version": 3
   },
   "file_extension": ".py",
   "mimetype": "text/x-python",
   "name": "python",
   "nbconvert_exporter": "python",
   "pygments_lexer": "ipython3",
   "version": "3.9.12"
  },
  "orig_nbformat": 4,
  "vscode": {
   "interpreter": {
    "hash": "3f83a4b8e1c187aca35894c8eeaad8267ead7007e3a6e08dfe58ab16c9dd478f"
   }
  }
 },
 "nbformat": 4,
 "nbformat_minor": 2
}
