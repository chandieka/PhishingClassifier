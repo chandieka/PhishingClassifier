{
 "cells": [
  {
   "cell_type": "markdown",
   "metadata": {},
   "source": [
    "# import libraries"
   ]
  },
  {
   "cell_type": "code",
   "execution_count": 1,
   "metadata": {},
   "outputs": [],
   "source": [
    "import pandas as pd\n",
    "from datetime import datetime\n",
    "from dateutil import parser\n",
    "import re"
   ]
  },
  {
   "cell_type": "markdown",
   "metadata": {},
   "source": [
    "Parse the datasets into dataframe"
   ]
  },
  {
   "cell_type": "code",
   "execution_count": 2,
   "metadata": {},
   "outputs": [],
   "source": [
    "fraudDataframe = pd.read_json('datasets/fradulent_emails.json', orient='index')\n",
    "phishingDataframe = pd.read_json('datasets/phishing-chorpus.json', orient='index')\n",
    "enronDataframe = pd.read_csv('datasets/enron-emails.csv')"
   ]
  },
  {
   "cell_type": "code",
   "execution_count": 3,
   "metadata": {},
   "outputs": [
    {
     "name": "stdout",
     "output_type": "stream",
     "text": [
      "<class 'pandas.core.frame.DataFrame'>\n",
      "Int64Index: 3978 entries, 0 to 3977\n",
      "Data columns (total 7 columns):\n",
      " #   Column    Non-Null Count  Dtype \n",
      "---  ------    --------------  ----- \n",
      " 0   raw_mail  3978 non-null   object\n",
      " 1   subject   3978 non-null   object\n",
      " 2   from      3978 non-null   object\n",
      " 3   to        3978 non-null   object\n",
      " 4   status    3978 non-null   object\n",
      " 5   date      3978 non-null   object\n",
      " 6   body      3978 non-null   object\n",
      "dtypes: object(7)\n",
      "memory usage: 248.6+ KB\n",
      "None\n"
     ]
    },
    {
     "data": {
      "text/html": [
       "<div>\n",
       "<style scoped>\n",
       "    .dataframe tbody tr th:only-of-type {\n",
       "        vertical-align: middle;\n",
       "    }\n",
       "\n",
       "    .dataframe tbody tr th {\n",
       "        vertical-align: top;\n",
       "    }\n",
       "\n",
       "    .dataframe thead th {\n",
       "        text-align: right;\n",
       "    }\n",
       "</style>\n",
       "<table border=\"1\" class=\"dataframe\">\n",
       "  <thead>\n",
       "    <tr style=\"text-align: right;\">\n",
       "      <th></th>\n",
       "      <th>raw_mail</th>\n",
       "      <th>subject</th>\n",
       "      <th>from</th>\n",
       "      <th>to</th>\n",
       "      <th>status</th>\n",
       "      <th>date</th>\n",
       "      <th>body</th>\n",
       "    </tr>\n",
       "  </thead>\n",
       "  <tbody>\n",
       "    <tr>\n",
       "      <th>3627</th>\n",
       "      <td>Return-Path: &lt;jj_w_james1w@yahoo.co.uk&gt;\\nX-Sie...</td>\n",
       "      <td>QUICK RESPONSE....</td>\n",
       "      <td>James Willams &lt;jj_w_james1w@yahoo.co.uk&gt;</td>\n",
       "      <td>undisclosed-recipients:;</td>\n",
       "      <td>O</td>\n",
       "      <td>Wed,  4 Apr 2007 15:20:30 +0200</td>\n",
       "      <td>\\n&gt;From The Office of The Director of\\nInterna...</td>\n",
       "    </tr>\n",
       "    <tr>\n",
       "      <th>1620</th>\n",
       "      <td>Return-Path: &lt;sun_moyo0080@hotmail.com&gt;\\nX-Sie...</td>\n",
       "      <td>FAMILY REQUEST FOR HELP</td>\n",
       "      <td>\"sun moyo\" &lt;sun_moyo0080@hotmail.com&gt;</td>\n",
       "      <td>sun_moyo0080@hotmail.com</td>\n",
       "      <td>RO</td>\n",
       "      <td>Sat, 07 May 2005 12:22:05 +0200</td>\n",
       "      <td>FROM SUN MOYO\\nTEL:27- 83-480-3360\\nE-mail : s...</td>\n",
       "    </tr>\n",
       "    <tr>\n",
       "      <th>2780</th>\n",
       "      <td>Return-Path: &lt;benejones707@adinet.com.uy&gt;\\nX-S...</td>\n",
       "      <td>Dearest in Christ, pls treat with a honest mind</td>\n",
       "      <td>Bene Jones &lt;benejones707@adinet.com.uy&gt;</td>\n",
       "      <td>None</td>\n",
       "      <td>RO</td>\n",
       "      <td>Tue, 4 Jul 2006 12:14:57 -0300 (UYT)</td>\n",
       "      <td>Dearest in Christ, pls treat with a honest min...</td>\n",
       "    </tr>\n",
       "    <tr>\n",
       "      <th>461</th>\n",
       "      <td>Return-Path: &lt;port1.net@email.it&gt;\\nMessage-Id:...</td>\n",
       "      <td>REPLY SOON</td>\n",
       "      <td>\"MOHAMMED\" &lt;port1.net@email.it&gt;</td>\n",
       "      <td>\"patelnikes4you\" &lt;patelnikes4you@yahoo.ca&gt;</td>\n",
       "      <td>O</td>\n",
       "      <td>None</td>\n",
       "      <td>VERY URGENT AND STRICTLY CONFIDENTIAL BUSINESS...</td>\n",
       "    </tr>\n",
       "    <tr>\n",
       "      <th>1193</th>\n",
       "      <td>Return-Path: &lt;s_patricekolingba@jumpy.it&gt;\\nX-S...</td>\n",
       "      <td>Urgent&amp; Confidential</td>\n",
       "      <td>s_patricekolingba@jumpy.it</td>\n",
       "      <td>None</td>\n",
       "      <td>RO</td>\n",
       "      <td>None</td>\n",
       "      <td>DEAR \\nI AM MRS SUSSY ANDER KOLINGBA I SUBMITE...</td>\n",
       "    </tr>\n",
       "  </tbody>\n",
       "</table>\n",
       "</div>"
      ],
      "text/plain": [
       "                                               raw_mail  \\\n",
       "3627  Return-Path: <jj_w_james1w@yahoo.co.uk>\\nX-Sie...   \n",
       "1620  Return-Path: <sun_moyo0080@hotmail.com>\\nX-Sie...   \n",
       "2780  Return-Path: <benejones707@adinet.com.uy>\\nX-S...   \n",
       "461   Return-Path: <port1.net@email.it>\\nMessage-Id:...   \n",
       "1193  Return-Path: <s_patricekolingba@jumpy.it>\\nX-S...   \n",
       "\n",
       "                                              subject  \\\n",
       "3627                              QUICK RESPONSE....    \n",
       "1620                         FAMILY REQUEST FOR HELP    \n",
       "2780  Dearest in Christ, pls treat with a honest mind   \n",
       "461                                        REPLY SOON   \n",
       "1193                             Urgent& Confidential   \n",
       "\n",
       "                                          from  \\\n",
       "3627  James Willams <jj_w_james1w@yahoo.co.uk>   \n",
       "1620     \"sun moyo\" <sun_moyo0080@hotmail.com>   \n",
       "2780   Bene Jones <benejones707@adinet.com.uy>   \n",
       "461            \"MOHAMMED\" <port1.net@email.it>   \n",
       "1193                s_patricekolingba@jumpy.it   \n",
       "\n",
       "                                              to status  \\\n",
       "3627                    undisclosed-recipients:;      O   \n",
       "1620                    sun_moyo0080@hotmail.com     RO   \n",
       "2780                                        None     RO   \n",
       "461   \"patelnikes4you\" <patelnikes4you@yahoo.ca>      O   \n",
       "1193                                        None     RO   \n",
       "\n",
       "                                      date  \\\n",
       "3627       Wed,  4 Apr 2007 15:20:30 +0200   \n",
       "1620       Sat, 07 May 2005 12:22:05 +0200   \n",
       "2780  Tue, 4 Jul 2006 12:14:57 -0300 (UYT)   \n",
       "461                                   None   \n",
       "1193                                  None   \n",
       "\n",
       "                                                   body  \n",
       "3627  \\n>From The Office of The Director of\\nInterna...  \n",
       "1620  FROM SUN MOYO\\nTEL:27- 83-480-3360\\nE-mail : s...  \n",
       "2780  Dearest in Christ, pls treat with a honest min...  \n",
       "461   VERY URGENT AND STRICTLY CONFIDENTIAL BUSINESS...  \n",
       "1193  DEAR \\nI AM MRS SUSSY ANDER KOLINGBA I SUBMITE...  "
      ]
     },
     "execution_count": 3,
     "metadata": {},
     "output_type": "execute_result"
    }
   ],
   "source": [
    "print(fraudDataframe.info())\n",
    "fraudDataframe.sample(5)\n"
   ]
  },
  {
   "cell_type": "code",
   "execution_count": 4,
   "metadata": {},
   "outputs": [
    {
     "name": "stdout",
     "output_type": "stream",
     "text": [
      "<class 'pandas.core.frame.DataFrame'>\n",
      "Int64Index: 4196 entries, 0 to 4195\n",
      "Data columns (total 7 columns):\n",
      " #   Column    Non-Null Count  Dtype \n",
      "---  ------    --------------  ----- \n",
      " 0   raw_mail  4196 non-null   object\n",
      " 1   subject   4196 non-null   object\n",
      " 2   from      4196 non-null   object\n",
      " 3   to        4196 non-null   object\n",
      " 4   status    4196 non-null   object\n",
      " 5   date      4196 non-null   object\n",
      " 6   body      4196 non-null   object\n",
      "dtypes: object(7)\n",
      "memory usage: 262.2+ KB\n",
      "None\n"
     ]
    },
    {
     "data": {
      "text/html": [
       "<div>\n",
       "<style scoped>\n",
       "    .dataframe tbody tr th:only-of-type {\n",
       "        vertical-align: middle;\n",
       "    }\n",
       "\n",
       "    .dataframe tbody tr th {\n",
       "        vertical-align: top;\n",
       "    }\n",
       "\n",
       "    .dataframe thead th {\n",
       "        text-align: right;\n",
       "    }\n",
       "</style>\n",
       "<table border=\"1\" class=\"dataframe\">\n",
       "  <thead>\n",
       "    <tr style=\"text-align: right;\">\n",
       "      <th></th>\n",
       "      <th>raw_mail</th>\n",
       "      <th>subject</th>\n",
       "      <th>from</th>\n",
       "      <th>to</th>\n",
       "      <th>status</th>\n",
       "      <th>date</th>\n",
       "      <th>body</th>\n",
       "    </tr>\n",
       "  </thead>\n",
       "  <tbody>\n",
       "    <tr>\n",
       "      <th>3716</th>\n",
       "      <td>Return-Path: &lt;corporateservice.ref148995549485...</td>\n",
       "      <td>Online client form released! (message id: xa31...</td>\n",
       "      <td>\"Regions Bank\" &lt;corporateservice.ref1489955494...</td>\n",
       "      <td>user &lt;user@example.com&gt;</td>\n",
       "      <td>O</td>\n",
       "      <td>Sat, 12 May 2007 14:29:15 -0400 (EDT)</td>\n",
       "      <td>&lt;head&gt;\\r\\n&lt;meta      http-equiv=\"Content-Type\"...</td>\n",
       "    </tr>\n",
       "    <tr>\n",
       "      <th>747</th>\n",
       "      <td>Return-Path: &lt;fraud-protection-debit-mahgtvb@w...</td>\n",
       "      <td>Regarding wamu Checking account Urgent Update ...</td>\n",
       "      <td>&lt;fraud-protection-debit-mahgtsq@wamu.com&gt;</td>\n",
       "      <td>&lt;username@domain.com&gt;</td>\n",
       "      <td>RO</td>\n",
       "      <td>Fri, 14 Jan 2005 14:17:59 -0500</td>\n",
       "      <td>&lt;html&gt;\\r\\n&lt;title&gt; Your Wamu.com Account Verifi...</td>\n",
       "    </tr>\n",
       "    <tr>\n",
       "      <th>434</th>\n",
       "      <td>Return-Path: &lt;eBay.705443.55099.0@reply3.ebay....</td>\n",
       "      <td>$25,000 in Cash Prizes Every Day. Play eBay Tr...</td>\n",
       "      <td>\"eBay\" &lt;eBay@reply3.ebay.com&gt;</td>\n",
       "      <td>username@domain.com</td>\n",
       "      <td>O</td>\n",
       "      <td>Thu, 17 Feb 2005 00:02:18 -0800</td>\n",
       "      <td>eBay =3D=3D&gt; http://click3.ebay.com/705443.550...</td>\n",
       "    </tr>\n",
       "    <tr>\n",
       "      <th>2838</th>\n",
       "      <td>Return-Path: &lt;he@paris1.monkey.org&gt;\\nX-Origina...</td>\n",
       "      <td>Warning Notification!</td>\n",
       "      <td>PayPal Update! &lt;Update@PayPal.com&gt;</td>\n",
       "      <td>user@example.com</td>\n",
       "      <td>RO</td>\n",
       "      <td>Tue, 8 Aug 2006 19:03:41 +0800</td>\n",
       "      <td>\\r\\n&lt;!DOCTYPE HTML PUBLIC \"-//W3C//DTD HTML 4....</td>\n",
       "    </tr>\n",
       "    <tr>\n",
       "      <th>1269</th>\n",
       "      <td>Return-Path: &lt;security@paypal.com&gt;\\nX-Original...</td>\n",
       "      <td>IMPORTANT : UPDATE YOUR PAYPAL ACCOUNT</td>\n",
       "      <td>\"service@paypal.com\" &lt;service@email.paypal.com&gt;</td>\n",
       "      <td>nobody@example.com, provos@example.com</td>\n",
       "      <td>RO</td>\n",
       "      <td>Tue, 03 Jan 2006 06:19:05 +0400</td>\n",
       "      <td>&lt;html&gt;\\r\\n\\r\\n\\r\\n\\r\\n\\r\\n\\r\\n\\r\\n\\r\\n&lt;head&gt;\\r...</td>\n",
       "    </tr>\n",
       "  </tbody>\n",
       "</table>\n",
       "</div>"
      ],
      "text/plain": [
       "                                               raw_mail  \\\n",
       "3716  Return-Path: <corporateservice.ref148995549485...   \n",
       "747   Return-Path: <fraud-protection-debit-mahgtvb@w...   \n",
       "434   Return-Path: <eBay.705443.55099.0@reply3.ebay....   \n",
       "2838  Return-Path: <he@paris1.monkey.org>\\nX-Origina...   \n",
       "1269  Return-Path: <security@paypal.com>\\nX-Original...   \n",
       "\n",
       "                                                subject  \\\n",
       "3716  Online client form released! (message id: xa31...   \n",
       "747   Regarding wamu Checking account Urgent Update ...   \n",
       "434   $25,000 in Cash Prizes Every Day. Play eBay Tr...   \n",
       "2838                              Warning Notification!   \n",
       "1269             IMPORTANT : UPDATE YOUR PAYPAL ACCOUNT   \n",
       "\n",
       "                                                   from  \\\n",
       "3716  \"Regions Bank\" <corporateservice.ref1489955494...   \n",
       "747           <fraud-protection-debit-mahgtsq@wamu.com>   \n",
       "434                       \"eBay\" <eBay@reply3.ebay.com>   \n",
       "2838                 PayPal Update! <Update@PayPal.com>   \n",
       "1269    \"service@paypal.com\" <service@email.paypal.com>   \n",
       "\n",
       "                                          to status  \\\n",
       "3716                 user <user@example.com>      O   \n",
       "747                    <username@domain.com>     RO   \n",
       "434                      username@domain.com      O   \n",
       "2838                        user@example.com     RO   \n",
       "1269  nobody@example.com, provos@example.com     RO   \n",
       "\n",
       "                                       date  \\\n",
       "3716  Sat, 12 May 2007 14:29:15 -0400 (EDT)   \n",
       "747         Fri, 14 Jan 2005 14:17:59 -0500   \n",
       "434         Thu, 17 Feb 2005 00:02:18 -0800   \n",
       "2838         Tue, 8 Aug 2006 19:03:41 +0800   \n",
       "1269        Tue, 03 Jan 2006 06:19:05 +0400   \n",
       "\n",
       "                                                   body  \n",
       "3716  <head>\\r\\n<meta      http-equiv=\"Content-Type\"...  \n",
       "747   <html>\\r\\n<title> Your Wamu.com Account Verifi...  \n",
       "434   eBay =3D=3D> http://click3.ebay.com/705443.550...  \n",
       "2838  \\r\\n<!DOCTYPE HTML PUBLIC \"-//W3C//DTD HTML 4....  \n",
       "1269  <html>\\r\\n\\r\\n\\r\\n\\r\\n\\r\\n\\r\\n\\r\\n\\r\\n<head>\\r...  "
      ]
     },
     "execution_count": 4,
     "metadata": {},
     "output_type": "execute_result"
    }
   ],
   "source": [
    "print(phishingDataframe.info())\n",
    "phishingDataframe.sample(5)"
   ]
  },
  {
   "cell_type": "code",
   "execution_count": 5,
   "metadata": {},
   "outputs": [
    {
     "name": "stdout",
     "output_type": "stream",
     "text": [
      "<class 'pandas.core.frame.DataFrame'>\n",
      "RangeIndex: 517401 entries, 0 to 517400\n",
      "Data columns (total 8 columns):\n",
      " #   Column      Non-Null Count   Dtype  \n",
      "---  ------      --------------   -----  \n",
      " 0   Unnamed: 0  517401 non-null  int64  \n",
      " 1   raw_mail    517401 non-null  object \n",
      " 2   subject     498214 non-null  object \n",
      " 3   from        517401 non-null  object \n",
      " 4   to          495554 non-null  object \n",
      " 5   status      0 non-null       float64\n",
      " 6   date        517401 non-null  object \n",
      " 7   body        517401 non-null  object \n",
      "dtypes: float64(1), int64(1), object(6)\n",
      "memory usage: 31.6+ MB\n",
      "None\n"
     ]
    },
    {
     "data": {
      "text/html": [
       "<div>\n",
       "<style scoped>\n",
       "    .dataframe tbody tr th:only-of-type {\n",
       "        vertical-align: middle;\n",
       "    }\n",
       "\n",
       "    .dataframe tbody tr th {\n",
       "        vertical-align: top;\n",
       "    }\n",
       "\n",
       "    .dataframe thead th {\n",
       "        text-align: right;\n",
       "    }\n",
       "</style>\n",
       "<table border=\"1\" class=\"dataframe\">\n",
       "  <thead>\n",
       "    <tr style=\"text-align: right;\">\n",
       "      <th></th>\n",
       "      <th>Unnamed: 0</th>\n",
       "      <th>raw_mail</th>\n",
       "      <th>subject</th>\n",
       "      <th>from</th>\n",
       "      <th>to</th>\n",
       "      <th>status</th>\n",
       "      <th>date</th>\n",
       "      <th>body</th>\n",
       "    </tr>\n",
       "  </thead>\n",
       "  <tbody>\n",
       "    <tr>\n",
       "      <th>353958</th>\n",
       "      <td>353958</td>\n",
       "      <td>Message-ID: &lt;26960443.1075842913317.JavaMail.e...</td>\n",
       "      <td>Law Conference -- CLE &amp; CPE Credit</td>\n",
       "      <td>gerald.nemec@enron.com</td>\n",
       "      <td>becky.zikes@enron.com</td>\n",
       "      <td>NaN</td>\n",
       "      <td>Wed, 30 May 2001 11:39:00 -0700 (PDT)</td>\n",
       "      <td>Becky,  I attended the Thursday session.  Plea...</td>\n",
       "    </tr>\n",
       "    <tr>\n",
       "      <th>480731</th>\n",
       "      <td>480731</td>\n",
       "      <td>Message-ID: &lt;16393071.1075860019184.JavaMail.e...</td>\n",
       "      <td>Chicago Board of Trade Comment Letter</td>\n",
       "      <td>rbaird@velaw.com</td>\n",
       "      <td>mark.taylor@enron.com</td>\n",
       "      <td>NaN</td>\n",
       "      <td>Thu, 24 Aug 2000 10:12:00 -0700 (PDT)</td>\n",
       "      <td>Mark Taylor: This is the comment letter I re...</td>\n",
       "    </tr>\n",
       "    <tr>\n",
       "      <th>207096</th>\n",
       "      <td>207096</td>\n",
       "      <td>Message-ID: &lt;23128245.1075856299584.JavaMail.e...</td>\n",
       "      <td>E-mail Addresses of NEVRL Video Conference Par...</td>\n",
       "      <td>bonnie.s.stoll@us.arthurandersen.com</td>\n",
       "      <td>victor.a.burk@us.arthurandersen.com, angela.a....</td>\n",
       "      <td>NaN</td>\n",
       "      <td>Fri, 11 Aug 2000 02:46:00 -0700 (PDT)</td>\n",
       "      <td>Following are email addresses of all who parti...</td>\n",
       "    </tr>\n",
       "    <tr>\n",
       "      <th>416795</th>\n",
       "      <td>416795</td>\n",
       "      <td>Message-ID: &lt;2148240.1075844417626.JavaMail.ev...</td>\n",
       "      <td>Equity derivative resolution</td>\n",
       "      <td>clint.freeland@enron.com</td>\n",
       "      <td>tim.despain@enron.com, jeff.nogid@enron.com, s...</td>\n",
       "      <td>NaN</td>\n",
       "      <td>Mon, 16 Oct 2000 09:48:00 -0700 (PDT)</td>\n",
       "      <td>All -\\nJust a short note to let you know that ...</td>\n",
       "    </tr>\n",
       "    <tr>\n",
       "      <th>81657</th>\n",
       "      <td>81657</td>\n",
       "      <td>Message-ID: &lt;18266122.1075843861715.JavaMail.e...</td>\n",
       "      <td>Re: PUC Approves DWR Language in Decision; Rem...</td>\n",
       "      <td>jeff.dasovich@enron.com</td>\n",
       "      <td>william.gang@enron.com</td>\n",
       "      <td>NaN</td>\n",
       "      <td>Thu, 8 Mar 2001 02:17:00 -0800 (PST)</td>\n",
       "      <td>No.  The decision would have prevented the Com...</td>\n",
       "    </tr>\n",
       "  </tbody>\n",
       "</table>\n",
       "</div>"
      ],
      "text/plain": [
       "        Unnamed: 0                                           raw_mail  \\\n",
       "353958      353958  Message-ID: <26960443.1075842913317.JavaMail.e...   \n",
       "480731      480731  Message-ID: <16393071.1075860019184.JavaMail.e...   \n",
       "207096      207096  Message-ID: <23128245.1075856299584.JavaMail.e...   \n",
       "416795      416795  Message-ID: <2148240.1075844417626.JavaMail.ev...   \n",
       "81657        81657  Message-ID: <18266122.1075843861715.JavaMail.e...   \n",
       "\n",
       "                                                  subject  \\\n",
       "353958                 Law Conference -- CLE & CPE Credit   \n",
       "480731              Chicago Board of Trade Comment Letter   \n",
       "207096  E-mail Addresses of NEVRL Video Conference Par...   \n",
       "416795                       Equity derivative resolution   \n",
       "81657   Re: PUC Approves DWR Language in Decision; Rem...   \n",
       "\n",
       "                                        from  \\\n",
       "353958                gerald.nemec@enron.com   \n",
       "480731                      rbaird@velaw.com   \n",
       "207096  bonnie.s.stoll@us.arthurandersen.com   \n",
       "416795              clint.freeland@enron.com   \n",
       "81657                jeff.dasovich@enron.com   \n",
       "\n",
       "                                                       to  status  \\\n",
       "353958                              becky.zikes@enron.com     NaN   \n",
       "480731                              mark.taylor@enron.com     NaN   \n",
       "207096  victor.a.burk@us.arthurandersen.com, angela.a....     NaN   \n",
       "416795  tim.despain@enron.com, jeff.nogid@enron.com, s...     NaN   \n",
       "81657                              william.gang@enron.com     NaN   \n",
       "\n",
       "                                         date  \\\n",
       "353958  Wed, 30 May 2001 11:39:00 -0700 (PDT)   \n",
       "480731  Thu, 24 Aug 2000 10:12:00 -0700 (PDT)   \n",
       "207096  Fri, 11 Aug 2000 02:46:00 -0700 (PDT)   \n",
       "416795  Mon, 16 Oct 2000 09:48:00 -0700 (PDT)   \n",
       "81657    Thu, 8 Mar 2001 02:17:00 -0800 (PST)   \n",
       "\n",
       "                                                     body  \n",
       "353958  Becky,  I attended the Thursday session.  Plea...  \n",
       "480731    Mark Taylor: This is the comment letter I re...  \n",
       "207096  Following are email addresses of all who parti...  \n",
       "416795  All -\\nJust a short note to let you know that ...  \n",
       "81657   No.  The decision would have prevented the Com...  "
      ]
     },
     "execution_count": 5,
     "metadata": {},
     "output_type": "execute_result"
    }
   ],
   "source": [
    "print(enronDataframe.info())\n",
    "enronDataframe.sample(5)"
   ]
  },
  {
   "cell_type": "markdown",
   "metadata": {},
   "source": [
    "From a quick glance from all the 3 datasets, there are multiple inconsistensy that can be found in the format of the values. \n",
    "\n",
    "- from and to columns contains not only the emails\n",
    "- datetime isn't in one format"
   ]
  },
  {
   "cell_type": "code",
   "execution_count": 6,
   "metadata": {},
   "outputs": [
    {
     "name": "stdout",
     "output_type": "stream",
     "text": [
      "raw_mail    0\n",
      "subject     0\n",
      "from        0\n",
      "to          0\n",
      "status      0\n",
      "date        0\n",
      "body        0\n",
      "dtype: int64 \n",
      "\n",
      "raw_mail    0\n",
      "subject     0\n",
      "from        0\n",
      "to          0\n",
      "status      0\n",
      "date        0\n",
      "body        0\n",
      "dtype: int64 \n",
      "\n",
      "Unnamed: 0         0\n",
      "raw_mail           0\n",
      "subject        19187\n",
      "from               0\n",
      "to             21847\n",
      "status        517401\n",
      "date               0\n",
      "body               0\n",
      "dtype: int64\n"
     ]
    }
   ],
   "source": [
    "print(fraudDataframe.isna().sum(), '\\n') # contains none but inst register as one\n",
    "print(phishingDataframe.isna().sum(), '\\n') # contains none but isnt register as one\n",
    "print(enronDataframe.isna().sum()) # contains null values"
   ]
  },
  {
   "cell_type": "markdown",
   "metadata": {},
   "source": [
    "As the results show above only the enron sets register having a null values while in fact all 3 datasets does contains a null values"
   ]
  },
  {
   "cell_type": "markdown",
   "metadata": {},
   "source": [
    "If we check the values for a \"None\" in a string format we will infact found that the rest of the datasets does in fact contains a Null value "
   ]
  },
  {
   "cell_type": "code",
   "execution_count": 7,
   "metadata": {},
   "outputs": [
    {
     "name": "stdout",
     "output_type": "stream",
     "text": [
      "raw_mail      0\n",
      "subject      17\n",
      "from        372\n",
      "to          956\n",
      "status        0\n",
      "date        551\n",
      "body          0\n",
      "dtype: int64\n",
      "raw_mail     0\n",
      "subject     49\n",
      "from         4\n",
      "to           9\n",
      "status       5\n",
      "date         3\n",
      "body         0\n",
      "dtype: int64\n",
      "Unnamed: 0    0\n",
      "raw_mail      0\n",
      "subject       0\n",
      "from          0\n",
      "to            0\n",
      "status        0\n",
      "date          0\n",
      "body          0\n",
      "dtype: int64\n"
     ]
    }
   ],
   "source": [
    "print((fraudDataframe == \"None\").sum())\n",
    "print((phishingDataframe == \"None\").sum())\n",
    "print((enronDataframe == \"None\").sum())"
   ]
  },
  {
   "cell_type": "markdown",
   "metadata": {},
   "source": [
    "Update the datasets to change the \"None\" values to an actual None"
   ]
  },
  {
   "cell_type": "code",
   "execution_count": 8,
   "metadata": {},
   "outputs": [
    {
     "name": "stdout",
     "output_type": "stream",
     "text": [
      "raw_mail    0\n",
      "subject     0\n",
      "from        0\n",
      "to          0\n",
      "status      0\n",
      "date        0\n",
      "body        0\n",
      "dtype: int64\n",
      "raw_mail      0\n",
      "subject      17\n",
      "from        956\n",
      "to          956\n",
      "status        0\n",
      "date        551\n",
      "body          0\n",
      "dtype: int64\n"
     ]
    }
   ],
   "source": [
    "def updateToNone(val):\n",
    "    if val == \"None\":\n",
    "        return None\n",
    "    else:\n",
    "        return val\n",
    "\n",
    "fraudDataframe['subject'] = fraudDataframe['subject'].apply(updateToNone)\n",
    "fraudDataframe['to'] = fraudDataframe['to'].apply(updateToNone)\n",
    "fraudDataframe['from'] = fraudDataframe['to'].apply(updateToNone)\n",
    "fraudDataframe['status'] = fraudDataframe['status'].apply(updateToNone)\n",
    "fraudDataframe['date'] = fraudDataframe['date'].apply(updateToNone)\n",
    "\n",
    "print((fraudDataframe == \"None\").sum())\n",
    "print(fraudDataframe.isna().sum()) "
   ]
  },
  {
   "cell_type": "code",
   "execution_count": 9,
   "metadata": {},
   "outputs": [
    {
     "name": "stdout",
     "output_type": "stream",
     "text": [
      "raw_mail    0\n",
      "subject     0\n",
      "from        0\n",
      "to          0\n",
      "status      0\n",
      "date        0\n",
      "body        0\n",
      "dtype: int64\n",
      "raw_mail      0\n",
      "subject      17\n",
      "from        956\n",
      "to          956\n",
      "status        0\n",
      "date        551\n",
      "body          0\n",
      "dtype: int64\n"
     ]
    }
   ],
   "source": [
    "phishingDataframe['subject'] = phishingDataframe['subject'].apply(updateToNone)\n",
    "phishingDataframe['to'] = phishingDataframe['to'].apply(updateToNone)\n",
    "phishingDataframe['from'] = phishingDataframe['to'].apply(updateToNone)\n",
    "phishingDataframe['status'] = phishingDataframe['status'].apply(updateToNone)\n",
    "phishingDataframe['date'] = phishingDataframe['date'].apply(updateToNone)\n",
    "\n",
    "print((fraudDataframe == \"None\").sum())\n",
    "print(fraudDataframe.isna().sum()) "
   ]
  },
  {
   "cell_type": "markdown",
   "metadata": {},
   "source": [
    "To fix the inconsistensy format of the email in columns \"from\" and \"to\" , we will used regex to extract the valid emails first then, fill the empty values with valid values from the datasets"
   ]
  },
  {
   "cell_type": "code",
   "execution_count": 10,
   "metadata": {},
   "outputs": [
    {
     "name": "stderr",
     "output_type": "stream",
     "text": [
      "C:\\Users\\chandieka\\AppData\\Local\\Temp\\ipykernel_17728\\3334997152.py:1: UserWarning: This pattern is interpreted as a regular expression, and has match groups. To actually get the groups, use str.extract.\n",
      "  notValidEmail = phishingDataframe['from'].str.contains('[a-zA-Z0-9-_.]*@a-zA-Z0-9-]*(\\.[a-zA-Z]*)*', regex=True) == False\n"
     ]
    },
    {
     "data": {
      "text/plain": [
       "4187"
      ]
     },
     "execution_count": 10,
     "metadata": {},
     "output_type": "execute_result"
    }
   ],
   "source": [
    "notValidEmail = phishingDataframe['from'].str.contains('[a-zA-Z0-9-_.]*@a-zA-Z0-9-]*(\\.[a-zA-Z]*)*', regex=True) == False\n",
    "phishingDataframe[notValidEmail]['from'].count()"
   ]
  },
  {
   "cell_type": "code",
   "execution_count": 11,
   "metadata": {},
   "outputs": [
    {
     "name": "stderr",
     "output_type": "stream",
     "text": [
      "C:\\Users\\chandieka\\AppData\\Local\\Temp\\ipykernel_17728\\1799348055.py:1: UserWarning: This pattern is interpreted as a regular expression, and has match groups. To actually get the groups, use str.extract.\n",
      "  notValidEmail = fraudDataframe['from'].str.contains('([a-zA-Z0-9-_.])*@([a-zA-Z0-9-])*(\\.[a-zA-Z]*)*', regex=True) == False\n"
     ]
    },
    {
     "data": {
      "text/plain": [
       "551"
      ]
     },
     "execution_count": 11,
     "metadata": {},
     "output_type": "execute_result"
    }
   ],
   "source": [
    "notValidEmail = fraudDataframe['from'].str.contains('([a-zA-Z0-9-_.])*@([a-zA-Z0-9-])*(\\.[a-zA-Z]*)*', regex=True) == False\n",
    "fraudDataframe[notValidEmail]['from'].count()"
   ]
  },
  {
   "cell_type": "code",
   "execution_count": 12,
   "metadata": {},
   "outputs": [
    {
     "name": "stderr",
     "output_type": "stream",
     "text": [
      "C:\\Users\\chandieka\\AppData\\Local\\Temp\\ipykernel_17728\\2401131589.py:1: UserWarning: This pattern is interpreted as a regular expression, and has match groups. To actually get the groups, use str.extract.\n",
      "  notValidEmail = enronDataframe['to'].str.contains('([a-zA-Z0-9-_.])*@([a-zA-Z0-9-])*(\\.[a-zA-Z]*)*', regex=True) == False\n"
     ]
    },
    {
     "data": {
      "text/plain": [
       "16"
      ]
     },
     "execution_count": 12,
     "metadata": {},
     "output_type": "execute_result"
    }
   ],
   "source": [
    "notValidEmail = enronDataframe['to'].str.contains('([a-zA-Z0-9-_.])*@([a-zA-Z0-9-])*(\\.[a-zA-Z]*)*', regex=True) == False\n",
    "enronDataframe[notValidEmail]['to'].count()"
   ]
  },
  {
   "cell_type": "code",
   "execution_count": 13,
   "metadata": {},
   "outputs": [],
   "source": [
    "parsedFrom = fraudDataframe['from'].str.extract('([a-zA-Z0-9-_.]*@[a-zA-Z0-9-]*(\\.[a-zA-Z]*)*)')\n",
    "parsedTo = fraudDataframe['to'].str.extract('([a-zA-Z0-9-_.]*@[a-zA-Z0-9-]*(\\.[a-zA-Z]*)*)')\n",
    "\n",
    "fraudDataframe['parsed_from'] = parsedFrom[0]\n",
    "fraudDataframe['parsed_to'] = parsedTo[0]"
   ]
  },
  {
   "cell_type": "code",
   "execution_count": 14,
   "metadata": {},
   "outputs": [],
   "source": [
    "parsedFrom = phishingDataframe['from'].str.extract('([a-zA-Z0-9-_.]*@[a-zA-Z0-9-]*(\\.[a-zA-Z]*)*)')\n",
    "parsedTo = phishingDataframe['to'].str.extract('([a-zA-Z0-9-_.]*@[a-zA-Z0-9-]*(\\.[a-zA-Z]*)*)')\n",
    "\n",
    "phishingDataframe['parsed_from'] = parsedFrom[0]\n",
    "phishingDataframe['parsed_to'] = parsedTo[0]"
   ]
  },
  {
   "cell_type": "code",
   "execution_count": 15,
   "metadata": {},
   "outputs": [],
   "source": [
    "parsedFrom = enronDataframe['from'].str.extract('([a-zA-Z0-9-_.]*@[a-zA-Z0-9-]*(\\.[a-zA-Z]*)*)')\n",
    "parsedTo = enronDataframe['to'].str.extract('([a-zA-Z0-9-_.]*@[a-zA-Z0-9-]*(\\.[a-zA-Z]*)*)')\n",
    "\n",
    "enronDataframe['parsed_from'] = parsedFrom[0]\n",
    "enronDataframe['parsed_to'] = parsedTo[0]"
   ]
  },
  {
   "cell_type": "markdown",
   "metadata": {},
   "source": [
    "Bellow is the kind of fields that wasnt register as an email"
   ]
  },
  {
   "cell_type": "code",
   "execution_count": 16,
   "metadata": {},
   "outputs": [
    {
     "name": "stdout",
     "output_type": "stream",
     "text": [
      "[None 'undisclosed-recipients: ;' 'undisclosed-recipients:;' ''\n",
      " 'undisclosed recipients: ;' 'N/A <>, N/A <>' 'N/A <>']\n",
      "[None 'undisclosed-recipients: ;' 'undisclosed-recipients:;' ''\n",
      " 'undisclosed recipients: ;' 'N/A <>, N/A <>' 'N/A <>']\n",
      "['undisclosed-recipients: ;' '[removed]' None 'undisclosed-recipients:;'\n",
      " 'unlisted-recipients:; (no To-header on input)'\n",
      " '<Undisclosed-Recipient:;>' '=?euc-kr?B?u+e2+7nnu/W6rsbtwfawocG3?=' '']\n",
      "['undisclosed-recipients: ;' '[removed]' None 'undisclosed-recipients:;'\n",
      " 'unlisted-recipients:; (no To-header on input)'\n",
      " '<Undisclosed-Recipient:;>' '=?euc-kr?B?u+e2+7nnu/W6rsbtwfawocG3?=' '']\n"
     ]
    }
   ],
   "source": [
    "print(fraudDataframe[fraudDataframe['parsed_from'].isna()]['from'].unique())\n",
    "print(fraudDataframe[fraudDataframe['parsed_to'].isna()]['to'].unique())\n",
    "print(phishingDataframe[phishingDataframe['parsed_from'].isna()]['from'].unique())\n",
    "print(phishingDataframe[phishingDataframe['parsed_to'].isna()]['to'].unique())"
   ]
  },
  {
   "cell_type": "code",
   "execution_count": 17,
   "metadata": {},
   "outputs": [],
   "source": [
    "phishingDataframe['parsed_from'] = phishingDataframe['parsed_from'].ffill().bfill()\n",
    "fraudDataframe['parsed_from'] = fraudDataframe['parsed_from'].ffill().bfill()\n",
    "enronDataframe['parsed_from'] = enronDataframe['parsed_from'].ffill().bfill()"
   ]
  },
  {
   "cell_type": "code",
   "execution_count": 18,
   "metadata": {},
   "outputs": [],
   "source": [
    "phishingDataframe['parsed_to'] = phishingDataframe['parsed_to'].ffill().bfill()\n",
    "fraudDataframe['parsed_to'] = fraudDataframe['parsed_to'].ffill().bfill()\n",
    "enronDataframe['parsed_to'] = enronDataframe['parsed_to'].ffill().bfill()"
   ]
  },
  {
   "cell_type": "markdown",
   "metadata": {},
   "source": [
    "all the datasets subject column contains a null value, we will fill this value using existing fields in the datasets"
   ]
  },
  {
   "cell_type": "code",
   "execution_count": 19,
   "metadata": {},
   "outputs": [],
   "source": [
    "phishingDataframe['subject'] = phishingDataframe.subject.ffill().bfill()\n",
    "fraudDataframe['subject'] = fraudDataframe.subject.ffill().bfill()\n",
    "enronDataframe['subject'] = enronDataframe.subject.ffill().bfill()"
   ]
  },
  {
   "cell_type": "code",
   "execution_count": 20,
   "metadata": {},
   "outputs": [
    {
     "name": "stdout",
     "output_type": "stream",
     "text": [
      "Number of row that have empty subject for phishingDataframe: 0\n",
      "Number of row that have empty subject for fraudDataframe: 0\n",
      "Number of row that have empty subject for enronDataframe: 0\n"
     ]
    }
   ],
   "source": [
    "print('Number of row that have empty subject for phishingDataframe:', phishingDataframe.subject.isnull().sum())\n",
    "print('Number of row that have empty subject for fraudDataframe:', fraudDataframe.subject.isnull().sum())\n",
    "print('Number of row that have empty subject for enronDataframe:', enronDataframe.subject.isnull().sum())"
   ]
  },
  {
   "cell_type": "code",
   "execution_count": 21,
   "metadata": {},
   "outputs": [],
   "source": [
    "enronDataframe['parsed_date'] = enronDataframe.date.apply(lambda date: parser.parse(date).isoformat())"
   ]
  },
  {
   "cell_type": "markdown",
   "metadata": {},
   "source": [
    "Fill empty fields so no null exist by doing backward and forward fill"
   ]
  },
  {
   "cell_type": "code",
   "execution_count": 22,
   "metadata": {},
   "outputs": [],
   "source": [
    "fraudDataframe.date = fraudDataframe.date.ffill().bfill()\n",
    "phishingDataframe.date = phishingDataframe.date.ffill().bfill()"
   ]
  },
  {
   "cell_type": "code",
   "execution_count": 23,
   "metadata": {},
   "outputs": [
    {
     "name": "stdout",
     "output_type": "stream",
     "text": [
      "Total date row that are not in format for phishingDataframe: 444\n",
      "Total date row that are not in format for phishingDataframe: 151\n"
     ]
    }
   ],
   "source": [
    "diff = phishingDataframe.shape[0] - phishingDataframe.date.str.contains('[A-Za-z]{0,3}, \\d* [A-Za-z]{0,3} \\d{4}').sum()\n",
    "print(\"Total date row that are not in format for phishingDataframe:\", diff)\n",
    "diff = fraudDataframe.shape[0] - fraudDataframe.date.str.contains('[A-Za-z]{0,3}, \\d* [A-Za-z]{0,3} \\d{4}').sum()\n",
    "print(\"Total date row that are not in format for phishingDataframe:\", diff)"
   ]
  },
  {
   "cell_type": "code",
   "execution_count": 24,
   "metadata": {},
   "outputs": [],
   "source": [
    "def parseDate(date):\n",
    "    try:\n",
    "        return parser.parse(date).isoformat()\n",
    "    except Exception as e:\n",
    "        return None"
   ]
  },
  {
   "cell_type": "code",
   "execution_count": 25,
   "metadata": {},
   "outputs": [
    {
     "name": "stderr",
     "output_type": "stream",
     "text": [
      "c:\\Users\\chandieka\\anaconda3\\lib\\site-packages\\dateutil\\parser\\_parser.py:1207: UnknownTimezoneWarning: tzname CEST identified but not understood.  Pass `tzinfos` argument in order to correctly return a timezone-aware datetime.  In a future version, this will raise an exception.\n",
      "  warnings.warn(\"tzname {tzname} identified but not understood.  \"\n"
     ]
    }
   ],
   "source": [
    "phishingDataframe['parsed_date'] = phishingDataframe.date.str.replace('\\.', ':', regex=True)\n",
    "phishingDataframe['parsed_date'] = phishingDataframe['parsed_date'].apply(parseDate)\n"
   ]
  },
  {
   "cell_type": "markdown",
   "metadata": {},
   "source": [
    "Manual cleaning for cases that are to few to automate"
   ]
  },
  {
   "cell_type": "code",
   "execution_count": 34,
   "metadata": {},
   "outputs": [],
   "source": [
    "phishingDataframe.loc[821].parsed_date = parser.parse(\"Fri, 09 Jun 2006 08:23:29 +0500 (EST)\").isoformat()\n",
    "phishingDataframe.loc[892].parsed_date = parser.parse(\"Fri, 23 Jun 2006 13:25:46 -0100 (EST)\").isoformat()\n",
    "phishingDataframe.loc[896].parsed_date = parser.parse(\"Fri, 23 Jun 2006 21:36:05 +0800\").isoformat()\n",
    "phishingDataframe.loc[1066].parsed_date = parser.parse(\"Wed, 26 Jul 2006 09:48:28 -0800\").isoformat()\n",
    "phishingDataframe.loc[1067].parsed_date = parser.parse(\"Wed, 26 Jul 2006 12:50:48 -0600\").isoformat()\n",
    "phishingDataframe.loc[1072].parsed_date = parser.parse(\"Thu, 27 Jul 2006 03:06:10 -0800\").isoformat()\n",
    "phishingDataframe.loc[1074].parsed_date = parser.parse(\"Wed, 26 Jul 2006 15:24:52 -0500\").isoformat()\n",
    "phishingDataframe.loc[1075].parsed_date = parser.parse(\"Wed, 26 Jul 2006 15:43:42 -0500\").isoformat()\n",
    "phishingDataframe.loc[1076].parsed_date = parser.parse(\"Wed, 26 Jul 2006 19:03:49 -0300\").isoformat()\n",
    "phishingDataframe.loc[1077].parsed_date = parser.parse(\"Wed, 26 Jul 2006 19:35:02 -0300\").isoformat()\n",
    "phishingDataframe.loc[1095].parsed_date = parser.parse(\"31.07.2006\").isoformat()\n",
    "phishingDataframe.loc[1173].parsed_date = parser.parse(\"Thu, 3 Aug 2006 00:13:00 -0530\").isoformat()\n",
    "phishingDataframe.loc[2421].parsed_date = parser.parse(\"Tue, 09 Jan 2007 14:00:44 +0430\").isoformat()\n",
    "phishingDataframe.loc[3540].parsed_date = parser.parse(\"Sun, 10 Sep 2006 14:00:47 +0000\").isoformat()\n",
    "phishingDataframe.loc[3643].parsed_date = parser.parse(\"Fri, 09 Mar 2007 18:11:57 +0530\").isoformat()\n",
    "phishingDataframe.loc[3896].parsed_date = parser.parse(\"07.08.2006\").isoformat()\n",
    "phishingDataframe.loc[3963].parsed_date = parser.parse(\"Mon, 24 Feb 2003 17:32:08 +0000\").isoformat()\n",
    "phishingDataframe.loc[4117].parsed_date = parser.parse(\"Sun, 10 Sep 2006 12:08:54 -0300\").isoformat()"
   ]
  },
  {
   "cell_type": "code",
   "execution_count": 27,
   "metadata": {},
   "outputs": [
    {
     "name": "stderr",
     "output_type": "stream",
     "text": [
      "c:\\Users\\chandieka\\anaconda3\\lib\\site-packages\\dateutil\\parser\\_parser.py:1207: UnknownTimezoneWarning: tzname BST identified but not understood.  Pass `tzinfos` argument in order to correctly return a timezone-aware datetime.  In a future version, this will raise an exception.\n",
      "  warnings.warn(\"tzname {tzname} identified but not understood.  \"\n"
     ]
    }
   ],
   "source": [
    "fraudDataframe['parsed_date'] = fraudDataframe.date.str.replace('\\.', ':', regex=True)\n",
    "fraudDataframe['parsed_date'] = fraudDataframe['parsed_date'].apply(parseDate)"
   ]
  },
  {
   "cell_type": "code",
   "execution_count": 28,
   "metadata": {},
   "outputs": [],
   "source": [
    "def myfunc(row):\n",
    "    if row.parsed_date == None:\n",
    "        try:\n",
    "            row.parsed_date = parser.parse(\n",
    "                re.search(\"([A-Za-z]{1,3}, \\d{0,2} [A-Za-z]* \\d{2,4} \\d{2}:\\d{2}:\\d{2} ((\\+|\\-)?\\d{4})?)\", \n",
    "                          row.date).group(1)).isoformat()\n",
    "            return row\n",
    "        except Exception as e:\n",
    "            return row\n",
    "    else:\n",
    "        return row\n",
    "\n",
    "fraudDataframe = fraudDataframe.apply(myfunc, axis=1)"
   ]
  },
  {
   "cell_type": "markdown",
   "metadata": {},
   "source": [
    "Manual Updates"
   ]
  },
  {
   "cell_type": "code",
   "execution_count": 35,
   "metadata": {},
   "outputs": [],
   "source": [
    "fraudDataframe.loc[542].parsed_date = parser.parse(\"Sun, 09 nov 2003 21:18:28\").isoformat()\n",
    "fraudDataframe.loc[1236].parsed_date = parser.parse(\"Tue, 09 nov 2004 15:38:35 -0300\").isoformat()"
   ]
  },
  {
   "cell_type": "markdown",
   "metadata": {},
   "source": [
    "Add prediction label"
   ]
  },
  {
   "cell_type": "code",
   "execution_count": 53,
   "metadata": {},
   "outputs": [],
   "source": [
    "fraudDataframe['malicious'] = True\n",
    "phishingDataframe['malicious'] = True\n",
    "enronDataframe['malicious'] = False"
   ]
  },
  {
   "cell_type": "code",
   "execution_count": 54,
   "metadata": {},
   "outputs": [],
   "source": [
    "fraudDataframe.to_csv(path_or_buf='datasets/clean/fraud-emails.csv', index=False)\n",
    "phishingDataframe.to_csv(path_or_buf='datasets/clean/phishing-emails.csv', index=False)\n",
    "enronDataframe.to_csv(path_or_buf='datasets/clean/enron-emails.csv', index=False)"
   ]
  }
 ],
 "metadata": {
  "kernelspec": {
   "display_name": "Python 3.9.12 ('base')",
   "language": "python",
   "name": "python3"
  },
  "language_info": {
   "codemirror_mode": {
    "name": "ipython",
    "version": 3
   },
   "file_extension": ".py",
   "mimetype": "text/x-python",
   "name": "python",
   "nbconvert_exporter": "python",
   "pygments_lexer": "ipython3",
   "version": "3.9.12"
  },
  "orig_nbformat": 4,
  "vscode": {
   "interpreter": {
    "hash": "3f83a4b8e1c187aca35894c8eeaad8267ead7007e3a6e08dfe58ab16c9dd478f"
   }
  }
 },
 "nbformat": 4,
 "nbformat_minor": 2
}
