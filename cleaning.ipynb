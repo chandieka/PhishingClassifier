{
 "cells": [
  {
   "cell_type": "markdown",
   "metadata": {},
   "source": [
    "# Summary"
   ]
  },
  {
   "cell_type": "markdown",
   "metadata": {},
   "source": [
    "The following is the step taken to clean the datasets\n",
    "- Removing duplicates based on 'raw_mail' column\n",
    "- Change the \"None\" to an actuall None value to all column\n",
    "- Remove email address that is not in the same format\n",
    "- Fill empty/none email address with bfill and ffill\n",
    "- Fill empty/none subject with bffill and ffill\n",
    "- Update the 'date' so it is in one format\n",
    "- Add malicious column"
   ]
  },
  {
   "cell_type": "markdown",
   "metadata": {},
   "source": [
    "# import libraries"
   ]
  },
  {
   "cell_type": "markdown",
   "metadata": {},
   "source": [
    "Load the libraries that are needed"
   ]
  },
  {
   "cell_type": "code",
   "execution_count": 1,
   "metadata": {},
   "outputs": [],
   "source": [
    "import pandas as pd\n",
    "from datetime import datetime\n",
    "from dateutil import parser\n",
    "import re"
   ]
  },
  {
   "cell_type": "markdown",
   "metadata": {},
   "source": [
    "Load the datasets"
   ]
  },
  {
   "cell_type": "code",
   "execution_count": 10,
   "metadata": {},
   "outputs": [
    {
     "name": "stdout",
     "output_type": "stream",
     "text": [
      "Total fraud emails: 3978\n",
      "Total phishing emails: 4196\n",
      "Total enron emails: 517401\n"
     ]
    }
   ],
   "source": [
    "fraudDataframe = pd.read_json('datasets/raw/fradulent_emails.json', orient='index')\n",
    "phishingDataframe = pd.read_json('datasets/raw/phishing-chorpus.json', orient='index')\n",
    "enronDataframe = pd.read_csv('datasets/raw/enron-emails.csv')\n",
    "\n",
    "print(\"Total fraud emails:\", len(fraudDataframe))\n",
    "print(\"Total phishing emails:\", len(phishingDataframe))\n",
    "print(\"Total enron emails:\", len(enronDataframe))\n"
   ]
  },
  {
   "attachments": {},
   "cell_type": "markdown",
   "metadata": {},
   "source": [
    "Remove duplicates (if any)"
   ]
  },
  {
   "cell_type": "code",
   "execution_count": 11,
   "metadata": {},
   "outputs": [
    {
     "name": "stdout",
     "output_type": "stream",
     "text": [
      "Total fraud emails: 3939\n",
      "Total phishing emails: 4190\n",
      "Total enron emails: 517401\n"
     ]
    }
   ],
   "source": [
    "fraudDataframe = fraudDataframe.drop_duplicates(subset=\"raw_mail\")\n",
    "phishingDataframe = phishingDataframe.drop_duplicates(subset=\"raw_mail\")\n",
    "enronDataframe = enronDataframe.drop_duplicates(subset=\"raw_mail\")\n",
    "\n",
    "print(\"Total fraud emails:\", len(fraudDataframe))\n",
    "print(\"Total phishing emails:\", len(phishingDataframe))\n",
    "print(\"Total enron emails:\", len(enronDataframe))"
   ]
  },
  {
   "cell_type": "markdown",
   "metadata": {},
   "source": [
    "From a quick glance from all the 3 datasets, there are multiple inconsistensy that can be found in the format of the values. \n",
    "\n",
    "- from and to columns contains not only the emails\n",
    "- datetime isn't in one format"
   ]
  },
  {
   "cell_type": "code",
   "execution_count": 13,
   "metadata": {},
   "outputs": [
    {
     "data": {
      "text/html": [
       "<div>\n",
       "<style scoped>\n",
       "    .dataframe tbody tr th:only-of-type {\n",
       "        vertical-align: middle;\n",
       "    }\n",
       "\n",
       "    .dataframe tbody tr th {\n",
       "        vertical-align: top;\n",
       "    }\n",
       "\n",
       "    .dataframe thead th {\n",
       "        text-align: right;\n",
       "    }\n",
       "</style>\n",
       "<table border=\"1\" class=\"dataframe\">\n",
       "  <thead>\n",
       "    <tr style=\"text-align: right;\">\n",
       "      <th></th>\n",
       "      <th>raw_mail</th>\n",
       "      <th>subject</th>\n",
       "      <th>from</th>\n",
       "      <th>to</th>\n",
       "      <th>status</th>\n",
       "      <th>date</th>\n",
       "      <th>body</th>\n",
       "    </tr>\n",
       "  </thead>\n",
       "  <tbody>\n",
       "    <tr>\n",
       "      <th>3357</th>\n",
       "      <td>Return-Path: &lt;mrschristinaholden4@tiscali.de&gt;\\...</td>\n",
       "      <td>DEAR BELOVED,</td>\n",
       "      <td>MRS CHRISTINA HOLDEN &lt;mrschristinaholden4@tisc...</td>\n",
       "      <td>undisclosed-recipients: ;</td>\n",
       "      <td>O</td>\n",
       "      <td>Wed, 13 Dec 2006 02:59:10 +0100 (CET)</td>\n",
       "      <td>DEAR BELOVED, \\n \\nI am Mrs. Christina Holden....</td>\n",
       "    </tr>\n",
       "    <tr>\n",
       "      <th>1921</th>\n",
       "      <td>Return-Path: &lt;felixeze123@jubii.dk&gt;\\nX-Sieve: ...</td>\n",
       "      <td>URGENT REPLY NEEDED</td>\n",
       "      <td>\"felixeze123\" &lt;felixeze123@jubii.dk&gt;</td>\n",
       "      <td>felixeze123@jubii.dk</td>\n",
       "      <td>RO</td>\n",
       "      <td>Mon, 31 Oct 2005 10:18:38 +0000 (GMT)</td>\n",
       "      <td>&lt;html&gt;&lt;head&gt;&lt;style type=\"text/css\"&gt;body{font:1...</td>\n",
       "    </tr>\n",
       "    <tr>\n",
       "      <th>2565</th>\n",
       "      <td>Return-Path: &lt;akamichel1_ci@yahoo.fr&gt;\\nX-Sieve...</td>\n",
       "      <td>Very Very Urgent</td>\n",
       "      <td>=?iso-8859-1?q?Aka=20MICHEL?= &lt;akamichel1_ci@y...</td>\n",
       "      <td>aiweb06@cs.umbc.edu</td>\n",
       "      <td>RO</td>\n",
       "      <td>Wed, 24 May 2006 10:02:27 +0000 (GMT)</td>\n",
       "      <td>J'ai une nouvelle adresse mailVous pouvez main...</td>\n",
       "    </tr>\n",
       "    <tr>\n",
       "      <th>2929</th>\n",
       "      <td>Return-Path: &lt;g_mai55555@yahoo.co.uk&gt;\\nX-Sieve...</td>\n",
       "      <td>Mail From Mrs Angelo</td>\n",
       "      <td>None</td>\n",
       "      <td>R@M</td>\n",
       "      <td>RO</td>\n",
       "      <td>None</td>\n",
       "      <td>Hello Sir/Madam, firstly I will like to introd...</td>\n",
       "    </tr>\n",
       "    <tr>\n",
       "      <th>809</th>\n",
       "      <td>Message-Id: &lt;200404302333.i3UNWpSK023538@aquad...</td>\n",
       "      <td></td>\n",
       "      <td>\"Mr Bruno Williams\" &lt;brunowiliams04@voila.fr&gt;</td>\n",
       "      <td>webmaster@aclweb.org</td>\n",
       "      <td>RO</td>\n",
       "      <td>Sat, 1 May 2004 01:33:05 +0200</td>\n",
       "      <td>Bank of Africa \\nAvenue Jean-Paul II \\n08 BP 0...</td>\n",
       "    </tr>\n",
       "  </tbody>\n",
       "</table>\n",
       "</div>"
      ],
      "text/plain": [
       "                                               raw_mail               subject  \\\n",
       "3357  Return-Path: <mrschristinaholden4@tiscali.de>\\...         DEAR BELOVED,   \n",
       "1921  Return-Path: <felixeze123@jubii.dk>\\nX-Sieve: ...   URGENT REPLY NEEDED   \n",
       "2565  Return-Path: <akamichel1_ci@yahoo.fr>\\nX-Sieve...      Very Very Urgent   \n",
       "2929  Return-Path: <g_mai55555@yahoo.co.uk>\\nX-Sieve...  Mail From Mrs Angelo   \n",
       "809   Message-Id: <200404302333.i3UNWpSK023538@aquad...                         \n",
       "\n",
       "                                                   from  \\\n",
       "3357  MRS CHRISTINA HOLDEN <mrschristinaholden4@tisc...   \n",
       "1921               \"felixeze123\" <felixeze123@jubii.dk>   \n",
       "2565  =?iso-8859-1?q?Aka=20MICHEL?= <akamichel1_ci@y...   \n",
       "2929                                               None   \n",
       "809       \"Mr Bruno Williams\" <brunowiliams04@voila.fr>   \n",
       "\n",
       "                             to status                                   date  \\\n",
       "3357  undisclosed-recipients: ;      O  Wed, 13 Dec 2006 02:59:10 +0100 (CET)   \n",
       "1921       felixeze123@jubii.dk     RO  Mon, 31 Oct 2005 10:18:38 +0000 (GMT)   \n",
       "2565        aiweb06@cs.umbc.edu     RO  Wed, 24 May 2006 10:02:27 +0000 (GMT)   \n",
       "2929                        R@M     RO                                   None   \n",
       "809        webmaster@aclweb.org     RO         Sat, 1 May 2004 01:33:05 +0200   \n",
       "\n",
       "                                                   body  \n",
       "3357  DEAR BELOVED, \\n \\nI am Mrs. Christina Holden....  \n",
       "1921  <html><head><style type=\"text/css\">body{font:1...  \n",
       "2565  J'ai une nouvelle adresse mailVous pouvez main...  \n",
       "2929  Hello Sir/Madam, firstly I will like to introd...  \n",
       "809   Bank of Africa \\nAvenue Jean-Paul II \\n08 BP 0...  "
      ]
     },
     "execution_count": 13,
     "metadata": {},
     "output_type": "execute_result"
    }
   ],
   "source": [
    "fraudDataframe.sample(5)"
   ]
  },
  {
   "cell_type": "code",
   "execution_count": 15,
   "metadata": {},
   "outputs": [
    {
     "data": {
      "text/html": [
       "<div>\n",
       "<style scoped>\n",
       "    .dataframe tbody tr th:only-of-type {\n",
       "        vertical-align: middle;\n",
       "    }\n",
       "\n",
       "    .dataframe tbody tr th {\n",
       "        vertical-align: top;\n",
       "    }\n",
       "\n",
       "    .dataframe thead th {\n",
       "        text-align: right;\n",
       "    }\n",
       "</style>\n",
       "<table border=\"1\" class=\"dataframe\">\n",
       "  <thead>\n",
       "    <tr style=\"text-align: right;\">\n",
       "      <th></th>\n",
       "      <th>raw_mail</th>\n",
       "      <th>subject</th>\n",
       "      <th>from</th>\n",
       "      <th>to</th>\n",
       "      <th>status</th>\n",
       "      <th>date</th>\n",
       "      <th>body</th>\n",
       "    </tr>\n",
       "  </thead>\n",
       "  <tbody>\n",
       "    <tr>\n",
       "      <th>2162</th>\n",
       "      <td>Return-Path: &lt;support@paypal.com&gt;\\nX-Original-...</td>\n",
       "      <td>IMPORTANT: Update your PayPal records</td>\n",
       "      <td>\"Paypal Inc.\" &lt;acc@paypal.com&gt;</td>\n",
       "      <td>user@example.com</td>\n",
       "      <td>O</td>\n",
       "      <td>Sat, 30 Sep 2006 18:31:21 +0500</td>\n",
       "      <td>&lt;!DOCTYPE HTML PUBLIC \"-//W3C//DTD HTML 4.01 T...</td>\n",
       "    </tr>\n",
       "    <tr>\n",
       "      <th>186</th>\n",
       "      <td>Return-Path: &lt;nobody@guzel.sozler.com&gt;\\nX-Orig...</td>\n",
       "      <td>Account Review Team</td>\n",
       "      <td>PayPal &lt;paypal@email.paypal.com&gt;</td>\n",
       "      <td>username@domain.com</td>\n",
       "      <td>O</td>\n",
       "      <td>Tue, 04 Oct 2005 12:14:40 +0300</td>\n",
       "      <td>\\r\\n&lt;html&gt;\\r\\n&lt;head&gt;\\r\\n&lt;style type=\"text/css\"...</td>\n",
       "    </tr>\n",
       "    <tr>\n",
       "      <th>2480</th>\n",
       "      <td>Return-Path: &lt;root@ns.waiphra.com&gt;\\nX-Original...</td>\n",
       "      <td>IMPORTANT:Security Issues  [Account Flagged]</td>\n",
       "      <td>PayPal &lt;service@email-paypal.com&gt;</td>\n",
       "      <td>user@example.com</td>\n",
       "      <td>RO</td>\n",
       "      <td>Mon, 22 Jan 2007 01:09:06 +0700</td>\n",
       "      <td>\\r\\n&lt;html&gt;\\r\\n&lt;img src=\"http://link.p0.com/1x1...</td>\n",
       "    </tr>\n",
       "    <tr>\n",
       "      <th>2145</th>\n",
       "      <td>Return-Path: &lt;Support@paypal.com&gt;\\nX-Original-...</td>\n",
       "      <td>Account Review. PayPal Team identified some un...</td>\n",
       "      <td>\"PayPal\"&lt;Support@paypal.com&gt;</td>\n",
       "      <td>undisclosed-recipients:;</td>\n",
       "      <td>RO</td>\n",
       "      <td>Wed, 27 Sep 2006 10:17:59 -0700</td>\n",
       "      <td>&lt;html&gt;\\r\\n\\r\\n&lt;head&gt;\\r\\n  &lt;style type=\"text/cs...</td>\n",
       "    </tr>\n",
       "    <tr>\n",
       "      <th>1910</th>\n",
       "      <td>Return-Path: &lt;Update@paypal.com&gt;\\nX-Original-T...</td>\n",
       "      <td>Account Review.PayPal Team identified some unu...</td>\n",
       "      <td>\"PayPal Review\" &lt;Update@paypal.com&gt;</td>\n",
       "      <td>adam@example.com, dros@example.com, fern@examp...</td>\n",
       "      <td></td>\n",
       "      <td>Tue, 18 Apr 2006 11:08:06 -0300</td>\n",
       "      <td>&lt;html&gt;\\r\\n\\r\\n&lt;head&gt;\\r\\n&lt;meta http-equiv=3D\"Co...</td>\n",
       "    </tr>\n",
       "  </tbody>\n",
       "</table>\n",
       "</div>"
      ],
      "text/plain": [
       "                                               raw_mail  \\\n",
       "2162  Return-Path: <support@paypal.com>\\nX-Original-...   \n",
       "186   Return-Path: <nobody@guzel.sozler.com>\\nX-Orig...   \n",
       "2480  Return-Path: <root@ns.waiphra.com>\\nX-Original...   \n",
       "2145  Return-Path: <Support@paypal.com>\\nX-Original-...   \n",
       "1910  Return-Path: <Update@paypal.com>\\nX-Original-T...   \n",
       "\n",
       "                                                subject  \\\n",
       "2162              IMPORTANT: Update your PayPal records   \n",
       "186                                 Account Review Team   \n",
       "2480       IMPORTANT:Security Issues  [Account Flagged]   \n",
       "2145  Account Review. PayPal Team identified some un...   \n",
       "1910  Account Review.PayPal Team identified some unu...   \n",
       "\n",
       "                                     from  \\\n",
       "2162       \"Paypal Inc.\" <acc@paypal.com>   \n",
       "186      PayPal <paypal@email.paypal.com>   \n",
       "2480    PayPal <service@email-paypal.com>   \n",
       "2145         \"PayPal\"<Support@paypal.com>   \n",
       "1910  \"PayPal Review\" <Update@paypal.com>   \n",
       "\n",
       "                                                     to status  \\\n",
       "2162                                   user@example.com      O   \n",
       "186                                 username@domain.com      O   \n",
       "2480                                   user@example.com     RO   \n",
       "2145                           undisclosed-recipients:;     RO   \n",
       "1910  adam@example.com, dros@example.com, fern@examp...          \n",
       "\n",
       "                                 date  \\\n",
       "2162  Sat, 30 Sep 2006 18:31:21 +0500   \n",
       "186   Tue, 04 Oct 2005 12:14:40 +0300   \n",
       "2480  Mon, 22 Jan 2007 01:09:06 +0700   \n",
       "2145  Wed, 27 Sep 2006 10:17:59 -0700   \n",
       "1910  Tue, 18 Apr 2006 11:08:06 -0300   \n",
       "\n",
       "                                                   body  \n",
       "2162  <!DOCTYPE HTML PUBLIC \"-//W3C//DTD HTML 4.01 T...  \n",
       "186   \\r\\n<html>\\r\\n<head>\\r\\n<style type=\"text/css\"...  \n",
       "2480  \\r\\n<html>\\r\\n<img src=\"http://link.p0.com/1x1...  \n",
       "2145  <html>\\r\\n\\r\\n<head>\\r\\n  <style type=\"text/cs...  \n",
       "1910  <html>\\r\\n\\r\\n<head>\\r\\n<meta http-equiv=3D\"Co...  "
      ]
     },
     "execution_count": 15,
     "metadata": {},
     "output_type": "execute_result"
    }
   ],
   "source": [
    "phishingDataframe.sample(5)"
   ]
  },
  {
   "cell_type": "code",
   "execution_count": 16,
   "metadata": {},
   "outputs": [
    {
     "data": {
      "text/html": [
       "<div>\n",
       "<style scoped>\n",
       "    .dataframe tbody tr th:only-of-type {\n",
       "        vertical-align: middle;\n",
       "    }\n",
       "\n",
       "    .dataframe tbody tr th {\n",
       "        vertical-align: top;\n",
       "    }\n",
       "\n",
       "    .dataframe thead th {\n",
       "        text-align: right;\n",
       "    }\n",
       "</style>\n",
       "<table border=\"1\" class=\"dataframe\">\n",
       "  <thead>\n",
       "    <tr style=\"text-align: right;\">\n",
       "      <th></th>\n",
       "      <th>raw_mail</th>\n",
       "      <th>subject</th>\n",
       "      <th>from</th>\n",
       "      <th>to</th>\n",
       "      <th>status</th>\n",
       "      <th>date</th>\n",
       "      <th>body</th>\n",
       "    </tr>\n",
       "  </thead>\n",
       "  <tbody>\n",
       "    <tr>\n",
       "      <th>155652</th>\n",
       "      <td>Message-ID: &lt;3511365.1075859830818.JavaMail.ev...</td>\n",
       "      <td>eThink About It: 5/21/01</td>\n",
       "      <td>enron.announcements@enron.com</td>\n",
       "      <td>all.worldwide@enron.com</td>\n",
       "      <td>NaN</td>\n",
       "      <td>Sun, 20 May 2001 12:38:00 -0700 (PDT)</td>\n",
       "      <td>Got a question about the Building Guy?  Ask Be...</td>\n",
       "    </tr>\n",
       "    <tr>\n",
       "      <th>128708</th>\n",
       "      <td>Message-ID: &lt;6142735.1075853726105.JavaMail.ev...</td>\n",
       "      <td>Re: July Volume Request for C&amp;I customers behi...</td>\n",
       "      <td>kdestep@columbiaenergygroup.com</td>\n",
       "      <td>chris.germany@enron.com</td>\n",
       "      <td>NaN</td>\n",
       "      <td>Thu, 6 Jul 2000 03:01:00 -0700 (PDT)</td>\n",
       "      <td>Please note that the 280 dth/day is going to 2...</td>\n",
       "    </tr>\n",
       "    <tr>\n",
       "      <th>69961</th>\n",
       "      <td>Message-ID: &lt;207781.1075851651526.JavaMail.eva...</td>\n",
       "      <td>CA Gas-related</td>\n",
       "      <td>jeff.dasovich@enron.com</td>\n",
       "      <td>jeff.dasovich@enron.com</td>\n",
       "      <td>NaN</td>\n",
       "      <td>Tue, 2 Oct 2001 11:11:27 -0700 (PDT)</td>\n",
       "      <td>PG&amp;E Gas Accord--$10K\\nPUC proceeding to consi...</td>\n",
       "    </tr>\n",
       "    <tr>\n",
       "      <th>43325</th>\n",
       "      <td>Message-ID: &lt;5963663.1075857865136.JavaMail.ev...</td>\n",
       "      <td>Southern California Edison Company</td>\n",
       "      <td>rhonda.denton@enron.com</td>\n",
       "      <td>tim.belden@enron.com, dana.davis@enron.com, ge...</td>\n",
       "      <td>NaN</td>\n",
       "      <td>Fri, 17 Nov 2000 02:13:00 -0800 (PST)</td>\n",
       "      <td>We have received the executed Master Power Pur...</td>\n",
       "    </tr>\n",
       "    <tr>\n",
       "      <th>141842</th>\n",
       "      <td>Message-ID: &lt;32045577.1075855218724.JavaMail.e...</td>\n",
       "      <td>Gas Indices</td>\n",
       "      <td>feedback@intcx.com</td>\n",
       "      <td>gasindex@list.intcx.com</td>\n",
       "      <td>NaN</td>\n",
       "      <td>Thu, 27 Dec 2001 10:00:07 -0800 (PST)</td>\n",
       "      <td>\\n\\n                                          ...</td>\n",
       "    </tr>\n",
       "  </tbody>\n",
       "</table>\n",
       "</div>"
      ],
      "text/plain": [
       "                                                 raw_mail  \\\n",
       "155652  Message-ID: <3511365.1075859830818.JavaMail.ev...   \n",
       "128708  Message-ID: <6142735.1075853726105.JavaMail.ev...   \n",
       "69961   Message-ID: <207781.1075851651526.JavaMail.eva...   \n",
       "43325   Message-ID: <5963663.1075857865136.JavaMail.ev...   \n",
       "141842  Message-ID: <32045577.1075855218724.JavaMail.e...   \n",
       "\n",
       "                                                  subject  \\\n",
       "155652                           eThink About It: 5/21/01   \n",
       "128708  Re: July Volume Request for C&I customers behi...   \n",
       "69961                                      CA Gas-related   \n",
       "43325                  Southern California Edison Company   \n",
       "141842                                        Gas Indices   \n",
       "\n",
       "                                   from  \\\n",
       "155652    enron.announcements@enron.com   \n",
       "128708  kdestep@columbiaenergygroup.com   \n",
       "69961           jeff.dasovich@enron.com   \n",
       "43325           rhonda.denton@enron.com   \n",
       "141842               feedback@intcx.com   \n",
       "\n",
       "                                                       to  status  \\\n",
       "155652                            all.worldwide@enron.com     NaN   \n",
       "128708                            chris.germany@enron.com     NaN   \n",
       "69961                             jeff.dasovich@enron.com     NaN   \n",
       "43325   tim.belden@enron.com, dana.davis@enron.com, ge...     NaN   \n",
       "141842                            gasindex@list.intcx.com     NaN   \n",
       "\n",
       "                                         date  \\\n",
       "155652  Sun, 20 May 2001 12:38:00 -0700 (PDT)   \n",
       "128708   Thu, 6 Jul 2000 03:01:00 -0700 (PDT)   \n",
       "69961    Tue, 2 Oct 2001 11:11:27 -0700 (PDT)   \n",
       "43325   Fri, 17 Nov 2000 02:13:00 -0800 (PST)   \n",
       "141842  Thu, 27 Dec 2001 10:00:07 -0800 (PST)   \n",
       "\n",
       "                                                     body  \n",
       "155652  Got a question about the Building Guy?  Ask Be...  \n",
       "128708  Please note that the 280 dth/day is going to 2...  \n",
       "69961   PG&E Gas Accord--$10K\\nPUC proceeding to consi...  \n",
       "43325   We have received the executed Master Power Pur...  \n",
       "141842  \\n\\n                                          ...  "
      ]
     },
     "execution_count": 16,
     "metadata": {},
     "output_type": "execute_result"
    }
   ],
   "source": [
    "enronDataframe.sample(5)"
   ]
  },
  {
   "cell_type": "code",
   "execution_count": 20,
   "metadata": {},
   "outputs": [
    {
     "name": "stdout",
     "output_type": "stream",
     "text": [
      "raw_mail    0\n",
      "subject     0\n",
      "from        0\n",
      "to          0\n",
      "status      0\n",
      "date        0\n",
      "body        0\n",
      "dtype: int64 \n",
      "\n",
      "raw_mail    0\n",
      "subject     0\n",
      "from        0\n",
      "to          0\n",
      "status      0\n",
      "date        0\n",
      "body        0\n",
      "dtype: int64 \n",
      "\n",
      "raw_mail         0\n",
      "subject      19187\n",
      "from             0\n",
      "to           21847\n",
      "status      517401\n",
      "date             0\n",
      "body             0\n",
      "dtype: int64\n"
     ]
    }
   ],
   "source": [
    "print(fraudDataframe.isna().sum(), '\\n') # contains none but isnt register as one\n",
    "print(phishingDataframe.isna().sum(), '\\n') # contains none but isnt register as one\n",
    "print(enronDataframe.isna().sum()) # contains null values"
   ]
  },
  {
   "cell_type": "markdown",
   "metadata": {},
   "source": [
    "As it show above, only the enron datasets contains a null values while in fact all 3 datasets does contains a \"null\" values"
   ]
  },
  {
   "cell_type": "markdown",
   "metadata": {},
   "source": [
    "If we check the values for a \"None\" in a string format we will infact found that the rest of the datasets does in fact contains a Null value "
   ]
  },
  {
   "cell_type": "code",
   "execution_count": 21,
   "metadata": {},
   "outputs": [
    {
     "name": "stdout",
     "output_type": "stream",
     "text": [
      "raw_mail      0\n",
      "subject      17\n",
      "from        365\n",
      "to          948\n",
      "status        0\n",
      "date        534\n",
      "body          0\n",
      "dtype: int64\n",
      "raw_mail     0\n",
      "subject     49\n",
      "from         4\n",
      "to           9\n",
      "status       5\n",
      "date         3\n",
      "body         0\n",
      "dtype: int64\n",
      "raw_mail    0\n",
      "subject     0\n",
      "from        0\n",
      "to          0\n",
      "status      0\n",
      "date        0\n",
      "body        0\n",
      "dtype: int64\n"
     ]
    }
   ],
   "source": [
    "print((fraudDataframe == \"None\").sum())\n",
    "print((phishingDataframe == \"None\").sum())\n",
    "print((enronDataframe == \"None\").sum())"
   ]
  },
  {
   "cell_type": "markdown",
   "metadata": {},
   "source": [
    "Update the datasets to change the \"None\" values to an actual None, by applying a function to each column"
   ]
  },
  {
   "cell_type": "code",
   "execution_count": 22,
   "metadata": {},
   "outputs": [
    {
     "name": "stdout",
     "output_type": "stream",
     "text": [
      "raw_mail    0\n",
      "subject     0\n",
      "from        0\n",
      "to          0\n",
      "status      0\n",
      "date        0\n",
      "body        0\n",
      "dtype: int64\n",
      "raw_mail      0\n",
      "subject      17\n",
      "from        948\n",
      "to          948\n",
      "status        0\n",
      "date        534\n",
      "body          0\n",
      "dtype: int64\n"
     ]
    }
   ],
   "source": [
    "def updateToNone(val):\n",
    "    if val == \"None\":\n",
    "        return None\n",
    "    else:\n",
    "        return val\n",
    "\n",
    "fraudDataframe['subject'] = fraudDataframe['subject'].apply(updateToNone)\n",
    "fraudDataframe['to'] = fraudDataframe['to'].apply(updateToNone)\n",
    "fraudDataframe['from'] = fraudDataframe['to'].apply(updateToNone)\n",
    "fraudDataframe['status'] = fraudDataframe['status'].apply(updateToNone)\n",
    "fraudDataframe['date'] = fraudDataframe['date'].apply(updateToNone)\n",
    "\n",
    "print((fraudDataframe == \"None\").sum())\n",
    "print(fraudDataframe.isna().sum()) "
   ]
  },
  {
   "cell_type": "code",
   "execution_count": 23,
   "metadata": {},
   "outputs": [
    {
     "name": "stdout",
     "output_type": "stream",
     "text": [
      "raw_mail    0\n",
      "subject     0\n",
      "from        0\n",
      "to          0\n",
      "status      0\n",
      "date        0\n",
      "body        0\n",
      "dtype: int64\n",
      "raw_mail      0\n",
      "subject      17\n",
      "from        948\n",
      "to          948\n",
      "status        0\n",
      "date        534\n",
      "body          0\n",
      "dtype: int64\n"
     ]
    }
   ],
   "source": [
    "phishingDataframe['subject'] = phishingDataframe['subject'].apply(updateToNone)\n",
    "phishingDataframe['to'] = phishingDataframe['to'].apply(updateToNone)\n",
    "phishingDataframe['from'] = phishingDataframe['to'].apply(updateToNone)\n",
    "phishingDataframe['status'] = phishingDataframe['status'].apply(updateToNone)\n",
    "phishingDataframe['date'] = phishingDataframe['date'].apply(updateToNone)\n",
    "\n",
    "print((fraudDataframe == \"None\").sum())\n",
    "print(fraudDataframe.isna().sum()) "
   ]
  },
  {
   "cell_type": "markdown",
   "metadata": {},
   "source": [
    "To fix the inconsistensy format of the email in columns \"from\" and \"to\" , we will used regex to extract the valid emails first then, fill the empty values with valid values from the datasets"
   ]
  },
  {
   "cell_type": "markdown",
   "metadata": {},
   "source": [
    "the pattern for capturing a valid email is \"[a-zA-Z0-9-_.]*@a-zA-Z0-9-]*(\\\\.[a-zA-Z]*)*\""
   ]
  },
  {
   "attachments": {},
   "cell_type": "markdown",
   "metadata": {},
   "source": [
    "this pattern will look for email that have a valid username + @ + domain"
   ]
  },
  {
   "attachments": {},
   "cell_type": "markdown",
   "metadata": {},
   "source": [
    "Applying the regex pattern will be done to each \"From\" and \"To\" column for each datasets using"
   ]
  },
  {
   "cell_type": "code",
   "execution_count": 24,
   "metadata": {},
   "outputs": [],
   "source": [
    "pattern = \"([a-zA-Z0-9-_.]*@[a-zA-Z0-9-]*(\\.[a-zA-Z]*)*)\""
   ]
  },
  {
   "cell_type": "code",
   "execution_count": 27,
   "metadata": {},
   "outputs": [
    {
     "name": "stderr",
     "output_type": "stream",
     "text": [
      "C:\\Users\\chandieka\\AppData\\Local\\Temp\\ipykernel_11028\\484309136.py:1: UserWarning: This pattern is interpreted as a regular expression, and has match groups. To actually get the groups, use str.extract.\n",
      "  p_count = phishingDataframe[phishingDataframe['from'].str.contains(\n",
      "C:\\Users\\chandieka\\AppData\\Local\\Temp\\ipykernel_11028\\484309136.py:3: UserWarning: This pattern is interpreted as a regular expression, and has match groups. To actually get the groups, use str.extract.\n",
      "  f_count = fraudDataframe[fraudDataframe['from'].str.contains(\n",
      "C:\\Users\\chandieka\\AppData\\Local\\Temp\\ipykernel_11028\\484309136.py:5: UserWarning: This pattern is interpreted as a regular expression, and has match groups. To actually get the groups, use str.extract.\n",
      "  e_count = enronDataframe[enronDataframe['from'].str.contains(\n"
     ]
    },
    {
     "name": "stdout",
     "output_type": "stream",
     "text": [
      "Phishing missing from email 1220\n",
      "fraud missing from email 545\n",
      "enron missing from email 1\n"
     ]
    }
   ],
   "source": [
    "p_count = phishingDataframe[phishingDataframe['from'].str.contains(\n",
    "    pattern) == False]['from'].count()\n",
    "f_count = fraudDataframe[fraudDataframe['from'].str.contains(\n",
    "    pattern, regex=True) == False]['from'].count()\n",
    "e_count = enronDataframe[enronDataframe['from'].str.contains(\n",
    "    pattern, regex=True) == False]['to'].count()\n",
    "\n",
    "print(\"Phishing missing from email:\", p_count)\n",
    "print(\"fraud missing from email:\", f_count)\n",
    "print(\"enron missing from email:\", e_count)"
   ]
  },
  {
   "cell_type": "code",
   "execution_count": null,
   "metadata": {},
   "outputs": [],
   "source": [
    "p_count = phishingDataframe[phishingDataframe['from'].str.contains(\n",
    "    '[a-zA-Z0-9-_.]*@a-zA-Z0-9-]*(\\.[a-zA-Z]*)*', regex=True) == False]['from'].count()\n",
    "f_count = fraudDataframe[fraudDataframe['from'].str.contains(\n",
    "    '([a-zA-Z0-9-_.])*@([a-zA-Z0-9-])*(\\.[a-zA-Z]*)*', regex=True) == False]['from'].count()\n",
    "e_count = enronDataframe[enronDataframe['from'].str.contains(\n",
    "    '([a-zA-Z0-9-_.])*@([a-zA-Z0-9-])*(\\.[a-zA-Z]*)*', regex=True) == False]['to'].count()\n",
    "\n",
    "print(\"Phishing missing from email\", p_count)\n",
    "print(\"fraud missing from email\", f_count)\n",
    "print(\"enron missing from email\", e_count)\n"
   ]
  },
  {
   "attachments": {},
   "cell_type": "markdown",
   "metadata": {},
   "source": [
    "the 2 cells above shows the number of time the pattern match for each datasets"
   ]
  },
  {
   "cell_type": "code",
   "execution_count": 31,
   "metadata": {},
   "outputs": [],
   "source": [
    "parsedFrom = fraudDataframe['from'].str.extract(pattern)\n",
    "parsedTo = fraudDataframe['to'].str.extract(pattern)\n",
    "\n",
    "fraudDataframe['parsed_from'] = parsedFrom[0]\n",
    "fraudDataframe['parsed_to'] = parsedTo[0]"
   ]
  },
  {
   "cell_type": "code",
   "execution_count": 15,
   "metadata": {},
   "outputs": [],
   "source": [
    "parsedFrom = phishingDataframe['from'].str.extract(pattern)\n",
    "parsedTo = phishingDataframe['to'].str.extract(pattern)\n",
    "\n",
    "phishingDataframe['parsed_from'] = parsedFrom[0]\n",
    "phishingDataframe['parsed_to'] = parsedTo[0]"
   ]
  },
  {
   "cell_type": "code",
   "execution_count": 16,
   "metadata": {},
   "outputs": [],
   "source": [
    "parsedFrom = enronDataframe['from'].str.extract(pattern)\n",
    "parsedTo = enronDataframe['to'].str.extract(pattern)\n",
    "\n",
    "enronDataframe['parsed_from'] = parsedFrom[0]\n",
    "enronDataframe['parsed_to'] = parsedTo[0]"
   ]
  },
  {
   "cell_type": "markdown",
   "metadata": {},
   "source": [
    "Bellow is the kind of fields that wasnt register as an email"
   ]
  },
  {
   "cell_type": "code",
   "execution_count": 17,
   "metadata": {},
   "outputs": [
    {
     "name": "stdout",
     "output_type": "stream",
     "text": [
      "[None 'undisclosed-recipients: ;' 'undisclosed-recipients:;' ''\n",
      " 'undisclosed recipients: ;' 'N/A <>, N/A <>' 'N/A <>']\n",
      "[None 'undisclosed-recipients: ;' 'undisclosed-recipients:;' ''\n",
      " 'undisclosed recipients: ;' 'N/A <>, N/A <>' 'N/A <>']\n",
      "['undisclosed-recipients: ;' '[removed]' None 'undisclosed-recipients:;'\n",
      " 'unlisted-recipients:; (no To-header on input)'\n",
      " '<Undisclosed-Recipient:;>' '=?euc-kr?B?u+e2+7nnu/W6rsbtwfawocG3?=' '']\n",
      "['undisclosed-recipients: ;' '[removed]' None 'undisclosed-recipients:;'\n",
      " 'unlisted-recipients:; (no To-header on input)'\n",
      " '<Undisclosed-Recipient:;>' '=?euc-kr?B?u+e2+7nnu/W6rsbtwfawocG3?=' '']\n"
     ]
    }
   ],
   "source": [
    "print(fraudDataframe[fraudDataframe['parsed_from'].isna()]['from'].unique())\n",
    "print(fraudDataframe[fraudDataframe['parsed_to'].isna()]['to'].unique())\n",
    "print(phishingDataframe[phishingDataframe['parsed_from'].isna()]['from'].unique())\n",
    "print(phishingDataframe[phishingDataframe['parsed_to'].isna()]['to'].unique())"
   ]
  },
  {
   "cell_type": "code",
   "execution_count": 18,
   "metadata": {},
   "outputs": [],
   "source": [
    "phishingDataframe['parsed_from'] = phishingDataframe['parsed_from'].ffill().bfill()\n",
    "fraudDataframe['parsed_from'] = fraudDataframe['parsed_from'].ffill().bfill()\n",
    "enronDataframe['parsed_from'] = enronDataframe['parsed_from'].ffill().bfill()"
   ]
  },
  {
   "cell_type": "code",
   "execution_count": 19,
   "metadata": {},
   "outputs": [],
   "source": [
    "phishingDataframe['parsed_to'] = phishingDataframe['parsed_to'].ffill().bfill()\n",
    "fraudDataframe['parsed_to'] = fraudDataframe['parsed_to'].ffill().bfill()\n",
    "enronDataframe['parsed_to'] = enronDataframe['parsed_to'].ffill().bfill()"
   ]
  },
  {
   "cell_type": "markdown",
   "metadata": {},
   "source": [
    "all the datasets subject column contains a null value, we will fill this value using existing fields in the datasets"
   ]
  },
  {
   "cell_type": "code",
   "execution_count": 20,
   "metadata": {},
   "outputs": [],
   "source": [
    "phishingDataframe['subject'] = phishingDataframe.subject.ffill().bfill()\n",
    "fraudDataframe['subject'] = fraudDataframe.subject.ffill().bfill()\n",
    "enronDataframe['subject'] = enronDataframe.subject.ffill().bfill()"
   ]
  },
  {
   "cell_type": "code",
   "execution_count": 21,
   "metadata": {},
   "outputs": [
    {
     "name": "stdout",
     "output_type": "stream",
     "text": [
      "Number of row that have empty subject for phishingDataframe: 0\n",
      "Number of row that have empty subject for fraudDataframe: 0\n",
      "Number of row that have empty subject for enronDataframe: 0\n"
     ]
    }
   ],
   "source": [
    "print('Number of row that have empty subject for phishingDataframe:', phishingDataframe.subject.isnull().sum())\n",
    "print('Number of row that have empty subject for fraudDataframe:', fraudDataframe.subject.isnull().sum())\n",
    "print('Number of row that have empty subject for enronDataframe:', enronDataframe.subject.isnull().sum())"
   ]
  },
  {
   "cell_type": "code",
   "execution_count": 32,
   "metadata": {},
   "outputs": [],
   "source": [
    "enronDataframe['parsed_date'] = enronDataframe.date.apply(lambda date: parser.parse(date).isoformat())"
   ]
  },
  {
   "cell_type": "markdown",
   "metadata": {},
   "source": [
    "Fill empty fields so no null exist by doing backward and forward fill"
   ]
  },
  {
   "cell_type": "code",
   "execution_count": 33,
   "metadata": {},
   "outputs": [],
   "source": [
    "fraudDataframe.date = fraudDataframe.date.ffill().bfill()\n",
    "phishingDataframe.date = phishingDataframe.date.ffill().bfill()"
   ]
  },
  {
   "cell_type": "code",
   "execution_count": 34,
   "metadata": {},
   "outputs": [
    {
     "name": "stdout",
     "output_type": "stream",
     "text": [
      "Total date row that are not in format for phishingDataframe: 444\n",
      "Total date row that are not in format for phishingDataframe: 151\n"
     ]
    }
   ],
   "source": [
    "diff = phishingDataframe.shape[0] - phishingDataframe.date.str.contains('[A-Za-z]{0,3}, \\d* [A-Za-z]{0,3} \\d{4}').sum()\n",
    "print(\"Total date row that are not in format for phishingDataframe:\", diff)\n",
    "diff = fraudDataframe.shape[0] - fraudDataframe.date.str.contains('[A-Za-z]{0,3}, \\d* [A-Za-z]{0,3} \\d{4}').sum()\n",
    "print(\"Total date row that are not in format for phishingDataframe:\", diff)"
   ]
  },
  {
   "cell_type": "code",
   "execution_count": 35,
   "metadata": {},
   "outputs": [],
   "source": [
    "def parseDate(date):\n",
    "    try:\n",
    "        return parser.parse(date).isoformat()\n",
    "    except Exception as e:\n",
    "        return None"
   ]
  },
  {
   "cell_type": "code",
   "execution_count": 36,
   "metadata": {},
   "outputs": [
    {
     "name": "stderr",
     "output_type": "stream",
     "text": [
      "c:\\Users\\candi\\anaconda3\\lib\\site-packages\\dateutil\\parser\\_parser.py:1207: UnknownTimezoneWarning: tzname CEST identified but not understood.  Pass `tzinfos` argument in order to correctly return a timezone-aware datetime.  In a future version, this will raise an exception.\n",
      "  warnings.warn(\"tzname {tzname} identified but not understood.  \"\n"
     ]
    }
   ],
   "source": [
    "phishingDataframe['parsed_date'] = phishingDataframe.date.str.replace('\\.', ':', regex=True)\n",
    "phishingDataframe['parsed_date'] = phishingDataframe['parsed_date'].apply(parseDate)"
   ]
  },
  {
   "cell_type": "markdown",
   "metadata": {},
   "source": [
    "Manual cleaning for cases that are to few to automate"
   ]
  },
  {
   "cell_type": "code",
   "execution_count": 37,
   "metadata": {},
   "outputs": [],
   "source": [
    "phishingDataframe.loc[821].parsed_date = parser.parse(\"Fri, 09 Jun 2006 08:23:29 +0500 (EST)\").isoformat()\n",
    "phishingDataframe.loc[892].parsed_date = parser.parse(\"Fri, 23 Jun 2006 13:25:46 -0100 (EST)\").isoformat()\n",
    "phishingDataframe.loc[896].parsed_date = parser.parse(\"Fri, 23 Jun 2006 21:36:05 +0800\").isoformat()\n",
    "phishingDataframe.loc[1066].parsed_date = parser.parse(\"Wed, 26 Jul 2006 09:48:28 -0800\").isoformat()\n",
    "phishingDataframe.loc[1067].parsed_date = parser.parse(\"Wed, 26 Jul 2006 12:50:48 -0600\").isoformat()\n",
    "phishingDataframe.loc[1072].parsed_date = parser.parse(\"Thu, 27 Jul 2006 03:06:10 -0800\").isoformat()\n",
    "phishingDataframe.loc[1074].parsed_date = parser.parse(\"Wed, 26 Jul 2006 15:24:52 -0500\").isoformat()\n",
    "phishingDataframe.loc[1075].parsed_date = parser.parse(\"Wed, 26 Jul 2006 15:43:42 -0500\").isoformat()\n",
    "phishingDataframe.loc[1076].parsed_date = parser.parse(\"Wed, 26 Jul 2006 19:03:49 -0300\").isoformat()\n",
    "phishingDataframe.loc[1077].parsed_date = parser.parse(\"Wed, 26 Jul 2006 19:35:02 -0300\").isoformat()\n",
    "phishingDataframe.loc[1095].parsed_date = parser.parse(\"31.07.2006\").isoformat()\n",
    "phishingDataframe.loc[1173].parsed_date = parser.parse(\"Thu, 3 Aug 2006 00:13:00 -0530\").isoformat()\n",
    "phishingDataframe.loc[2421].parsed_date = parser.parse(\"Tue, 09 Jan 2007 14:00:44 +0430\").isoformat()\n",
    "phishingDataframe.loc[3540].parsed_date = parser.parse(\"Sun, 10 Sep 2006 14:00:47 +0000\").isoformat()\n",
    "phishingDataframe.loc[3643].parsed_date = parser.parse(\"Fri, 09 Mar 2007 18:11:57 +0530\").isoformat()\n",
    "phishingDataframe.loc[3896].parsed_date = parser.parse(\"07.08.2006\").isoformat()\n",
    "phishingDataframe.loc[3963].parsed_date = parser.parse(\"Mon, 24 Feb 2003 17:32:08 +0000\").isoformat()\n",
    "phishingDataframe.loc[4117].parsed_date = parser.parse(\"Sun, 10 Sep 2006 12:08:54 -0300\").isoformat()"
   ]
  },
  {
   "cell_type": "code",
   "execution_count": 38,
   "metadata": {},
   "outputs": [
    {
     "name": "stderr",
     "output_type": "stream",
     "text": [
      "c:\\Users\\candi\\anaconda3\\lib\\site-packages\\dateutil\\parser\\_parser.py:1207: UnknownTimezoneWarning: tzname BST identified but not understood.  Pass `tzinfos` argument in order to correctly return a timezone-aware datetime.  In a future version, this will raise an exception.\n",
      "  warnings.warn(\"tzname {tzname} identified but not understood.  \"\n"
     ]
    }
   ],
   "source": [
    "fraudDataframe['parsed_date'] = fraudDataframe.date.str.replace('\\.', ':', regex=True)\n",
    "fraudDataframe['parsed_date'] = fraudDataframe['parsed_date'].apply(parseDate)"
   ]
  },
  {
   "cell_type": "code",
   "execution_count": 39,
   "metadata": {},
   "outputs": [],
   "source": [
    "def myfunc(row):\n",
    "    if row.parsed_date == None:\n",
    "        try:\n",
    "            row.parsed_date = parser.parse(\n",
    "                re.search(\"([A-Za-z]{1,3}, \\d{0,2} [A-Za-z]* \\d{2,4} \\d{2}:\\d{2}:\\d{2} ((\\+|\\-)?\\d{4})?)\", \n",
    "                          row.date).group(1)).isoformat()\n",
    "            return row\n",
    "        except Exception as e:\n",
    "            return row\n",
    "    else:\n",
    "        return row\n",
    "\n",
    "fraudDataframe = fraudDataframe.apply(myfunc, axis=1)"
   ]
  },
  {
   "cell_type": "markdown",
   "metadata": {},
   "source": [
    "Manual Updates for cases that are to few to automate"
   ]
  },
  {
   "cell_type": "code",
   "execution_count": 40,
   "metadata": {},
   "outputs": [],
   "source": [
    "fraudDataframe.loc[542].parsed_date = parser.parse(\"Sun, 09 nov 2003 21:18:28\").isoformat()\n",
    "fraudDataframe.loc[1236].parsed_date = parser.parse(\"Tue, 09 nov 2004 15:38:35 -0300\").isoformat()"
   ]
  },
  {
   "cell_type": "markdown",
   "metadata": {},
   "source": [
    "Add prediction label that will be used in model training"
   ]
  },
  {
   "cell_type": "code",
   "execution_count": 41,
   "metadata": {},
   "outputs": [],
   "source": [
    "fraudDataframe['malicious'] = True\n",
    "phishingDataframe['malicious'] = True\n",
    "enronDataframe['malicious'] = False"
   ]
  },
  {
   "cell_type": "code",
   "execution_count": 42,
   "metadata": {},
   "outputs": [],
   "source": [
    "fraudDataframe.to_csv(path_or_buf='datasets/clean/fraud-emails.csv', index=False)\n",
    "phishingDataframe.to_csv(path_or_buf='datasets/clean/phishing-emails.csv', index=False)\n",
    "enronDataframe.to_csv(path_or_buf='datasets/clean/enron-emails.csv', index=False)"
   ]
  }
 ],
 "metadata": {
  "kernelspec": {
   "display_name": "Python 3.9.12 ('base')",
   "language": "python",
   "name": "python3"
  },
  "language_info": {
   "codemirror_mode": {
    "name": "ipython",
    "version": 3
   },
   "file_extension": ".py",
   "mimetype": "text/x-python",
   "name": "python",
   "nbconvert_exporter": "python",
   "pygments_lexer": "ipython3",
   "version": "3.9.12"
  },
  "orig_nbformat": 4,
  "vscode": {
   "interpreter": {
    "hash": "3f83a4b8e1c187aca35894c8eeaad8267ead7007e3a6e08dfe58ab16c9dd478f"
   }
  }
 },
 "nbformat": 4,
 "nbformat_minor": 2
}
