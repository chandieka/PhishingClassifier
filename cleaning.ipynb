{
 "cells": [
  {
   "cell_type": "markdown",
   "metadata": {},
   "source": [
    "# Summary"
   ]
  },
  {
   "cell_type": "markdown",
   "metadata": {},
   "source": [
    "The following is the step taken to clean the datasets\n",
    "- Removing duplicates based on 'raw_mail' column\n",
    "- Change the \"None\" to an actuall None value to all column\n",
    "- Remove email address that is not in the same format\n",
    "- Fill empty/none email address with bfill and ffill\n",
    "- Fill empty/none subject with bffill and ffill\n",
    "- Update the 'date' so it is in one format\n",
    "- Add malicious column"
   ]
  },
  {
   "cell_type": "markdown",
   "metadata": {},
   "source": [
    "# import libraries"
   ]
  },
  {
   "cell_type": "code",
   "execution_count": 33,
   "metadata": {},
   "outputs": [],
   "source": [
    "import pandas as pd\n",
    "from datetime import datetime\n",
    "from dateutil import parser\n",
    "import re"
   ]
  },
  {
   "cell_type": "markdown",
   "metadata": {},
   "source": [
    "Parse the datasets into dataframe"
   ]
  },
  {
   "cell_type": "code",
   "execution_count": 34,
   "metadata": {},
   "outputs": [],
   "source": [
    "fraudDataframe = pd.read_json('datasets/raw/fradulent_emails.json', orient='index')\n",
    "phishingDataframe = pd.read_json('datasets/raw/phishing-chorpus.json', orient='index')\n",
    "enronDataframe = pd.read_csv('datasets/raw/enron-emails.csv')"
   ]
  },
  {
   "cell_type": "markdown",
   "metadata": {},
   "source": [
    "Remove duplicates"
   ]
  },
  {
   "cell_type": "code",
   "execution_count": 35,
   "metadata": {},
   "outputs": [],
   "source": [
    "fraudDataframe = fraudDataframe.drop_duplicates(subset=\"raw_mail\")\n",
    "phishingDataframe = phishingDataframe.drop_duplicates(subset=\"raw_mail\")\n",
    "enronDataframe = enronDataframe.drop_duplicates(subset=\"raw_mail\")"
   ]
  },
  {
   "cell_type": "code",
   "execution_count": 36,
   "metadata": {},
   "outputs": [
    {
     "name": "stdout",
     "output_type": "stream",
     "text": [
      "<class 'pandas.core.frame.DataFrame'>\n",
      "Int64Index: 3939 entries, 0 to 3977\n",
      "Data columns (total 7 columns):\n",
      " #   Column    Non-Null Count  Dtype \n",
      "---  ------    --------------  ----- \n",
      " 0   raw_mail  3939 non-null   object\n",
      " 1   subject   3939 non-null   object\n",
      " 2   from      3939 non-null   object\n",
      " 3   to        3939 non-null   object\n",
      " 4   status    3939 non-null   object\n",
      " 5   date      3939 non-null   object\n",
      " 6   body      3939 non-null   object\n",
      "dtypes: object(7)\n",
      "memory usage: 246.2+ KB\n",
      "None\n"
     ]
    },
    {
     "data": {
      "text/html": [
       "<div>\n",
       "<style scoped>\n",
       "    .dataframe tbody tr th:only-of-type {\n",
       "        vertical-align: middle;\n",
       "    }\n",
       "\n",
       "    .dataframe tbody tr th {\n",
       "        vertical-align: top;\n",
       "    }\n",
       "\n",
       "    .dataframe thead th {\n",
       "        text-align: right;\n",
       "    }\n",
       "</style>\n",
       "<table border=\"1\" class=\"dataframe\">\n",
       "  <thead>\n",
       "    <tr style=\"text-align: right;\">\n",
       "      <th></th>\n",
       "      <th>raw_mail</th>\n",
       "      <th>subject</th>\n",
       "      <th>from</th>\n",
       "      <th>to</th>\n",
       "      <th>status</th>\n",
       "      <th>date</th>\n",
       "      <th>body</th>\n",
       "    </tr>\n",
       "  </thead>\n",
       "  <tbody>\n",
       "    <tr>\n",
       "      <th>1494</th>\n",
       "      <td>Return-Path: &lt;mlipenza@hotmail.com&gt;\\nX-Sieve: ...</td>\n",
       "      <td>CONFIDENTIAL</td>\n",
       "      <td>\"Micheal Ipenza\" &lt;mlipenza@hotmail.com&gt;</td>\n",
       "      <td>R@S</td>\n",
       "      <td>O</td>\n",
       "      <td>Fri, 11 Mar 2005 17:20:12 -0800</td>\n",
       "      <td>Dear PRESIDENT=2FDIRECTOR=2C \\n\\nMy name is Mr...</td>\n",
       "    </tr>\n",
       "    <tr>\n",
       "      <th>3063</th>\n",
       "      <td>Return-Path: &lt;aj_suleiman@hotmail.com&gt;\\nX-Siev...</td>\n",
       "      <td>COMPENSATION FOR ALL THE PAST EFFORT</td>\n",
       "      <td>\"suleiman ahmed\" &lt;aj_suleiman@hotmail.com&gt;</td>\n",
       "      <td>undisclosed-recipients: ;</td>\n",
       "      <td>RO</td>\n",
       "      <td>Fri, 22 Sep 2006 20:01:36 +0000</td>\n",
       "      <td>&lt;html&gt;&lt;div style='background-color:'&gt;&lt;DIV&gt;\\n&lt;D...</td>\n",
       "    </tr>\n",
       "    <tr>\n",
       "      <th>150</th>\n",
       "      <td>Return-Path: &lt;danielkalukalu@netscape.net&gt;\\n\\t...</td>\n",
       "      <td>GOOD  DAY</td>\n",
       "      <td>\"MR DANIEL KALU\" &lt;danielkalukalu@netscape.net&gt;</td>\n",
       "      <td>R@M</td>\n",
       "      <td>O</td>\n",
       "      <td>Sat, 04 Oct 2003 06:17:14</td>\n",
       "      <td>danielkalukalu@netscape.net\\nkalukalu2003@ecpl...</td>\n",
       "    </tr>\n",
       "    <tr>\n",
       "      <th>2707</th>\n",
       "      <td>Return-Path: &lt;aishamohm@she.com&gt;\\nX-Sieve: CMU...</td>\n",
       "      <td>CONFIDENTIAL PROPOSAL FROM AISHA MOHAMMED</td>\n",
       "      <td>\"MRS AISHA MOHAMMED\" &lt;aishamohm@she.com&gt;</td>\n",
       "      <td>R@M</td>\n",
       "      <td>O</td>\n",
       "      <td>Mon, 19 Jun 2006 16:39:45 +0700</td>\n",
       "      <td>From=3AMrs MOHAMMED=2E \\nAttn=3AThe Managing D...</td>\n",
       "    </tr>\n",
       "    <tr>\n",
       "      <th>3053</th>\n",
       "      <td>X-Sieve: CMU Sieve 2.3\\n\\tWed, 20 Sep 2006 00:...</td>\n",
       "      <td>PAYMENT REPRESENTATIVE OFFER</td>\n",
       "      <td>\"Dr. Thomas D. Owen Jr\" &lt;spresearch25@myway.co...</td>\n",
       "      <td>None</td>\n",
       "      <td>O</td>\n",
       "      <td>Wed, 20 Sep 2006 00:03:53 -0400</td>\n",
       "      <td>Dear Sir/Madam,\\n\\nHow are you doing. I came a...</td>\n",
       "    </tr>\n",
       "  </tbody>\n",
       "</table>\n",
       "</div>"
      ],
      "text/plain": [
       "                                               raw_mail  \\\n",
       "1494  Return-Path: <mlipenza@hotmail.com>\\nX-Sieve: ...   \n",
       "3063  Return-Path: <aj_suleiman@hotmail.com>\\nX-Siev...   \n",
       "150   Return-Path: <danielkalukalu@netscape.net>\\n\\t...   \n",
       "2707  Return-Path: <aishamohm@she.com>\\nX-Sieve: CMU...   \n",
       "3053  X-Sieve: CMU Sieve 2.3\\n\\tWed, 20 Sep 2006 00:...   \n",
       "\n",
       "                                        subject  \\\n",
       "1494                               CONFIDENTIAL   \n",
       "3063       COMPENSATION FOR ALL THE PAST EFFORT   \n",
       "150                                   GOOD  DAY   \n",
       "2707  CONFIDENTIAL PROPOSAL FROM AISHA MOHAMMED   \n",
       "3053               PAYMENT REPRESENTATIVE OFFER   \n",
       "\n",
       "                                                   from  \\\n",
       "1494            \"Micheal Ipenza\" <mlipenza@hotmail.com>   \n",
       "3063         \"suleiman ahmed\" <aj_suleiman@hotmail.com>   \n",
       "150      \"MR DANIEL KALU\" <danielkalukalu@netscape.net>   \n",
       "2707           \"MRS AISHA MOHAMMED\" <aishamohm@she.com>   \n",
       "3053  \"Dr. Thomas D. Owen Jr\" <spresearch25@myway.co...   \n",
       "\n",
       "                             to status                             date  \\\n",
       "1494                        R@S      O  Fri, 11 Mar 2005 17:20:12 -0800   \n",
       "3063  undisclosed-recipients: ;     RO  Fri, 22 Sep 2006 20:01:36 +0000   \n",
       "150                         R@M      O        Sat, 04 Oct 2003 06:17:14   \n",
       "2707                        R@M      O  Mon, 19 Jun 2006 16:39:45 +0700   \n",
       "3053                       None      O  Wed, 20 Sep 2006 00:03:53 -0400   \n",
       "\n",
       "                                                   body  \n",
       "1494  Dear PRESIDENT=2FDIRECTOR=2C \\n\\nMy name is Mr...  \n",
       "3063  <html><div style='background-color:'><DIV>\\n<D...  \n",
       "150   danielkalukalu@netscape.net\\nkalukalu2003@ecpl...  \n",
       "2707  From=3AMrs MOHAMMED=2E \\nAttn=3AThe Managing D...  \n",
       "3053  Dear Sir/Madam,\\n\\nHow are you doing. I came a...  "
      ]
     },
     "execution_count": 36,
     "metadata": {},
     "output_type": "execute_result"
    }
   ],
   "source": [
    "print(fraudDataframe.info())\n",
    "fraudDataframe.sample(5)"
   ]
  },
  {
   "cell_type": "code",
   "execution_count": 37,
   "metadata": {},
   "outputs": [
    {
     "name": "stdout",
     "output_type": "stream",
     "text": [
      "<class 'pandas.core.frame.DataFrame'>\n",
      "Int64Index: 4190 entries, 0 to 4195\n",
      "Data columns (total 7 columns):\n",
      " #   Column    Non-Null Count  Dtype \n",
      "---  ------    --------------  ----- \n",
      " 0   raw_mail  4190 non-null   object\n",
      " 1   subject   4190 non-null   object\n",
      " 2   from      4190 non-null   object\n",
      " 3   to        4190 non-null   object\n",
      " 4   status    4190 non-null   object\n",
      " 5   date      4190 non-null   object\n",
      " 6   body      4190 non-null   object\n",
      "dtypes: object(7)\n",
      "memory usage: 261.9+ KB\n",
      "None\n"
     ]
    },
    {
     "data": {
      "text/html": [
       "<div>\n",
       "<style scoped>\n",
       "    .dataframe tbody tr th:only-of-type {\n",
       "        vertical-align: middle;\n",
       "    }\n",
       "\n",
       "    .dataframe tbody tr th {\n",
       "        vertical-align: top;\n",
       "    }\n",
       "\n",
       "    .dataframe thead th {\n",
       "        text-align: right;\n",
       "    }\n",
       "</style>\n",
       "<table border=\"1\" class=\"dataframe\">\n",
       "  <thead>\n",
       "    <tr style=\"text-align: right;\">\n",
       "      <th></th>\n",
       "      <th>raw_mail</th>\n",
       "      <th>subject</th>\n",
       "      <th>from</th>\n",
       "      <th>to</th>\n",
       "      <th>status</th>\n",
       "      <th>date</th>\n",
       "      <th>body</th>\n",
       "    </tr>\n",
       "  </thead>\n",
       "  <tbody>\n",
       "    <tr>\n",
       "      <th>2566</th>\n",
       "      <td>Return-Path: &lt;support@chaseonline.chase.com&gt;\\n...</td>\n",
       "      <td>Notification from Online Customer Support Depa...</td>\n",
       "      <td>\"Chase Bank Inc.\" &lt;support@chaseonline.chase.com&gt;</td>\n",
       "      <td>user@example.com, nelson@example.com, slashdot...</td>\n",
       "      <td>O</td>\n",
       "      <td>Thu, 01 Feb 2007 15:53:39 -0200</td>\n",
       "      <td>&lt;html&gt;&lt;head&gt;&lt;style type=3D\"text/css\"&gt;&lt;!--\\r\\nb...</td>\n",
       "    </tr>\n",
       "    <tr>\n",
       "      <th>3145</th>\n",
       "      <td>Return-Path: &lt;Paypal@paypal.com&gt;\\nX-Original-T...</td>\n",
       "      <td>Regular Maintenance - Review Your Account Details</td>\n",
       "      <td>\"Paypal\" &lt;Paypal@paypal.com&gt;</td>\n",
       "      <td>PayPal@tvconline.net</td>\n",
       "      <td>RO</td>\n",
       "      <td>Mon, 21 May 2007 16:55:52 -0400</td>\n",
       "      <td>&lt;HTML&gt;&lt;HEAD&gt;&lt;TITLE&gt;&lt;/TITLE&gt;\\r\\n&lt;/HEAD&gt;\\r\\n&lt;BOD...</td>\n",
       "    </tr>\n",
       "    <tr>\n",
       "      <th>3511</th>\n",
       "      <td>Return-Path: &lt;user@mail.example.com&gt;\\nDelivere...</td>\n",
       "      <td>Security Update</td>\n",
       "      <td>\"Bank Of The West\" &lt;confirm@bankofthewest.com&gt;</td>\n",
       "      <td>user@biochemistry.bioc.cwru.edu</td>\n",
       "      <td>RO</td>\n",
       "      <td>Mon, 13 Jun 2005 09:52:58 +0100</td>\n",
       "      <td>&lt;!DOCTYPE HTML PUBLIC \"-//W3C//DTD HTML 4.01 T...</td>\n",
       "    </tr>\n",
       "    <tr>\n",
       "      <th>1628</th>\n",
       "      <td>Return-Path: &lt;jimts@earthlink.net&gt;\\nX-Original...</td>\n",
       "      <td>Notification</td>\n",
       "      <td>Update Now &lt;jimts@earthlink.net&gt;</td>\n",
       "      <td>undisclosed-recipients: ;</td>\n",
       "      <td>O</td>\n",
       "      <td>Wed, 8 Mar 2006 17:19:08 -0500</td>\n",
       "      <td>&lt;html&gt;\\r\\n&lt;head&gt;\\r\\n&lt;title&gt;&lt;/title&gt;\\r\\n&lt;meta h...</td>\n",
       "    </tr>\n",
       "    <tr>\n",
       "      <th>1805</th>\n",
       "      <td>Return-Path: &lt;chaseonline@chaseonline.chase.co...</td>\n",
       "      <td>New Message from Chase Online(SM)</td>\n",
       "      <td>\"Chase Online Banking\" &lt;chaseonline@chaseonlin...</td>\n",
       "      <td>nobody@example.com, fern@example.com</td>\n",
       "      <td>RO</td>\n",
       "      <td>Wed, 29 Mar 2006 23:30:29 +0100</td>\n",
       "      <td>&lt;html&gt;\\r\\n&lt;head&gt;\\r\\n&lt;!--eBay V3- msxml 4.0 XXX...</td>\n",
       "    </tr>\n",
       "  </tbody>\n",
       "</table>\n",
       "</div>"
      ],
      "text/plain": [
       "                                               raw_mail  \\\n",
       "2566  Return-Path: <support@chaseonline.chase.com>\\n...   \n",
       "3145  Return-Path: <Paypal@paypal.com>\\nX-Original-T...   \n",
       "3511  Return-Path: <user@mail.example.com>\\nDelivere...   \n",
       "1628  Return-Path: <jimts@earthlink.net>\\nX-Original...   \n",
       "1805  Return-Path: <chaseonline@chaseonline.chase.co...   \n",
       "\n",
       "                                                subject  \\\n",
       "2566  Notification from Online Customer Support Depa...   \n",
       "3145  Regular Maintenance - Review Your Account Details   \n",
       "3511                                    Security Update   \n",
       "1628                                       Notification   \n",
       "1805                  New Message from Chase Online(SM)   \n",
       "\n",
       "                                                   from  \\\n",
       "2566  \"Chase Bank Inc.\" <support@chaseonline.chase.com>   \n",
       "3145                       \"Paypal\" <Paypal@paypal.com>   \n",
       "3511     \"Bank Of The West\" <confirm@bankofthewest.com>   \n",
       "1628                   Update Now <jimts@earthlink.net>   \n",
       "1805  \"Chase Online Banking\" <chaseonline@chaseonlin...   \n",
       "\n",
       "                                                     to status  \\\n",
       "2566  user@example.com, nelson@example.com, slashdot...      O   \n",
       "3145                               PayPal@tvconline.net     RO   \n",
       "3511                    user@biochemistry.bioc.cwru.edu     RO   \n",
       "1628                          undisclosed-recipients: ;      O   \n",
       "1805               nobody@example.com, fern@example.com     RO   \n",
       "\n",
       "                                 date  \\\n",
       "2566  Thu, 01 Feb 2007 15:53:39 -0200   \n",
       "3145  Mon, 21 May 2007 16:55:52 -0400   \n",
       "3511  Mon, 13 Jun 2005 09:52:58 +0100   \n",
       "1628   Wed, 8 Mar 2006 17:19:08 -0500   \n",
       "1805  Wed, 29 Mar 2006 23:30:29 +0100   \n",
       "\n",
       "                                                   body  \n",
       "2566  <html><head><style type=3D\"text/css\"><!--\\r\\nb...  \n",
       "3145  <HTML><HEAD><TITLE></TITLE>\\r\\n</HEAD>\\r\\n<BOD...  \n",
       "3511  <!DOCTYPE HTML PUBLIC \"-//W3C//DTD HTML 4.01 T...  \n",
       "1628  <html>\\r\\n<head>\\r\\n<title></title>\\r\\n<meta h...  \n",
       "1805  <html>\\r\\n<head>\\r\\n<!--eBay V3- msxml 4.0 XXX...  "
      ]
     },
     "execution_count": 37,
     "metadata": {},
     "output_type": "execute_result"
    }
   ],
   "source": [
    "print(phishingDataframe.info())\n",
    "phishingDataframe.sample(5)"
   ]
  },
  {
   "cell_type": "code",
   "execution_count": 38,
   "metadata": {},
   "outputs": [
    {
     "name": "stdout",
     "output_type": "stream",
     "text": [
      "<class 'pandas.core.frame.DataFrame'>\n",
      "Int64Index: 517401 entries, 0 to 517400\n",
      "Data columns (total 8 columns):\n",
      " #   Column      Non-Null Count   Dtype  \n",
      "---  ------      --------------   -----  \n",
      " 0   Unnamed: 0  517401 non-null  int64  \n",
      " 1   body        517401 non-null  object \n",
      " 2   subject     498214 non-null  object \n",
      " 3   raw_mail    517401 non-null  object \n",
      " 4   from        517401 non-null  object \n",
      " 5   to          495554 non-null  object \n",
      " 6   status      0 non-null       float64\n",
      " 7   date        517401 non-null  object \n",
      "dtypes: float64(1), int64(1), object(6)\n",
      "memory usage: 35.5+ MB\n",
      "None\n"
     ]
    },
    {
     "data": {
      "text/html": [
       "<div>\n",
       "<style scoped>\n",
       "    .dataframe tbody tr th:only-of-type {\n",
       "        vertical-align: middle;\n",
       "    }\n",
       "\n",
       "    .dataframe tbody tr th {\n",
       "        vertical-align: top;\n",
       "    }\n",
       "\n",
       "    .dataframe thead th {\n",
       "        text-align: right;\n",
       "    }\n",
       "</style>\n",
       "<table border=\"1\" class=\"dataframe\">\n",
       "  <thead>\n",
       "    <tr style=\"text-align: right;\">\n",
       "      <th></th>\n",
       "      <th>Unnamed: 0</th>\n",
       "      <th>body</th>\n",
       "      <th>subject</th>\n",
       "      <th>raw_mail</th>\n",
       "      <th>from</th>\n",
       "      <th>to</th>\n",
       "      <th>status</th>\n",
       "      <th>date</th>\n",
       "    </tr>\n",
       "  </thead>\n",
       "  <tbody>\n",
       "    <tr>\n",
       "      <th>424495</th>\n",
       "      <td>424495</td>\n",
       "      <td>Attached, in Word format, are (hopefully) the ...</td>\n",
       "      <td>Hawaii I Transaction Documents (Word)</td>\n",
       "      <td>Message-ID: &lt;9050907.1075844470536.JavaMail.ev...</td>\n",
       "      <td>murielmcfarling@akllp.com</td>\n",
       "      <td>alan.quaintance@enron.com, angela.davis@enron....</td>\n",
       "      <td>NaN</td>\n",
       "      <td>Thu, 16 Nov 2000 17:00:00 -0800 (PST)</td>\n",
       "    </tr>\n",
       "    <tr>\n",
       "      <th>406659</th>\n",
       "      <td>406659</td>\n",
       "      <td>Deal #Q75558.2 - Counterparty is CIA Papelera ...</td>\n",
       "      <td>New Counterparty</td>\n",
       "      <td>Message-ID: &lt;6611728.1075846778509.JavaMail.ev...</td>\n",
       "      <td>susan.scott@enron.com</td>\n",
       "      <td>gcp_houston@enron.com</td>\n",
       "      <td>NaN</td>\n",
       "      <td>Thu, 2 Nov 2000 07:57:00 -0800 (PST)</td>\n",
       "    </tr>\n",
       "    <tr>\n",
       "      <th>344968</th>\n",
       "      <td>344968</td>\n",
       "      <td>Hi Romeo - \\n See Gerald's comments below rega...</td>\n",
       "      <td>Web Site Format</td>\n",
       "      <td>Message-ID: &lt;30279686.1075842621121.JavaMail.e...</td>\n",
       "      <td>michael.eiben@enron.com</td>\n",
       "      <td>romeo.d'souza@enron.com</td>\n",
       "      <td>NaN</td>\n",
       "      <td>Mon, 23 Oct 2000 02:49:00 -0700 (PDT)</td>\n",
       "    </tr>\n",
       "    <tr>\n",
       "      <th>175066</th>\n",
       "      <td>175066</td>\n",
       "      <td>This is looking better all the time. Looks lik...</td>\n",
       "      <td>Re: Conference call change</td>\n",
       "      <td>Message-ID: &lt;2750909.1075860886186.JavaMail.ev...</td>\n",
       "      <td>rich.jolly@enron.com</td>\n",
       "      <td>bob.burleson@enron.com</td>\n",
       "      <td>NaN</td>\n",
       "      <td>Mon, 29 Jan 2001 14:03:00 -0800 (PST)</td>\n",
       "    </tr>\n",
       "    <tr>\n",
       "      <th>213317</th>\n",
       "      <td>213317</td>\n",
       "      <td>Please note that as of January 23, 2002 Reuter...</td>\n",
       "      <td>#FACS/DATA REUTERS BENCHMARK BONDS AS OF Jan 2...</td>\n",
       "      <td>Message-ID: &lt;2354602.1075840749834.JavaMail.ev...</td>\n",
       "      <td>dbnotes@dri-wefa.com</td>\n",
       "      <td>sinisi./o=dri-wefa/ou=first@enron.com, e-mail ...</td>\n",
       "      <td>NaN</td>\n",
       "      <td>Mon, 28 Jan 2002 05:31:03 -0800 (PST)</td>\n",
       "    </tr>\n",
       "  </tbody>\n",
       "</table>\n",
       "</div>"
      ],
      "text/plain": [
       "        Unnamed: 0                                               body  \\\n",
       "424495      424495  Attached, in Word format, are (hopefully) the ...   \n",
       "406659      406659  Deal #Q75558.2 - Counterparty is CIA Papelera ...   \n",
       "344968      344968  Hi Romeo - \\n See Gerald's comments below rega...   \n",
       "175066      175066  This is looking better all the time. Looks lik...   \n",
       "213317      213317  Please note that as of January 23, 2002 Reuter...   \n",
       "\n",
       "                                                  subject  \\\n",
       "424495              Hawaii I Transaction Documents (Word)   \n",
       "406659                                   New Counterparty   \n",
       "344968                                    Web Site Format   \n",
       "175066                         Re: Conference call change   \n",
       "213317  #FACS/DATA REUTERS BENCHMARK BONDS AS OF Jan 2...   \n",
       "\n",
       "                                                 raw_mail  \\\n",
       "424495  Message-ID: <9050907.1075844470536.JavaMail.ev...   \n",
       "406659  Message-ID: <6611728.1075846778509.JavaMail.ev...   \n",
       "344968  Message-ID: <30279686.1075842621121.JavaMail.e...   \n",
       "175066  Message-ID: <2750909.1075860886186.JavaMail.ev...   \n",
       "213317  Message-ID: <2354602.1075840749834.JavaMail.ev...   \n",
       "\n",
       "                             from  \\\n",
       "424495  murielmcfarling@akllp.com   \n",
       "406659      susan.scott@enron.com   \n",
       "344968    michael.eiben@enron.com   \n",
       "175066       rich.jolly@enron.com   \n",
       "213317       dbnotes@dri-wefa.com   \n",
       "\n",
       "                                                       to  status  \\\n",
       "424495  alan.quaintance@enron.com, angela.davis@enron....     NaN   \n",
       "406659                              gcp_houston@enron.com     NaN   \n",
       "344968                            romeo.d'souza@enron.com     NaN   \n",
       "175066                             bob.burleson@enron.com     NaN   \n",
       "213317  sinisi./o=dri-wefa/ou=first@enron.com, e-mail ...     NaN   \n",
       "\n",
       "                                         date  \n",
       "424495  Thu, 16 Nov 2000 17:00:00 -0800 (PST)  \n",
       "406659   Thu, 2 Nov 2000 07:57:00 -0800 (PST)  \n",
       "344968  Mon, 23 Oct 2000 02:49:00 -0700 (PDT)  \n",
       "175066  Mon, 29 Jan 2001 14:03:00 -0800 (PST)  \n",
       "213317  Mon, 28 Jan 2002 05:31:03 -0800 (PST)  "
      ]
     },
     "execution_count": 38,
     "metadata": {},
     "output_type": "execute_result"
    }
   ],
   "source": [
    "print(enronDataframe.info())\n",
    "enronDataframe.sample(5)"
   ]
  },
  {
   "cell_type": "markdown",
   "metadata": {},
   "source": [
    "From a quick glance from all the 3 datasets, there are multiple inconsistensy that can be found in the format of the values. \n",
    "\n",
    "- from and to columns contains not only the emails\n",
    "- datetime isn't in one format"
   ]
  },
  {
   "cell_type": "code",
   "execution_count": 39,
   "metadata": {},
   "outputs": [
    {
     "name": "stdout",
     "output_type": "stream",
     "text": [
      "raw_mail    0\n",
      "subject     0\n",
      "from        0\n",
      "to          0\n",
      "status      0\n",
      "date        0\n",
      "body        0\n",
      "dtype: int64 \n",
      "\n",
      "raw_mail    0\n",
      "subject     0\n",
      "from        0\n",
      "to          0\n",
      "status      0\n",
      "date        0\n",
      "body        0\n",
      "dtype: int64 \n",
      "\n",
      "Unnamed: 0         0\n",
      "body               0\n",
      "subject        19187\n",
      "raw_mail           0\n",
      "from               0\n",
      "to             21847\n",
      "status        517401\n",
      "date               0\n",
      "dtype: int64\n"
     ]
    }
   ],
   "source": [
    "print(fraudDataframe.isna().sum(), '\\n') # contains none but inst register as one\n",
    "print(phishingDataframe.isna().sum(), '\\n') # contains none but isnt register as one\n",
    "print(enronDataframe.isna().sum()) # contains null values"
   ]
  },
  {
   "cell_type": "markdown",
   "metadata": {},
   "source": [
    "As the results show above only the enron sets register having a null values while in fact all 3 datasets does contains a null values"
   ]
  },
  {
   "cell_type": "markdown",
   "metadata": {},
   "source": [
    "If we check the values for a \"None\" in a string format we will infact found that the rest of the datasets does in fact contains a Null value "
   ]
  },
  {
   "cell_type": "code",
   "execution_count": 40,
   "metadata": {},
   "outputs": [
    {
     "name": "stdout",
     "output_type": "stream",
     "text": [
      "raw_mail      0\n",
      "subject      17\n",
      "from        365\n",
      "to          948\n",
      "status        0\n",
      "date        534\n",
      "body          0\n",
      "dtype: int64\n",
      "raw_mail     0\n",
      "subject     49\n",
      "from         4\n",
      "to           9\n",
      "status       5\n",
      "date         3\n",
      "body         0\n",
      "dtype: int64\n",
      "Unnamed: 0    0\n",
      "body          0\n",
      "subject       0\n",
      "raw_mail      0\n",
      "from          0\n",
      "to            0\n",
      "status        0\n",
      "date          0\n",
      "dtype: int64\n"
     ]
    }
   ],
   "source": [
    "print((fraudDataframe == \"None\").sum())\n",
    "print((phishingDataframe == \"None\").sum())\n",
    "print((enronDataframe == \"None\").sum())"
   ]
  },
  {
   "cell_type": "markdown",
   "metadata": {},
   "source": [
    "Update the datasets to change the \"None\" values to an actual None"
   ]
  },
  {
   "cell_type": "code",
   "execution_count": 41,
   "metadata": {},
   "outputs": [
    {
     "name": "stdout",
     "output_type": "stream",
     "text": [
      "raw_mail    0\n",
      "subject     0\n",
      "from        0\n",
      "to          0\n",
      "status      0\n",
      "date        0\n",
      "body        0\n",
      "dtype: int64\n",
      "raw_mail      0\n",
      "subject      17\n",
      "from        948\n",
      "to          948\n",
      "status        0\n",
      "date        534\n",
      "body          0\n",
      "dtype: int64\n"
     ]
    }
   ],
   "source": [
    "def updateToNone(val):\n",
    "    if val == \"None\":\n",
    "        return None\n",
    "    else:\n",
    "        return val\n",
    "\n",
    "fraudDataframe['subject'] = fraudDataframe['subject'].apply(updateToNone)\n",
    "fraudDataframe['to'] = fraudDataframe['to'].apply(updateToNone)\n",
    "fraudDataframe['from'] = fraudDataframe['to'].apply(updateToNone)\n",
    "fraudDataframe['status'] = fraudDataframe['status'].apply(updateToNone)\n",
    "fraudDataframe['date'] = fraudDataframe['date'].apply(updateToNone)\n",
    "\n",
    "print((fraudDataframe == \"None\").sum())\n",
    "print(fraudDataframe.isna().sum()) "
   ]
  },
  {
   "cell_type": "code",
   "execution_count": 42,
   "metadata": {},
   "outputs": [
    {
     "name": "stdout",
     "output_type": "stream",
     "text": [
      "raw_mail    0\n",
      "subject     0\n",
      "from        0\n",
      "to          0\n",
      "status      0\n",
      "date        0\n",
      "body        0\n",
      "dtype: int64\n",
      "raw_mail      0\n",
      "subject      17\n",
      "from        948\n",
      "to          948\n",
      "status        0\n",
      "date        534\n",
      "body          0\n",
      "dtype: int64\n"
     ]
    }
   ],
   "source": [
    "phishingDataframe['subject'] = phishingDataframe['subject'].apply(updateToNone)\n",
    "phishingDataframe['to'] = phishingDataframe['to'].apply(updateToNone)\n",
    "phishingDataframe['from'] = phishingDataframe['to'].apply(updateToNone)\n",
    "phishingDataframe['status'] = phishingDataframe['status'].apply(updateToNone)\n",
    "phishingDataframe['date'] = phishingDataframe['date'].apply(updateToNone)\n",
    "\n",
    "print((fraudDataframe == \"None\").sum())\n",
    "print(fraudDataframe.isna().sum()) "
   ]
  },
  {
   "cell_type": "markdown",
   "metadata": {},
   "source": [
    "To fix the inconsistensy format of the email in columns \"from\" and \"to\" , we will used regex to extract the valid emails first then, fill the empty values with valid values from the datasets"
   ]
  },
  {
   "cell_type": "code",
   "execution_count": 43,
   "metadata": {},
   "outputs": [
    {
     "name": "stderr",
     "output_type": "stream",
     "text": [
      "C:\\Users\\candi\\AppData\\Local\\Temp\\ipykernel_3108\\3334997152.py:1: UserWarning: This pattern is interpreted as a regular expression, and has match groups. To actually get the groups, use str.extract.\n",
      "  notValidEmail = phishingDataframe['from'].str.contains('[a-zA-Z0-9-_.]*@a-zA-Z0-9-]*(\\.[a-zA-Z]*)*', regex=True) == False\n"
     ]
    },
    {
     "data": {
      "text/plain": [
       "4181"
      ]
     },
     "execution_count": 43,
     "metadata": {},
     "output_type": "execute_result"
    }
   ],
   "source": [
    "notValidEmail = phishingDataframe['from'].str.contains('[a-zA-Z0-9-_.]*@a-zA-Z0-9-]*(\\.[a-zA-Z]*)*', regex=True) == False\n",
    "phishingDataframe[notValidEmail]['from'].count()"
   ]
  },
  {
   "cell_type": "code",
   "execution_count": 44,
   "metadata": {},
   "outputs": [
    {
     "name": "stderr",
     "output_type": "stream",
     "text": [
      "C:\\Users\\candi\\AppData\\Local\\Temp\\ipykernel_3108\\1799348055.py:1: UserWarning: This pattern is interpreted as a regular expression, and has match groups. To actually get the groups, use str.extract.\n",
      "  notValidEmail = fraudDataframe['from'].str.contains('([a-zA-Z0-9-_.])*@([a-zA-Z0-9-])*(\\.[a-zA-Z]*)*', regex=True) == False\n"
     ]
    },
    {
     "data": {
      "text/plain": [
       "545"
      ]
     },
     "execution_count": 44,
     "metadata": {},
     "output_type": "execute_result"
    }
   ],
   "source": [
    "notValidEmail = fraudDataframe['from'].str.contains('([a-zA-Z0-9-_.])*@([a-zA-Z0-9-])*(\\.[a-zA-Z]*)*', regex=True) == False\n",
    "fraudDataframe[notValidEmail]['from'].count()"
   ]
  },
  {
   "cell_type": "code",
   "execution_count": 45,
   "metadata": {},
   "outputs": [
    {
     "name": "stderr",
     "output_type": "stream",
     "text": [
      "C:\\Users\\candi\\AppData\\Local\\Temp\\ipykernel_3108\\2401131589.py:1: UserWarning: This pattern is interpreted as a regular expression, and has match groups. To actually get the groups, use str.extract.\n",
      "  notValidEmail = enronDataframe['to'].str.contains('([a-zA-Z0-9-_.])*@([a-zA-Z0-9-])*(\\.[a-zA-Z]*)*', regex=True) == False\n"
     ]
    },
    {
     "data": {
      "text/plain": [
       "16"
      ]
     },
     "execution_count": 45,
     "metadata": {},
     "output_type": "execute_result"
    }
   ],
   "source": [
    "notValidEmail = enronDataframe['to'].str.contains('([a-zA-Z0-9-_.])*@([a-zA-Z0-9-])*(\\.[a-zA-Z]*)*', regex=True) == False\n",
    "enronDataframe[notValidEmail]['to'].count()"
   ]
  },
  {
   "cell_type": "code",
   "execution_count": 46,
   "metadata": {},
   "outputs": [],
   "source": [
    "parsedFrom = fraudDataframe['from'].str.extract('([a-zA-Z0-9-_.]*@[a-zA-Z0-9-]*(\\.[a-zA-Z]*)*)')\n",
    "parsedTo = fraudDataframe['to'].str.extract('([a-zA-Z0-9-_.]*@[a-zA-Z0-9-]*(\\.[a-zA-Z]*)*)')\n",
    "\n",
    "fraudDataframe['parsed_from'] = parsedFrom[0]\n",
    "fraudDataframe['parsed_to'] = parsedTo[0]"
   ]
  },
  {
   "cell_type": "code",
   "execution_count": 47,
   "metadata": {},
   "outputs": [],
   "source": [
    "parsedFrom = phishingDataframe['from'].str.extract('([a-zA-Z0-9-_.]*@[a-zA-Z0-9-]*(\\.[a-zA-Z]*)*)')\n",
    "parsedTo = phishingDataframe['to'].str.extract('([a-zA-Z0-9-_.]*@[a-zA-Z0-9-]*(\\.[a-zA-Z]*)*)')\n",
    "\n",
    "phishingDataframe['parsed_from'] = parsedFrom[0]\n",
    "phishingDataframe['parsed_to'] = parsedTo[0]"
   ]
  },
  {
   "cell_type": "code",
   "execution_count": 48,
   "metadata": {},
   "outputs": [],
   "source": [
    "parsedFrom = enronDataframe['from'].str.extract('([a-zA-Z0-9-_.]*@[a-zA-Z0-9-]*(\\.[a-zA-Z]*)*)')\n",
    "parsedTo = enronDataframe['to'].str.extract('([a-zA-Z0-9-_.]*@[a-zA-Z0-9-]*(\\.[a-zA-Z]*)*)')\n",
    "\n",
    "enronDataframe['parsed_from'] = parsedFrom[0]\n",
    "enronDataframe['parsed_to'] = parsedTo[0]"
   ]
  },
  {
   "cell_type": "markdown",
   "metadata": {},
   "source": [
    "Bellow is the kind of fields that wasnt register as an email"
   ]
  },
  {
   "cell_type": "code",
   "execution_count": 49,
   "metadata": {},
   "outputs": [
    {
     "name": "stdout",
     "output_type": "stream",
     "text": [
      "[None 'undisclosed-recipients: ;' 'undisclosed-recipients:;' ''\n",
      " 'undisclosed recipients: ;' 'N/A <>, N/A <>' 'N/A <>']\n",
      "[None 'undisclosed-recipients: ;' 'undisclosed-recipients:;' ''\n",
      " 'undisclosed recipients: ;' 'N/A <>, N/A <>' 'N/A <>']\n",
      "['undisclosed-recipients: ;' '[removed]' None 'undisclosed-recipients:;'\n",
      " 'unlisted-recipients:; (no To-header on input)'\n",
      " '<Undisclosed-Recipient:;>' '=?euc-kr?B?u+e2+7nnu/W6rsbtwfawocG3?=' '']\n",
      "['undisclosed-recipients: ;' '[removed]' None 'undisclosed-recipients:;'\n",
      " 'unlisted-recipients:; (no To-header on input)'\n",
      " '<Undisclosed-Recipient:;>' '=?euc-kr?B?u+e2+7nnu/W6rsbtwfawocG3?=' '']\n"
     ]
    }
   ],
   "source": [
    "print(fraudDataframe[fraudDataframe['parsed_from'].isna()]['from'].unique())\n",
    "print(fraudDataframe[fraudDataframe['parsed_to'].isna()]['to'].unique())\n",
    "print(phishingDataframe[phishingDataframe['parsed_from'].isna()]['from'].unique())\n",
    "print(phishingDataframe[phishingDataframe['parsed_to'].isna()]['to'].unique())"
   ]
  },
  {
   "cell_type": "code",
   "execution_count": 50,
   "metadata": {},
   "outputs": [],
   "source": [
    "phishingDataframe['parsed_from'] = phishingDataframe['parsed_from'].ffill().bfill()\n",
    "fraudDataframe['parsed_from'] = fraudDataframe['parsed_from'].ffill().bfill()\n",
    "enronDataframe['parsed_from'] = enronDataframe['parsed_from'].ffill().bfill()"
   ]
  },
  {
   "cell_type": "code",
   "execution_count": 51,
   "metadata": {},
   "outputs": [],
   "source": [
    "phishingDataframe['parsed_to'] = phishingDataframe['parsed_to'].ffill().bfill()\n",
    "fraudDataframe['parsed_to'] = fraudDataframe['parsed_to'].ffill().bfill()\n",
    "enronDataframe['parsed_to'] = enronDataframe['parsed_to'].ffill().bfill()"
   ]
  },
  {
   "cell_type": "markdown",
   "metadata": {},
   "source": [
    "all the datasets subject column contains a null value, we will fill this value using existing fields in the datasets"
   ]
  },
  {
   "cell_type": "code",
   "execution_count": 52,
   "metadata": {},
   "outputs": [],
   "source": [
    "phishingDataframe['subject'] = phishingDataframe.subject.ffill().bfill()\n",
    "fraudDataframe['subject'] = fraudDataframe.subject.ffill().bfill()\n",
    "enronDataframe['subject'] = enronDataframe.subject.ffill().bfill()"
   ]
  },
  {
   "cell_type": "code",
   "execution_count": 53,
   "metadata": {},
   "outputs": [
    {
     "name": "stdout",
     "output_type": "stream",
     "text": [
      "Number of row that have empty subject for phishingDataframe: 0\n",
      "Number of row that have empty subject for fraudDataframe: 0\n",
      "Number of row that have empty subject for enronDataframe: 0\n"
     ]
    }
   ],
   "source": [
    "print('Number of row that have empty subject for phishingDataframe:', phishingDataframe.subject.isnull().sum())\n",
    "print('Number of row that have empty subject for fraudDataframe:', fraudDataframe.subject.isnull().sum())\n",
    "print('Number of row that have empty subject for enronDataframe:', enronDataframe.subject.isnull().sum())"
   ]
  },
  {
   "cell_type": "code",
   "execution_count": 54,
   "metadata": {},
   "outputs": [],
   "source": [
    "enronDataframe['parsed_date'] = enronDataframe.date.apply(lambda date: parser.parse(date).isoformat())"
   ]
  },
  {
   "cell_type": "markdown",
   "metadata": {},
   "source": [
    "Fill empty fields so no null exist by doing backward and forward fill"
   ]
  },
  {
   "cell_type": "code",
   "execution_count": 55,
   "metadata": {},
   "outputs": [],
   "source": [
    "fraudDataframe.date = fraudDataframe.date.ffill().bfill()\n",
    "phishingDataframe.date = phishingDataframe.date.ffill().bfill()"
   ]
  },
  {
   "cell_type": "code",
   "execution_count": 56,
   "metadata": {},
   "outputs": [
    {
     "name": "stdout",
     "output_type": "stream",
     "text": [
      "Total date row that are not in format for phishingDataframe: 444\n",
      "Total date row that are not in format for phishingDataframe: 151\n"
     ]
    }
   ],
   "source": [
    "diff = phishingDataframe.shape[0] - phishingDataframe.date.str.contains('[A-Za-z]{0,3}, \\d* [A-Za-z]{0,3} \\d{4}').sum()\n",
    "print(\"Total date row that are not in format for phishingDataframe:\", diff)\n",
    "diff = fraudDataframe.shape[0] - fraudDataframe.date.str.contains('[A-Za-z]{0,3}, \\d* [A-Za-z]{0,3} \\d{4}').sum()\n",
    "print(\"Total date row that are not in format for phishingDataframe:\", diff)"
   ]
  },
  {
   "cell_type": "code",
   "execution_count": 57,
   "metadata": {},
   "outputs": [],
   "source": [
    "def parseDate(date):\n",
    "    try:\n",
    "        return parser.parse(date).isoformat()\n",
    "    except Exception as e:\n",
    "        return None"
   ]
  },
  {
   "cell_type": "code",
   "execution_count": 58,
   "metadata": {},
   "outputs": [
    {
     "name": "stderr",
     "output_type": "stream",
     "text": [
      "c:\\Users\\candi\\anaconda3\\lib\\site-packages\\dateutil\\parser\\_parser.py:1207: UnknownTimezoneWarning: tzname CEST identified but not understood.  Pass `tzinfos` argument in order to correctly return a timezone-aware datetime.  In a future version, this will raise an exception.\n",
      "  warnings.warn(\"tzname {tzname} identified but not understood.  \"\n"
     ]
    }
   ],
   "source": [
    "phishingDataframe['parsed_date'] = phishingDataframe.date.str.replace('\\.', ':', regex=True)\n",
    "phishingDataframe['parsed_date'] = phishingDataframe['parsed_date'].apply(parseDate)\n"
   ]
  },
  {
   "cell_type": "markdown",
   "metadata": {},
   "source": [
    "Manual cleaning for cases that are to few to automate"
   ]
  },
  {
   "cell_type": "code",
   "execution_count": 59,
   "metadata": {},
   "outputs": [],
   "source": [
    "phishingDataframe.loc[821].parsed_date = parser.parse(\"Fri, 09 Jun 2006 08:23:29 +0500 (EST)\").isoformat()\n",
    "phishingDataframe.loc[892].parsed_date = parser.parse(\"Fri, 23 Jun 2006 13:25:46 -0100 (EST)\").isoformat()\n",
    "phishingDataframe.loc[896].parsed_date = parser.parse(\"Fri, 23 Jun 2006 21:36:05 +0800\").isoformat()\n",
    "phishingDataframe.loc[1066].parsed_date = parser.parse(\"Wed, 26 Jul 2006 09:48:28 -0800\").isoformat()\n",
    "phishingDataframe.loc[1067].parsed_date = parser.parse(\"Wed, 26 Jul 2006 12:50:48 -0600\").isoformat()\n",
    "phishingDataframe.loc[1072].parsed_date = parser.parse(\"Thu, 27 Jul 2006 03:06:10 -0800\").isoformat()\n",
    "phishingDataframe.loc[1074].parsed_date = parser.parse(\"Wed, 26 Jul 2006 15:24:52 -0500\").isoformat()\n",
    "phishingDataframe.loc[1075].parsed_date = parser.parse(\"Wed, 26 Jul 2006 15:43:42 -0500\").isoformat()\n",
    "phishingDataframe.loc[1076].parsed_date = parser.parse(\"Wed, 26 Jul 2006 19:03:49 -0300\").isoformat()\n",
    "phishingDataframe.loc[1077].parsed_date = parser.parse(\"Wed, 26 Jul 2006 19:35:02 -0300\").isoformat()\n",
    "phishingDataframe.loc[1095].parsed_date = parser.parse(\"31.07.2006\").isoformat()\n",
    "phishingDataframe.loc[1173].parsed_date = parser.parse(\"Thu, 3 Aug 2006 00:13:00 -0530\").isoformat()\n",
    "phishingDataframe.loc[2421].parsed_date = parser.parse(\"Tue, 09 Jan 2007 14:00:44 +0430\").isoformat()\n",
    "phishingDataframe.loc[3540].parsed_date = parser.parse(\"Sun, 10 Sep 2006 14:00:47 +0000\").isoformat()\n",
    "phishingDataframe.loc[3643].parsed_date = parser.parse(\"Fri, 09 Mar 2007 18:11:57 +0530\").isoformat()\n",
    "phishingDataframe.loc[3896].parsed_date = parser.parse(\"07.08.2006\").isoformat()\n",
    "phishingDataframe.loc[3963].parsed_date = parser.parse(\"Mon, 24 Feb 2003 17:32:08 +0000\").isoformat()\n",
    "phishingDataframe.loc[4117].parsed_date = parser.parse(\"Sun, 10 Sep 2006 12:08:54 -0300\").isoformat()"
   ]
  },
  {
   "cell_type": "code",
   "execution_count": 60,
   "metadata": {},
   "outputs": [
    {
     "name": "stderr",
     "output_type": "stream",
     "text": [
      "c:\\Users\\candi\\anaconda3\\lib\\site-packages\\dateutil\\parser\\_parser.py:1207: UnknownTimezoneWarning: tzname BST identified but not understood.  Pass `tzinfos` argument in order to correctly return a timezone-aware datetime.  In a future version, this will raise an exception.\n",
      "  warnings.warn(\"tzname {tzname} identified but not understood.  \"\n"
     ]
    }
   ],
   "source": [
    "fraudDataframe['parsed_date'] = fraudDataframe.date.str.replace('\\.', ':', regex=True)\n",
    "fraudDataframe['parsed_date'] = fraudDataframe['parsed_date'].apply(parseDate)"
   ]
  },
  {
   "cell_type": "code",
   "execution_count": 61,
   "metadata": {},
   "outputs": [],
   "source": [
    "def myfunc(row):\n",
    "    if row.parsed_date == None:\n",
    "        try:\n",
    "            row.parsed_date = parser.parse(\n",
    "                re.search(\"([A-Za-z]{1,3}, \\d{0,2} [A-Za-z]* \\d{2,4} \\d{2}:\\d{2}:\\d{2} ((\\+|\\-)?\\d{4})?)\", \n",
    "                          row.date).group(1)).isoformat()\n",
    "            return row\n",
    "        except Exception as e:\n",
    "            return row\n",
    "    else:\n",
    "        return row\n",
    "\n",
    "fraudDataframe = fraudDataframe.apply(myfunc, axis=1)"
   ]
  },
  {
   "cell_type": "markdown",
   "metadata": {},
   "source": [
    "Manual Updates"
   ]
  },
  {
   "cell_type": "code",
   "execution_count": 62,
   "metadata": {},
   "outputs": [],
   "source": [
    "fraudDataframe.loc[542].parsed_date = parser.parse(\"Sun, 09 nov 2003 21:18:28\").isoformat()\n",
    "fraudDataframe.loc[1236].parsed_date = parser.parse(\"Tue, 09 nov 2004 15:38:35 -0300\").isoformat()"
   ]
  },
  {
   "cell_type": "markdown",
   "metadata": {},
   "source": [
    "Add prediction label"
   ]
  },
  {
   "cell_type": "code",
   "execution_count": 63,
   "metadata": {},
   "outputs": [],
   "source": [
    "fraudDataframe['malicious'] = True\n",
    "phishingDataframe['malicious'] = True\n",
    "enronDataframe['malicious'] = False"
   ]
  },
  {
   "cell_type": "code",
   "execution_count": 64,
   "metadata": {},
   "outputs": [],
   "source": [
    "fraudDataframe.to_csv(path_or_buf='datasets/clean/fraud-emails.csv', index=False)\n",
    "phishingDataframe.to_csv(path_or_buf='datasets/clean/phishing-emails.csv', index=False)\n",
    "enronDataframe.to_csv(path_or_buf='datasets/clean/enron-emails.csv', index=False)"
   ]
  }
 ],
 "metadata": {
  "kernelspec": {
   "display_name": "Python 3.9.12 ('base')",
   "language": "python",
   "name": "python3"
  },
  "language_info": {
   "codemirror_mode": {
    "name": "ipython",
    "version": 3
   },
   "file_extension": ".py",
   "mimetype": "text/x-python",
   "name": "python",
   "nbconvert_exporter": "python",
   "pygments_lexer": "ipython3",
   "version": "3.9.12"
  },
  "orig_nbformat": 4,
  "vscode": {
   "interpreter": {
    "hash": "43faf7f6e3c8903bcbf219f459c479e0fb6d51fc0610fd9ffdaf5b483d5dbe7d"
   }
  }
 },
 "nbformat": 4,
 "nbformat_minor": 2
}
