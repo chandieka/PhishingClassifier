{
 "cells": [
  {
   "cell_type": "markdown",
   "metadata": {},
   "source": [
    "# Summary"
   ]
  },
  {
   "cell_type": "markdown",
   "metadata": {},
   "source": [
    "The following is the step taken to clean the datasets\n",
    "- Removing duplicates based on 'raw_mail' column\n",
    "- Change the \"None\" to an actuall None value to all column\n",
    "- Remove email address that is not in the same format\n",
    "- Fill empty/none email address with bfill and ffill\n",
    "- Fill empty/none subject with bffill and ffill\n",
    "- Update the 'date' so it is in one format\n",
    "- Add malicious column"
   ]
  },
  {
   "cell_type": "markdown",
   "metadata": {},
   "source": [
    "# import libraries"
   ]
  },
  {
   "cell_type": "code",
   "execution_count": 1,
   "metadata": {},
   "outputs": [],
   "source": [
    "import pandas as pd\n",
    "from datetime import datetime\n",
    "from dateutil import parser\n",
    "import re"
   ]
  },
  {
   "cell_type": "markdown",
   "metadata": {},
   "source": [
    "Parse the datasets into dataframe"
   ]
  },
  {
   "cell_type": "code",
   "execution_count": 2,
   "metadata": {},
   "outputs": [],
   "source": [
    "fraudDataframe = pd.read_json('datasets/raw/fradulent_emails.json', orient='index')\n",
    "phishingDataframe = pd.read_json('datasets/raw/phishing-chorpus.json', orient='index')\n",
    "enronDataframe = pd.read_csv('datasets/raw/enron-emails.csv')"
   ]
  },
  {
   "cell_type": "markdown",
   "metadata": {},
   "source": [
    "Remove duplicates"
   ]
  },
  {
   "cell_type": "code",
   "execution_count": 3,
   "metadata": {},
   "outputs": [],
   "source": [
    "fraudDataframe = fraudDataframe.drop_duplicates(subset=\"raw_mail\")\n",
    "phishingDataframe = phishingDataframe.drop_duplicates(subset=\"raw_mail\")\n",
    "enronDataframe = enronDataframe.drop_duplicates(subset=\"raw_mail\")"
   ]
  },
  {
   "cell_type": "code",
   "execution_count": 4,
   "metadata": {},
   "outputs": [
    {
     "name": "stdout",
     "output_type": "stream",
     "text": [
      "<class 'pandas.core.frame.DataFrame'>\n",
      "Int64Index: 3939 entries, 0 to 3977\n",
      "Data columns (total 7 columns):\n",
      " #   Column    Non-Null Count  Dtype \n",
      "---  ------    --------------  ----- \n",
      " 0   raw_mail  3939 non-null   object\n",
      " 1   subject   3939 non-null   object\n",
      " 2   from      3939 non-null   object\n",
      " 3   to        3939 non-null   object\n",
      " 4   status    3939 non-null   object\n",
      " 5   date      3939 non-null   object\n",
      " 6   body      3939 non-null   object\n",
      "dtypes: object(7)\n",
      "memory usage: 246.2+ KB\n",
      "None\n"
     ]
    },
    {
     "data": {
      "text/html": [
       "<div>\n",
       "<style scoped>\n",
       "    .dataframe tbody tr th:only-of-type {\n",
       "        vertical-align: middle;\n",
       "    }\n",
       "\n",
       "    .dataframe tbody tr th {\n",
       "        vertical-align: top;\n",
       "    }\n",
       "\n",
       "    .dataframe thead th {\n",
       "        text-align: right;\n",
       "    }\n",
       "</style>\n",
       "<table border=\"1\" class=\"dataframe\">\n",
       "  <thead>\n",
       "    <tr style=\"text-align: right;\">\n",
       "      <th></th>\n",
       "      <th>raw_mail</th>\n",
       "      <th>subject</th>\n",
       "      <th>from</th>\n",
       "      <th>to</th>\n",
       "      <th>status</th>\n",
       "      <th>date</th>\n",
       "      <th>body</th>\n",
       "    </tr>\n",
       "  </thead>\n",
       "  <tbody>\n",
       "    <tr>\n",
       "      <th>296</th>\n",
       "      <td>Return-Path: &lt;basher39@lycos.com&gt;\\nMessage-Id:...</td>\n",
       "      <td>ASSISTANCE NEEDED</td>\n",
       "      <td>BASHER MOBUTU &lt;basher39@lycos.com&gt;</td>\n",
       "      <td>R@M</td>\n",
       "      <td>O</td>\n",
       "      <td>Tue, 01 Jul 2003 01:29:15 +0200</td>\n",
       "      <td>Good Day,\\nYou may be surprise to receive this...</td>\n",
       "    </tr>\n",
       "    <tr>\n",
       "      <th>3857</th>\n",
       "      <td>Return-Path: &lt;web391@jenny.webhoster.ag&gt;\\nX-Si...</td>\n",
       "      <td>MUTUAL PARTNERSHIP.</td>\n",
       "      <td>\"LUISA ESTRADA\" &lt;luisa@blue-conn.de&gt;</td>\n",
       "      <td>None</td>\n",
       "      <td>O</td>\n",
       "      <td>Sun, 22 Jul 2007 16:57:01 +0200 (CEST)</td>\n",
       "      <td>Dear Friend,\\n\\nThe political unrest in my cou...</td>\n",
       "    </tr>\n",
       "    <tr>\n",
       "      <th>2885</th>\n",
       "      <td>Return-Path: &lt;barripikolo@adinet.com.uy&gt;\\nX-Si...</td>\n",
       "      <td>GET BACK TO ME.</td>\n",
       "      <td>barri pikolo &lt;barripikolo@adinet.com.uy&gt;</td>\n",
       "      <td>None</td>\n",
       "      <td>RO</td>\n",
       "      <td>Sat, 29 Jul 2006 16:07:15 -0300 (UYT)</td>\n",
       "      <td>FROM THE DESK OF:MR.BARR PIKOLO COKER\\nGENERAL...</td>\n",
       "    </tr>\n",
       "    <tr>\n",
       "      <th>3727</th>\n",
       "      <td>Return-Path: &lt;sussanbien44@yahoo.ca&gt;\\nX-Sieve:...</td>\n",
       "      <td>SORROW AND TEARS FROM SUSSAN BIEN</td>\n",
       "      <td>None</td>\n",
       "      <td>sussanbien44@yahoo.ca</td>\n",
       "      <td>RO</td>\n",
       "      <td>None</td>\n",
       "      <td>Dearest One,\\n\\nThanks for your mail, I got yo...</td>\n",
       "    </tr>\n",
       "    <tr>\n",
       "      <th>3035</th>\n",
       "      <td>Return-Path: &lt;hassan_abdoulaye3@yahoo.co.uk&gt;\\n...</td>\n",
       "      <td>URGENTLY    REPLY</td>\n",
       "      <td>\"hassan   abdoulaye\" &lt;hassan_abdoulaye3@yahoo....</td>\n",
       "      <td>None</td>\n",
       "      <td>O</td>\n",
       "      <td>Thu, 14 Sep 2006 14:12:13 +0200</td>\n",
       "      <td>My Dear=2C \\n\\nGood day to you=2C I hope fine=...</td>\n",
       "    </tr>\n",
       "  </tbody>\n",
       "</table>\n",
       "</div>"
      ],
      "text/plain": [
       "                                               raw_mail  \\\n",
       "296   Return-Path: <basher39@lycos.com>\\nMessage-Id:...   \n",
       "3857  Return-Path: <web391@jenny.webhoster.ag>\\nX-Si...   \n",
       "2885  Return-Path: <barripikolo@adinet.com.uy>\\nX-Si...   \n",
       "3727  Return-Path: <sussanbien44@yahoo.ca>\\nX-Sieve:...   \n",
       "3035  Return-Path: <hassan_abdoulaye3@yahoo.co.uk>\\n...   \n",
       "\n",
       "                                 subject  \\\n",
       "296                    ASSISTANCE NEEDED   \n",
       "3857                 MUTUAL PARTNERSHIP.   \n",
       "2885                     GET BACK TO ME.   \n",
       "3727  SORROW AND TEARS FROM SUSSAN BIEN    \n",
       "3035                   URGENTLY    REPLY   \n",
       "\n",
       "                                                   from  \\\n",
       "296                  BASHER MOBUTU <basher39@lycos.com>   \n",
       "3857               \"LUISA ESTRADA\" <luisa@blue-conn.de>   \n",
       "2885           barri pikolo <barripikolo@adinet.com.uy>   \n",
       "3727                                               None   \n",
       "3035  \"hassan   abdoulaye\" <hassan_abdoulaye3@yahoo....   \n",
       "\n",
       "                         to status                                    date  \\\n",
       "296                     R@M      O         Tue, 01 Jul 2003 01:29:15 +0200   \n",
       "3857                   None      O  Sun, 22 Jul 2007 16:57:01 +0200 (CEST)   \n",
       "2885                   None     RO   Sat, 29 Jul 2006 16:07:15 -0300 (UYT)   \n",
       "3727  sussanbien44@yahoo.ca     RO                                    None   \n",
       "3035                   None      O         Thu, 14 Sep 2006 14:12:13 +0200   \n",
       "\n",
       "                                                   body  \n",
       "296   Good Day,\\nYou may be surprise to receive this...  \n",
       "3857  Dear Friend,\\n\\nThe political unrest in my cou...  \n",
       "2885  FROM THE DESK OF:MR.BARR PIKOLO COKER\\nGENERAL...  \n",
       "3727  Dearest One,\\n\\nThanks for your mail, I got yo...  \n",
       "3035  My Dear=2C \\n\\nGood day to you=2C I hope fine=...  "
      ]
     },
     "execution_count": 4,
     "metadata": {},
     "output_type": "execute_result"
    }
   ],
   "source": [
    "print(fraudDataframe.info())\n",
    "fraudDataframe.sample(5)"
   ]
  },
  {
   "cell_type": "code",
   "execution_count": 5,
   "metadata": {},
   "outputs": [
    {
     "name": "stdout",
     "output_type": "stream",
     "text": [
      "<class 'pandas.core.frame.DataFrame'>\n",
      "Int64Index: 4190 entries, 0 to 4195\n",
      "Data columns (total 7 columns):\n",
      " #   Column    Non-Null Count  Dtype \n",
      "---  ------    --------------  ----- \n",
      " 0   raw_mail  4190 non-null   object\n",
      " 1   subject   4190 non-null   object\n",
      " 2   from      4190 non-null   object\n",
      " 3   to        4190 non-null   object\n",
      " 4   status    4190 non-null   object\n",
      " 5   date      4190 non-null   object\n",
      " 6   body      4190 non-null   object\n",
      "dtypes: object(7)\n",
      "memory usage: 261.9+ KB\n",
      "None\n"
     ]
    },
    {
     "data": {
      "text/html": [
       "<div>\n",
       "<style scoped>\n",
       "    .dataframe tbody tr th:only-of-type {\n",
       "        vertical-align: middle;\n",
       "    }\n",
       "\n",
       "    .dataframe tbody tr th {\n",
       "        vertical-align: top;\n",
       "    }\n",
       "\n",
       "    .dataframe thead th {\n",
       "        text-align: right;\n",
       "    }\n",
       "</style>\n",
       "<table border=\"1\" class=\"dataframe\">\n",
       "  <thead>\n",
       "    <tr style=\"text-align: right;\">\n",
       "      <th></th>\n",
       "      <th>raw_mail</th>\n",
       "      <th>subject</th>\n",
       "      <th>from</th>\n",
       "      <th>to</th>\n",
       "      <th>status</th>\n",
       "      <th>date</th>\n",
       "      <th>body</th>\n",
       "    </tr>\n",
       "  </thead>\n",
       "  <tbody>\n",
       "    <tr>\n",
       "      <th>2126</th>\n",
       "      <td>Return-Path: &lt;member@ebay.com&gt;\\nX-Original-To:...</td>\n",
       "      <td>Question about Item -- Respond Now</td>\n",
       "      <td>\"Question from ebay member: jancortina\" &lt;membe...</td>\n",
       "      <td>user@example.com</td>\n",
       "      <td>RO</td>\n",
       "      <td>Mon, 25 Sep 2006 08:43:28 -0700</td>\n",
       "      <td>&lt;TABLE cellSpacing=3D0 cellPadding=3D5 width=3...</td>\n",
       "    </tr>\n",
       "    <tr>\n",
       "      <th>1796</th>\n",
       "      <td>Return-Path: &lt;administrator@paypal.com&gt;\\nX-Ori...</td>\n",
       "      <td>Update your PayPal account</td>\n",
       "      <td>\"PayPal\" &lt;postmaster@paypal.com&gt;</td>\n",
       "      <td>nobody@example.com</td>\n",
       "      <td>RO</td>\n",
       "      <td>Mon, 27 Mar 2006 23:40:21 -0100</td>\n",
       "      <td>&lt;div id=3Dmessage&gt;\\r\\n\\r\\n\\r\\n\\r\\n\\r\\n&lt;BR&gt;Dear...</td>\n",
       "    </tr>\n",
       "    <tr>\n",
       "      <th>380</th>\n",
       "      <td>Return-Path: &lt;wsykespg@ebay.com&gt;\\nX-Original-T...</td>\n",
       "      <td>=?ISO-8859-1?b?RWJheSBBY2NvdW50IFJldmlldyAgICA...</td>\n",
       "      <td>\"Bernadine W. Sykes\" &lt;wsykespg@ebay.com&gt;</td>\n",
       "      <td>username@domain.com</td>\n",
       "      <td>O</td>\n",
       "      <td>Thu, 17 Jun 2004 23:09:00 +0000</td>\n",
       "      <td>&lt;!DOCTYPE HTML PUBLIC \"-//W3C//DTD HTML 4.01 T...</td>\n",
       "    </tr>\n",
       "    <tr>\n",
       "      <th>3532</th>\n",
       "      <td>Return-Path: &lt;user@mail.example.com&gt;\\nDelivere...</td>\n",
       "      <td>eBay - eBay automatically invites qualified us...</td>\n",
       "      <td>\"eBay Team\" &lt;aw-confirm36@ebay.com&gt;</td>\n",
       "      <td>undisclosed-recipients: ;</td>\n",
       "      <td>RO</td>\n",
       "      <td>Sat, 16 Jul 2005 02:13:58 -0700</td>\n",
       "      <td>&lt;style type=\"text/css\"&gt;\\r\\n&lt;!--\\r\\n.style1 {fo...</td>\n",
       "    </tr>\n",
       "    <tr>\n",
       "      <th>2665</th>\n",
       "      <td>Return-Path: &lt;Visa@visa.com&gt;\\nX-Original-To: u...</td>\n",
       "      <td>Verified by Visa enrollment</td>\n",
       "      <td>Visa@visa.com</td>\n",
       "      <td>user@example.com</td>\n",
       "      <td>RO</td>\n",
       "      <td>15 Feb 2007 04:28:07 -0700</td>\n",
       "      <td>&lt;!doctype html public \"-//W3C//DTD HTML 4.0 Tr...</td>\n",
       "    </tr>\n",
       "  </tbody>\n",
       "</table>\n",
       "</div>"
      ],
      "text/plain": [
       "                                               raw_mail  \\\n",
       "2126  Return-Path: <member@ebay.com>\\nX-Original-To:...   \n",
       "1796  Return-Path: <administrator@paypal.com>\\nX-Ori...   \n",
       "380   Return-Path: <wsykespg@ebay.com>\\nX-Original-T...   \n",
       "3532  Return-Path: <user@mail.example.com>\\nDelivere...   \n",
       "2665  Return-Path: <Visa@visa.com>\\nX-Original-To: u...   \n",
       "\n",
       "                                                subject  \\\n",
       "2126                Question about Item -- Respond Now    \n",
       "1796                         Update your PayPal account   \n",
       "380   =?ISO-8859-1?b?RWJheSBBY2NvdW50IFJldmlldyAgICA...   \n",
       "3532  eBay - eBay automatically invites qualified us...   \n",
       "2665                        Verified by Visa enrollment   \n",
       "\n",
       "                                                   from  \\\n",
       "2126  \"Question from ebay member: jancortina\" <membe...   \n",
       "1796                   \"PayPal\" <postmaster@paypal.com>   \n",
       "380            \"Bernadine W. Sykes\" <wsykespg@ebay.com>   \n",
       "3532                \"eBay Team\" <aw-confirm36@ebay.com>   \n",
       "2665                                      Visa@visa.com   \n",
       "\n",
       "                             to status                             date  \\\n",
       "2126           user@example.com     RO  Mon, 25 Sep 2006 08:43:28 -0700   \n",
       "1796         nobody@example.com     RO  Mon, 27 Mar 2006 23:40:21 -0100   \n",
       "380         username@domain.com      O  Thu, 17 Jun 2004 23:09:00 +0000   \n",
       "3532  undisclosed-recipients: ;     RO  Sat, 16 Jul 2005 02:13:58 -0700   \n",
       "2665           user@example.com     RO       15 Feb 2007 04:28:07 -0700   \n",
       "\n",
       "                                                   body  \n",
       "2126  <TABLE cellSpacing=3D0 cellPadding=3D5 width=3...  \n",
       "1796  <div id=3Dmessage>\\r\\n\\r\\n\\r\\n\\r\\n\\r\\n<BR>Dear...  \n",
       "380   <!DOCTYPE HTML PUBLIC \"-//W3C//DTD HTML 4.01 T...  \n",
       "3532  <style type=\"text/css\">\\r\\n<!--\\r\\n.style1 {fo...  \n",
       "2665  <!doctype html public \"-//W3C//DTD HTML 4.0 Tr...  "
      ]
     },
     "execution_count": 5,
     "metadata": {},
     "output_type": "execute_result"
    }
   ],
   "source": [
    "print(phishingDataframe.info())\n",
    "phishingDataframe.sample(5)"
   ]
  },
  {
   "cell_type": "code",
   "execution_count": 6,
   "metadata": {},
   "outputs": [
    {
     "name": "stdout",
     "output_type": "stream",
     "text": [
      "<class 'pandas.core.frame.DataFrame'>\n",
      "Int64Index: 517401 entries, 0 to 517400\n",
      "Data columns (total 8 columns):\n",
      " #   Column      Non-Null Count   Dtype  \n",
      "---  ------      --------------   -----  \n",
      " 0   Unnamed: 0  517401 non-null  int64  \n",
      " 1   raw_mail    517401 non-null  object \n",
      " 2   subject     498214 non-null  object \n",
      " 3   from        517401 non-null  object \n",
      " 4   to          495554 non-null  object \n",
      " 5   status      0 non-null       float64\n",
      " 6   date        517401 non-null  object \n",
      " 7   body        517401 non-null  object \n",
      "dtypes: float64(1), int64(1), object(6)\n",
      "memory usage: 35.5+ MB\n",
      "None\n"
     ]
    },
    {
     "data": {
      "text/html": [
       "<div>\n",
       "<style scoped>\n",
       "    .dataframe tbody tr th:only-of-type {\n",
       "        vertical-align: middle;\n",
       "    }\n",
       "\n",
       "    .dataframe tbody tr th {\n",
       "        vertical-align: top;\n",
       "    }\n",
       "\n",
       "    .dataframe thead th {\n",
       "        text-align: right;\n",
       "    }\n",
       "</style>\n",
       "<table border=\"1\" class=\"dataframe\">\n",
       "  <thead>\n",
       "    <tr style=\"text-align: right;\">\n",
       "      <th></th>\n",
       "      <th>Unnamed: 0</th>\n",
       "      <th>raw_mail</th>\n",
       "      <th>subject</th>\n",
       "      <th>from</th>\n",
       "      <th>to</th>\n",
       "      <th>status</th>\n",
       "      <th>date</th>\n",
       "      <th>body</th>\n",
       "    </tr>\n",
       "  </thead>\n",
       "  <tbody>\n",
       "    <tr>\n",
       "      <th>276465</th>\n",
       "      <td>276465</td>\n",
       "      <td>Message-ID: &lt;7124113.1075858127346.JavaMail.ev...</td>\n",
       "      <td>Fw: FW: Winners of the \"I Look Like My Dog\" co...</td>\n",
       "      <td>matthew.lenhart@enron.com</td>\n",
       "      <td>debbielatham@realtor.com</td>\n",
       "      <td>NaN</td>\n",
       "      <td>Mon, 7 Aug 2000 07:03:00 -0700 (PDT)</td>\n",
       "      <td>---------------------- Forwarded by Matthew Le...</td>\n",
       "    </tr>\n",
       "    <tr>\n",
       "      <th>411528</th>\n",
       "      <td>411528</td>\n",
       "      <td>Message-ID: &lt;19577259.1075841559934.JavaMail.e...</td>\n",
       "      <td>FW: OASIS Posting - Real Power Loss Return Met...</td>\n",
       "      <td>cara.semperger@enron.com</td>\n",
       "      <td>donald.robinson@enron.com</td>\n",
       "      <td>NaN</td>\n",
       "      <td>Mon, 26 Nov 2001 10:06:19 -0800 (PST)</td>\n",
       "      <td>\\n\\n-----Original Message-----\\nFrom: Steve Hu...</td>\n",
       "    </tr>\n",
       "    <tr>\n",
       "      <th>249294</th>\n",
       "      <td>249294</td>\n",
       "      <td>Message-ID: &lt;6069463.1075846355144.JavaMail.ev...</td>\n",
       "      <td>Re: Dabhol Reg Risk</td>\n",
       "      <td>james.steffes@enron.com</td>\n",
       "      <td>steven.kean@enron.com</td>\n",
       "      <td>NaN</td>\n",
       "      <td>Fri, 2 Jun 2000 00:55:00 -0700 (PDT)</td>\n",
       "      <td>FYI.  Jane is doing a great job supporting the...</td>\n",
       "    </tr>\n",
       "    <tr>\n",
       "      <th>31426</th>\n",
       "      <td>31426</td>\n",
       "      <td>Message-ID: &lt;9021295.1075855904437.JavaMail.ev...</td>\n",
       "      <td>Re: excitement</td>\n",
       "      <td>sally.beck@enron.com</td>\n",
       "      <td>mary.gray@enron.com</td>\n",
       "      <td>NaN</td>\n",
       "      <td>Thu, 10 Aug 2000 04:13:00 -0700 (PDT)</td>\n",
       "      <td>David is doing well, too.  He is working contr...</td>\n",
       "    </tr>\n",
       "    <tr>\n",
       "      <th>67531</th>\n",
       "      <td>67531</td>\n",
       "      <td>Message-ID: &lt;31906215.1075859195299.JavaMail.e...</td>\n",
       "      <td>RE: Doubletree PowerPoint Presentation</td>\n",
       "      <td>michael.tribolet@enron.com</td>\n",
       "      <td>jeff.dasovich@enron.com</td>\n",
       "      <td>NaN</td>\n",
       "      <td>Thu, 20 Dec 2001 15:08:17 -0800 (PST)</td>\n",
       "      <td>Yes it is.\\n\\n-----Original Message-----\\nFrom...</td>\n",
       "    </tr>\n",
       "  </tbody>\n",
       "</table>\n",
       "</div>"
      ],
      "text/plain": [
       "        Unnamed: 0                                           raw_mail  \\\n",
       "276465      276465  Message-ID: <7124113.1075858127346.JavaMail.ev...   \n",
       "411528      411528  Message-ID: <19577259.1075841559934.JavaMail.e...   \n",
       "249294      249294  Message-ID: <6069463.1075846355144.JavaMail.ev...   \n",
       "31426        31426  Message-ID: <9021295.1075855904437.JavaMail.ev...   \n",
       "67531        67531  Message-ID: <31906215.1075859195299.JavaMail.e...   \n",
       "\n",
       "                                                  subject  \\\n",
       "276465  Fw: FW: Winners of the \"I Look Like My Dog\" co...   \n",
       "411528  FW: OASIS Posting - Real Power Loss Return Met...   \n",
       "249294                                Re: Dabhol Reg Risk   \n",
       "31426                                      Re: excitement   \n",
       "67531              RE: Doubletree PowerPoint Presentation   \n",
       "\n",
       "                              from                         to  status  \\\n",
       "276465   matthew.lenhart@enron.com   debbielatham@realtor.com     NaN   \n",
       "411528    cara.semperger@enron.com  donald.robinson@enron.com     NaN   \n",
       "249294     james.steffes@enron.com      steven.kean@enron.com     NaN   \n",
       "31426         sally.beck@enron.com        mary.gray@enron.com     NaN   \n",
       "67531   michael.tribolet@enron.com    jeff.dasovich@enron.com     NaN   \n",
       "\n",
       "                                         date  \\\n",
       "276465   Mon, 7 Aug 2000 07:03:00 -0700 (PDT)   \n",
       "411528  Mon, 26 Nov 2001 10:06:19 -0800 (PST)   \n",
       "249294   Fri, 2 Jun 2000 00:55:00 -0700 (PDT)   \n",
       "31426   Thu, 10 Aug 2000 04:13:00 -0700 (PDT)   \n",
       "67531   Thu, 20 Dec 2001 15:08:17 -0800 (PST)   \n",
       "\n",
       "                                                     body  \n",
       "276465  ---------------------- Forwarded by Matthew Le...  \n",
       "411528  \\n\\n-----Original Message-----\\nFrom: Steve Hu...  \n",
       "249294  FYI.  Jane is doing a great job supporting the...  \n",
       "31426   David is doing well, too.  He is working contr...  \n",
       "67531   Yes it is.\\n\\n-----Original Message-----\\nFrom...  "
      ]
     },
     "execution_count": 6,
     "metadata": {},
     "output_type": "execute_result"
    }
   ],
   "source": [
    "print(enronDataframe.info())\n",
    "enronDataframe.sample(5)"
   ]
  },
  {
   "cell_type": "markdown",
   "metadata": {},
   "source": [
    "From a quick glance from all the 3 datasets, there are multiple inconsistensy that can be found in the format of the values. \n",
    "\n",
    "- from and to columns contains not only the emails\n",
    "- datetime isn't in one format"
   ]
  },
  {
   "cell_type": "code",
   "execution_count": 7,
   "metadata": {},
   "outputs": [
    {
     "name": "stdout",
     "output_type": "stream",
     "text": [
      "raw_mail    0\n",
      "subject     0\n",
      "from        0\n",
      "to          0\n",
      "status      0\n",
      "date        0\n",
      "body        0\n",
      "dtype: int64 \n",
      "\n",
      "raw_mail    0\n",
      "subject     0\n",
      "from        0\n",
      "to          0\n",
      "status      0\n",
      "date        0\n",
      "body        0\n",
      "dtype: int64 \n",
      "\n",
      "Unnamed: 0         0\n",
      "raw_mail           0\n",
      "subject        19187\n",
      "from               0\n",
      "to             21847\n",
      "status        517401\n",
      "date               0\n",
      "body               0\n",
      "dtype: int64\n"
     ]
    }
   ],
   "source": [
    "print(fraudDataframe.isna().sum(), '\\n') # contains none but inst register as one\n",
    "print(phishingDataframe.isna().sum(), '\\n') # contains none but isnt register as one\n",
    "print(enronDataframe.isna().sum()) # contains null values"
   ]
  },
  {
   "cell_type": "markdown",
   "metadata": {},
   "source": [
    "As the results show above only the enron sets register having a null values while in fact all 3 datasets does contains a null values"
   ]
  },
  {
   "cell_type": "markdown",
   "metadata": {},
   "source": [
    "If we check the values for a \"None\" in a string format we will infact found that the rest of the datasets does in fact contains a Null value "
   ]
  },
  {
   "cell_type": "code",
   "execution_count": 8,
   "metadata": {},
   "outputs": [
    {
     "name": "stdout",
     "output_type": "stream",
     "text": [
      "raw_mail      0\n",
      "subject      17\n",
      "from        365\n",
      "to          948\n",
      "status        0\n",
      "date        534\n",
      "body          0\n",
      "dtype: int64\n",
      "raw_mail     0\n",
      "subject     49\n",
      "from         4\n",
      "to           9\n",
      "status       5\n",
      "date         3\n",
      "body         0\n",
      "dtype: int64\n",
      "Unnamed: 0    0\n",
      "raw_mail      0\n",
      "subject       0\n",
      "from          0\n",
      "to            0\n",
      "status        0\n",
      "date          0\n",
      "body          0\n",
      "dtype: int64\n"
     ]
    }
   ],
   "source": [
    "print((fraudDataframe == \"None\").sum())\n",
    "print((phishingDataframe == \"None\").sum())\n",
    "print((enronDataframe == \"None\").sum())"
   ]
  },
  {
   "cell_type": "markdown",
   "metadata": {},
   "source": [
    "Update the datasets to change the \"None\" values to an actual None"
   ]
  },
  {
   "cell_type": "code",
   "execution_count": 9,
   "metadata": {},
   "outputs": [
    {
     "name": "stdout",
     "output_type": "stream",
     "text": [
      "raw_mail    0\n",
      "subject     0\n",
      "from        0\n",
      "to          0\n",
      "status      0\n",
      "date        0\n",
      "body        0\n",
      "dtype: int64\n",
      "raw_mail      0\n",
      "subject      17\n",
      "from        948\n",
      "to          948\n",
      "status        0\n",
      "date        534\n",
      "body          0\n",
      "dtype: int64\n"
     ]
    }
   ],
   "source": [
    "def updateToNone(val):\n",
    "    if val == \"None\":\n",
    "        return None\n",
    "    else:\n",
    "        return val\n",
    "\n",
    "fraudDataframe['subject'] = fraudDataframe['subject'].apply(updateToNone)\n",
    "fraudDataframe['to'] = fraudDataframe['to'].apply(updateToNone)\n",
    "fraudDataframe['from'] = fraudDataframe['to'].apply(updateToNone)\n",
    "fraudDataframe['status'] = fraudDataframe['status'].apply(updateToNone)\n",
    "fraudDataframe['date'] = fraudDataframe['date'].apply(updateToNone)\n",
    "\n",
    "print((fraudDataframe == \"None\").sum())\n",
    "print(fraudDataframe.isna().sum()) "
   ]
  },
  {
   "cell_type": "code",
   "execution_count": 10,
   "metadata": {},
   "outputs": [
    {
     "name": "stdout",
     "output_type": "stream",
     "text": [
      "raw_mail    0\n",
      "subject     0\n",
      "from        0\n",
      "to          0\n",
      "status      0\n",
      "date        0\n",
      "body        0\n",
      "dtype: int64\n",
      "raw_mail      0\n",
      "subject      17\n",
      "from        948\n",
      "to          948\n",
      "status        0\n",
      "date        534\n",
      "body          0\n",
      "dtype: int64\n"
     ]
    }
   ],
   "source": [
    "phishingDataframe['subject'] = phishingDataframe['subject'].apply(updateToNone)\n",
    "phishingDataframe['to'] = phishingDataframe['to'].apply(updateToNone)\n",
    "phishingDataframe['from'] = phishingDataframe['to'].apply(updateToNone)\n",
    "phishingDataframe['status'] = phishingDataframe['status'].apply(updateToNone)\n",
    "phishingDataframe['date'] = phishingDataframe['date'].apply(updateToNone)\n",
    "\n",
    "print((fraudDataframe == \"None\").sum())\n",
    "print(fraudDataframe.isna().sum()) "
   ]
  },
  {
   "cell_type": "markdown",
   "metadata": {},
   "source": [
    "To fix the inconsistensy format of the email in columns \"from\" and \"to\" , we will used regex to extract the valid emails first then, fill the empty values with valid values from the datasets"
   ]
  },
  {
   "cell_type": "code",
   "execution_count": 11,
   "metadata": {},
   "outputs": [
    {
     "name": "stderr",
     "output_type": "stream",
     "text": [
      "C:\\Users\\chandieka\\AppData\\Local\\Temp\\ipykernel_15620\\3334997152.py:1: UserWarning: This pattern is interpreted as a regular expression, and has match groups. To actually get the groups, use str.extract.\n",
      "  notValidEmail = phishingDataframe['from'].str.contains('[a-zA-Z0-9-_.]*@a-zA-Z0-9-]*(\\.[a-zA-Z]*)*', regex=True) == False\n"
     ]
    },
    {
     "data": {
      "text/plain": [
       "4181"
      ]
     },
     "execution_count": 11,
     "metadata": {},
     "output_type": "execute_result"
    }
   ],
   "source": [
    "notValidEmail = phishingDataframe['from'].str.contains('[a-zA-Z0-9-_.]*@a-zA-Z0-9-]*(\\.[a-zA-Z]*)*', regex=True) == False\n",
    "phishingDataframe[notValidEmail]['from'].count()"
   ]
  },
  {
   "cell_type": "code",
   "execution_count": 12,
   "metadata": {},
   "outputs": [
    {
     "name": "stderr",
     "output_type": "stream",
     "text": [
      "C:\\Users\\chandieka\\AppData\\Local\\Temp\\ipykernel_15620\\1799348055.py:1: UserWarning: This pattern is interpreted as a regular expression, and has match groups. To actually get the groups, use str.extract.\n",
      "  notValidEmail = fraudDataframe['from'].str.contains('([a-zA-Z0-9-_.])*@([a-zA-Z0-9-])*(\\.[a-zA-Z]*)*', regex=True) == False\n"
     ]
    },
    {
     "data": {
      "text/plain": [
       "545"
      ]
     },
     "execution_count": 12,
     "metadata": {},
     "output_type": "execute_result"
    }
   ],
   "source": [
    "notValidEmail = fraudDataframe['from'].str.contains('([a-zA-Z0-9-_.])*@([a-zA-Z0-9-])*(\\.[a-zA-Z]*)*', regex=True) == False\n",
    "fraudDataframe[notValidEmail]['from'].count()"
   ]
  },
  {
   "cell_type": "code",
   "execution_count": 13,
   "metadata": {},
   "outputs": [
    {
     "name": "stderr",
     "output_type": "stream",
     "text": [
      "C:\\Users\\chandieka\\AppData\\Local\\Temp\\ipykernel_15620\\2401131589.py:1: UserWarning: This pattern is interpreted as a regular expression, and has match groups. To actually get the groups, use str.extract.\n",
      "  notValidEmail = enronDataframe['to'].str.contains('([a-zA-Z0-9-_.])*@([a-zA-Z0-9-])*(\\.[a-zA-Z]*)*', regex=True) == False\n"
     ]
    },
    {
     "data": {
      "text/plain": [
       "16"
      ]
     },
     "execution_count": 13,
     "metadata": {},
     "output_type": "execute_result"
    }
   ],
   "source": [
    "notValidEmail = enronDataframe['to'].str.contains('([a-zA-Z0-9-_.])*@([a-zA-Z0-9-])*(\\.[a-zA-Z]*)*', regex=True) == False\n",
    "enronDataframe[notValidEmail]['to'].count()"
   ]
  },
  {
   "cell_type": "code",
   "execution_count": 14,
   "metadata": {},
   "outputs": [],
   "source": [
    "parsedFrom = fraudDataframe['from'].str.extract('([a-zA-Z0-9-_.]*@[a-zA-Z0-9-]*(\\.[a-zA-Z]*)*)')\n",
    "parsedTo = fraudDataframe['to'].str.extract('([a-zA-Z0-9-_.]*@[a-zA-Z0-9-]*(\\.[a-zA-Z]*)*)')\n",
    "\n",
    "fraudDataframe['parsed_from'] = parsedFrom[0]\n",
    "fraudDataframe['parsed_to'] = parsedTo[0]"
   ]
  },
  {
   "cell_type": "code",
   "execution_count": 15,
   "metadata": {},
   "outputs": [],
   "source": [
    "parsedFrom = phishingDataframe['from'].str.extract('([a-zA-Z0-9-_.]*@[a-zA-Z0-9-]*(\\.[a-zA-Z]*)*)')\n",
    "parsedTo = phishingDataframe['to'].str.extract('([a-zA-Z0-9-_.]*@[a-zA-Z0-9-]*(\\.[a-zA-Z]*)*)')\n",
    "\n",
    "phishingDataframe['parsed_from'] = parsedFrom[0]\n",
    "phishingDataframe['parsed_to'] = parsedTo[0]"
   ]
  },
  {
   "cell_type": "code",
   "execution_count": 16,
   "metadata": {},
   "outputs": [],
   "source": [
    "parsedFrom = enronDataframe['from'].str.extract('([a-zA-Z0-9-_.]*@[a-zA-Z0-9-]*(\\.[a-zA-Z]*)*)')\n",
    "parsedTo = enronDataframe['to'].str.extract('([a-zA-Z0-9-_.]*@[a-zA-Z0-9-]*(\\.[a-zA-Z]*)*)')\n",
    "\n",
    "enronDataframe['parsed_from'] = parsedFrom[0]\n",
    "enronDataframe['parsed_to'] = parsedTo[0]"
   ]
  },
  {
   "cell_type": "markdown",
   "metadata": {},
   "source": [
    "Bellow is the kind of fields that wasnt register as an email"
   ]
  },
  {
   "cell_type": "code",
   "execution_count": 17,
   "metadata": {},
   "outputs": [
    {
     "name": "stdout",
     "output_type": "stream",
     "text": [
      "[None 'undisclosed-recipients: ;' 'undisclosed-recipients:;' ''\n",
      " 'undisclosed recipients: ;' 'N/A <>, N/A <>' 'N/A <>']\n",
      "[None 'undisclosed-recipients: ;' 'undisclosed-recipients:;' ''\n",
      " 'undisclosed recipients: ;' 'N/A <>, N/A <>' 'N/A <>']\n",
      "['undisclosed-recipients: ;' '[removed]' None 'undisclosed-recipients:;'\n",
      " 'unlisted-recipients:; (no To-header on input)'\n",
      " '<Undisclosed-Recipient:;>' '=?euc-kr?B?u+e2+7nnu/W6rsbtwfawocG3?=' '']\n",
      "['undisclosed-recipients: ;' '[removed]' None 'undisclosed-recipients:;'\n",
      " 'unlisted-recipients:; (no To-header on input)'\n",
      " '<Undisclosed-Recipient:;>' '=?euc-kr?B?u+e2+7nnu/W6rsbtwfawocG3?=' '']\n"
     ]
    }
   ],
   "source": [
    "print(fraudDataframe[fraudDataframe['parsed_from'].isna()]['from'].unique())\n",
    "print(fraudDataframe[fraudDataframe['parsed_to'].isna()]['to'].unique())\n",
    "print(phishingDataframe[phishingDataframe['parsed_from'].isna()]['from'].unique())\n",
    "print(phishingDataframe[phishingDataframe['parsed_to'].isna()]['to'].unique())"
   ]
  },
  {
   "cell_type": "code",
   "execution_count": 18,
   "metadata": {},
   "outputs": [],
   "source": [
    "phishingDataframe['parsed_from'] = phishingDataframe['parsed_from'].ffill().bfill()\n",
    "fraudDataframe['parsed_from'] = fraudDataframe['parsed_from'].ffill().bfill()\n",
    "enronDataframe['parsed_from'] = enronDataframe['parsed_from'].ffill().bfill()"
   ]
  },
  {
   "cell_type": "code",
   "execution_count": 19,
   "metadata": {},
   "outputs": [],
   "source": [
    "phishingDataframe['parsed_to'] = phishingDataframe['parsed_to'].ffill().bfill()\n",
    "fraudDataframe['parsed_to'] = fraudDataframe['parsed_to'].ffill().bfill()\n",
    "enronDataframe['parsed_to'] = enronDataframe['parsed_to'].ffill().bfill()"
   ]
  },
  {
   "cell_type": "markdown",
   "metadata": {},
   "source": [
    "all the datasets subject column contains a null value, we will fill this value using existing fields in the datasets"
   ]
  },
  {
   "cell_type": "code",
   "execution_count": 20,
   "metadata": {},
   "outputs": [],
   "source": [
    "phishingDataframe['subject'] = phishingDataframe.subject.ffill().bfill()\n",
    "fraudDataframe['subject'] = fraudDataframe.subject.ffill().bfill()\n",
    "enronDataframe['subject'] = enronDataframe.subject.ffill().bfill()"
   ]
  },
  {
   "cell_type": "code",
   "execution_count": 21,
   "metadata": {},
   "outputs": [
    {
     "name": "stdout",
     "output_type": "stream",
     "text": [
      "Number of row that have empty subject for phishingDataframe: 0\n",
      "Number of row that have empty subject for fraudDataframe: 0\n",
      "Number of row that have empty subject for enronDataframe: 0\n"
     ]
    }
   ],
   "source": [
    "print('Number of row that have empty subject for phishingDataframe:', phishingDataframe.subject.isnull().sum())\n",
    "print('Number of row that have empty subject for fraudDataframe:', fraudDataframe.subject.isnull().sum())\n",
    "print('Number of row that have empty subject for enronDataframe:', enronDataframe.subject.isnull().sum())"
   ]
  },
  {
   "cell_type": "code",
   "execution_count": 22,
   "metadata": {},
   "outputs": [],
   "source": [
    "enronDataframe['parsed_date'] = enronDataframe.date.apply(lambda date: parser.parse(date).isoformat())"
   ]
  },
  {
   "cell_type": "markdown",
   "metadata": {},
   "source": [
    "Fill empty fields so no null exist by doing backward and forward fill"
   ]
  },
  {
   "cell_type": "code",
   "execution_count": 23,
   "metadata": {},
   "outputs": [],
   "source": [
    "fraudDataframe.date = fraudDataframe.date.ffill().bfill()\n",
    "phishingDataframe.date = phishingDataframe.date.ffill().bfill()"
   ]
  },
  {
   "cell_type": "code",
   "execution_count": 24,
   "metadata": {},
   "outputs": [
    {
     "name": "stdout",
     "output_type": "stream",
     "text": [
      "Total date row that are not in format for phishingDataframe: 444\n",
      "Total date row that are not in format for phishingDataframe: 151\n"
     ]
    }
   ],
   "source": [
    "diff = phishingDataframe.shape[0] - phishingDataframe.date.str.contains('[A-Za-z]{0,3}, \\d* [A-Za-z]{0,3} \\d{4}').sum()\n",
    "print(\"Total date row that are not in format for phishingDataframe:\", diff)\n",
    "diff = fraudDataframe.shape[0] - fraudDataframe.date.str.contains('[A-Za-z]{0,3}, \\d* [A-Za-z]{0,3} \\d{4}').sum()\n",
    "print(\"Total date row that are not in format for phishingDataframe:\", diff)"
   ]
  },
  {
   "cell_type": "code",
   "execution_count": 25,
   "metadata": {},
   "outputs": [],
   "source": [
    "def parseDate(date):\n",
    "    try:\n",
    "        return parser.parse(date).isoformat()\n",
    "    except Exception as e:\n",
    "        return None"
   ]
  },
  {
   "cell_type": "code",
   "execution_count": 26,
   "metadata": {},
   "outputs": [
    {
     "name": "stderr",
     "output_type": "stream",
     "text": [
      "c:\\Users\\chandieka\\anaconda3\\lib\\site-packages\\dateutil\\parser\\_parser.py:1207: UnknownTimezoneWarning: tzname CEST identified but not understood.  Pass `tzinfos` argument in order to correctly return a timezone-aware datetime.  In a future version, this will raise an exception.\n",
      "  warnings.warn(\"tzname {tzname} identified but not understood.  \"\n"
     ]
    }
   ],
   "source": [
    "phishingDataframe['parsed_date'] = phishingDataframe.date.str.replace('\\.', ':', regex=True)\n",
    "phishingDataframe['parsed_date'] = phishingDataframe['parsed_date'].apply(parseDate)\n"
   ]
  },
  {
   "cell_type": "markdown",
   "metadata": {},
   "source": [
    "Manual cleaning for cases that are to few to automate"
   ]
  },
  {
   "cell_type": "code",
   "execution_count": 27,
   "metadata": {},
   "outputs": [],
   "source": [
    "phishingDataframe.loc[821].parsed_date = parser.parse(\"Fri, 09 Jun 2006 08:23:29 +0500 (EST)\").isoformat()\n",
    "phishingDataframe.loc[892].parsed_date = parser.parse(\"Fri, 23 Jun 2006 13:25:46 -0100 (EST)\").isoformat()\n",
    "phishingDataframe.loc[896].parsed_date = parser.parse(\"Fri, 23 Jun 2006 21:36:05 +0800\").isoformat()\n",
    "phishingDataframe.loc[1066].parsed_date = parser.parse(\"Wed, 26 Jul 2006 09:48:28 -0800\").isoformat()\n",
    "phishingDataframe.loc[1067].parsed_date = parser.parse(\"Wed, 26 Jul 2006 12:50:48 -0600\").isoformat()\n",
    "phishingDataframe.loc[1072].parsed_date = parser.parse(\"Thu, 27 Jul 2006 03:06:10 -0800\").isoformat()\n",
    "phishingDataframe.loc[1074].parsed_date = parser.parse(\"Wed, 26 Jul 2006 15:24:52 -0500\").isoformat()\n",
    "phishingDataframe.loc[1075].parsed_date = parser.parse(\"Wed, 26 Jul 2006 15:43:42 -0500\").isoformat()\n",
    "phishingDataframe.loc[1076].parsed_date = parser.parse(\"Wed, 26 Jul 2006 19:03:49 -0300\").isoformat()\n",
    "phishingDataframe.loc[1077].parsed_date = parser.parse(\"Wed, 26 Jul 2006 19:35:02 -0300\").isoformat()\n",
    "phishingDataframe.loc[1095].parsed_date = parser.parse(\"31.07.2006\").isoformat()\n",
    "phishingDataframe.loc[1173].parsed_date = parser.parse(\"Thu, 3 Aug 2006 00:13:00 -0530\").isoformat()\n",
    "phishingDataframe.loc[2421].parsed_date = parser.parse(\"Tue, 09 Jan 2007 14:00:44 +0430\").isoformat()\n",
    "phishingDataframe.loc[3540].parsed_date = parser.parse(\"Sun, 10 Sep 2006 14:00:47 +0000\").isoformat()\n",
    "phishingDataframe.loc[3643].parsed_date = parser.parse(\"Fri, 09 Mar 2007 18:11:57 +0530\").isoformat()\n",
    "phishingDataframe.loc[3896].parsed_date = parser.parse(\"07.08.2006\").isoformat()\n",
    "phishingDataframe.loc[3963].parsed_date = parser.parse(\"Mon, 24 Feb 2003 17:32:08 +0000\").isoformat()\n",
    "phishingDataframe.loc[4117].parsed_date = parser.parse(\"Sun, 10 Sep 2006 12:08:54 -0300\").isoformat()"
   ]
  },
  {
   "cell_type": "code",
   "execution_count": 28,
   "metadata": {},
   "outputs": [
    {
     "name": "stderr",
     "output_type": "stream",
     "text": [
      "c:\\Users\\chandieka\\anaconda3\\lib\\site-packages\\dateutil\\parser\\_parser.py:1207: UnknownTimezoneWarning: tzname BST identified but not understood.  Pass `tzinfos` argument in order to correctly return a timezone-aware datetime.  In a future version, this will raise an exception.\n",
      "  warnings.warn(\"tzname {tzname} identified but not understood.  \"\n"
     ]
    }
   ],
   "source": [
    "fraudDataframe['parsed_date'] = fraudDataframe.date.str.replace('\\.', ':', regex=True)\n",
    "fraudDataframe['parsed_date'] = fraudDataframe['parsed_date'].apply(parseDate)"
   ]
  },
  {
   "cell_type": "code",
   "execution_count": 29,
   "metadata": {},
   "outputs": [],
   "source": [
    "def myfunc(row):\n",
    "    if row.parsed_date == None:\n",
    "        try:\n",
    "            row.parsed_date = parser.parse(\n",
    "                re.search(\"([A-Za-z]{1,3}, \\d{0,2} [A-Za-z]* \\d{2,4} \\d{2}:\\d{2}:\\d{2} ((\\+|\\-)?\\d{4})?)\", \n",
    "                          row.date).group(1)).isoformat()\n",
    "            return row\n",
    "        except Exception as e:\n",
    "            return row\n",
    "    else:\n",
    "        return row\n",
    "\n",
    "fraudDataframe = fraudDataframe.apply(myfunc, axis=1)"
   ]
  },
  {
   "cell_type": "markdown",
   "metadata": {},
   "source": [
    "Manual Updates"
   ]
  },
  {
   "cell_type": "code",
   "execution_count": 30,
   "metadata": {},
   "outputs": [],
   "source": [
    "fraudDataframe.loc[542].parsed_date = parser.parse(\"Sun, 09 nov 2003 21:18:28\").isoformat()\n",
    "fraudDataframe.loc[1236].parsed_date = parser.parse(\"Tue, 09 nov 2004 15:38:35 -0300\").isoformat()"
   ]
  },
  {
   "cell_type": "markdown",
   "metadata": {},
   "source": [
    "Add prediction label"
   ]
  },
  {
   "cell_type": "code",
   "execution_count": 31,
   "metadata": {},
   "outputs": [],
   "source": [
    "fraudDataframe['malicious'] = True\n",
    "phishingDataframe['malicious'] = True\n",
    "enronDataframe['malicious'] = False"
   ]
  },
  {
   "cell_type": "code",
   "execution_count": 32,
   "metadata": {},
   "outputs": [],
   "source": [
    "fraudDataframe.to_csv(path_or_buf='datasets/clean/fraud-emails.csv', index=False)\n",
    "phishingDataframe.to_csv(path_or_buf='datasets/clean/phishing-emails.csv', index=False)\n",
    "enronDataframe.to_csv(path_or_buf='datasets/clean/enron-emails.csv', index=False)"
   ]
  }
 ],
 "metadata": {
  "kernelspec": {
   "display_name": "Python 3.9.12 ('base')",
   "language": "python",
   "name": "python3"
  },
  "language_info": {
   "codemirror_mode": {
    "name": "ipython",
    "version": 3
   },
   "file_extension": ".py",
   "mimetype": "text/x-python",
   "name": "python",
   "nbconvert_exporter": "python",
   "pygments_lexer": "ipython3",
   "version": "3.9.12"
  },
  "orig_nbformat": 4,
  "vscode": {
   "interpreter": {
    "hash": "3f83a4b8e1c187aca35894c8eeaad8267ead7007e3a6e08dfe58ab16c9dd478f"
   }
  }
 },
 "nbformat": 4,
 "nbformat_minor": 2
}
