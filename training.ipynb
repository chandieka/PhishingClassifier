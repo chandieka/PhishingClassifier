{
 "cells": [
  {
   "cell_type": "markdown",
   "metadata": {},
   "source": [
    "## Summary"
   ]
  },
  {
   "cell_type": "markdown",
   "metadata": {},
   "source": [
    "## Import Libraries"
   ]
  },
  {
   "cell_type": "code",
   "execution_count": 1,
   "metadata": {},
   "outputs": [],
   "source": [
    "import pandas as pd\n",
    "import numpy as np\n",
    "from sklearn.ensemble import RandomForestRegressor\n",
    "from sklearn.metrics import mean_absolute_error\n",
    "from sklearn.naive_bayes import GaussianNB\n",
    "from sklearn.tree import DecisionTreeClassifier\n",
    "from sklearn.neighbors import KNeighborsClassifier\n",
    "from sklearn.ensemble import RandomForestClassifier\n",
    "from sklearn.model_selection import train_test_split\n",
    "\n",
    "import graphviz"
   ]
  },
  {
   "cell_type": "markdown",
   "metadata": {},
   "source": [
    "## Import Datasets"
   ]
  },
  {
   "cell_type": "code",
   "execution_count": 2,
   "metadata": {},
   "outputs": [],
   "source": [
    "enron_df = pd.read_csv('datasets/explored/enron-emails-explored.csv')\n",
    "mal_df = pd.read_csv('datasets/explored/malicious-emails-explored.csv')"
   ]
  },
  {
   "cell_type": "markdown",
   "metadata": {},
   "source": [
    "Create the Training sets"
   ]
  },
  {
   "cell_type": "code",
   "execution_count": 3,
   "metadata": {},
   "outputs": [],
   "source": [
    "import random\n",
    "\n",
    "\n",
    "part_1 = enron_df.sample(11871, ignore_index=True, random_state=1)\n",
    "part_2 = mal_df\n",
    "rand = round(random.random())\n",
    "\n",
    "training_set = (pd.concat([part_1, part_2], ignore_index=True)).sample(frac=1, ignore_index=True, random_state=rand)"
   ]
  },
  {
   "cell_type": "code",
   "execution_count": 4,
   "metadata": {},
   "outputs": [
    {
     "data": {
      "text/plain": [
       "Index(['Unnamed: 0', 'body', 'subject', 'raw_mail', 'from', 'to', 'status',\n",
       "       'date', 'parsed_from', 'parsed_to', 'parsed_date', 'malicious',\n",
       "       'content_type', 'charset', 'content_transfer_encoding', 'from_domain',\n",
       "       'to_domain', 'html', 'javascript', 'css', 'html_form', 'html_iframe',\n",
       "       'URLs_in_message', 'subject_len', 'subject_entropy', 'body_entropy',\n",
       "       'attachement'],\n",
       "      dtype='object')"
      ]
     },
     "execution_count": 4,
     "metadata": {},
     "output_type": "execute_result"
    }
   ],
   "source": [
    "training_set.columns"
   ]
  },
  {
   "cell_type": "code",
   "execution_count": 5,
   "metadata": {},
   "outputs": [],
   "source": [
    "features = ['html', \n",
    "            'javascript', \n",
    "            'css', \n",
    "            'html_form', \n",
    "            'html_iframe',\n",
    "            'URLs_in_message', \n",
    "            'subject_len', \n",
    "            'subject_entropy', \n",
    "            'body_entropy',\n",
    "            'attachement']"
   ]
  },
  {
   "cell_type": "code",
   "execution_count": 6,
   "metadata": {},
   "outputs": [],
   "source": [
    "X = training_set[features]\n",
    "y = training_set.malicious\n",
    "\n",
    "train_X, val_X, train_y, val_y = train_test_split(X, y,random_state = rand)"
   ]
  },
  {
   "cell_type": "code",
   "execution_count": 7,
   "metadata": {},
   "outputs": [
    {
     "data": {
      "text/html": [
       "<div>\n",
       "<style scoped>\n",
       "    .dataframe tbody tr th:only-of-type {\n",
       "        vertical-align: middle;\n",
       "    }\n",
       "\n",
       "    .dataframe tbody tr th {\n",
       "        vertical-align: top;\n",
       "    }\n",
       "\n",
       "    .dataframe thead th {\n",
       "        text-align: right;\n",
       "    }\n",
       "</style>\n",
       "<table border=\"1\" class=\"dataframe\">\n",
       "  <thead>\n",
       "    <tr style=\"text-align: right;\">\n",
       "      <th></th>\n",
       "      <th>html</th>\n",
       "      <th>javascript</th>\n",
       "      <th>css</th>\n",
       "      <th>html_form</th>\n",
       "      <th>html_iframe</th>\n",
       "      <th>URLs_in_message</th>\n",
       "      <th>subject_len</th>\n",
       "      <th>subject_entropy</th>\n",
       "      <th>body_entropy</th>\n",
       "      <th>attachement</th>\n",
       "    </tr>\n",
       "  </thead>\n",
       "  <tbody>\n",
       "    <tr>\n",
       "      <th>0</th>\n",
       "      <td>False</td>\n",
       "      <td>False</td>\n",
       "      <td>False</td>\n",
       "      <td>False</td>\n",
       "      <td>False</td>\n",
       "      <td>0</td>\n",
       "      <td>20</td>\n",
       "      <td>3.684184</td>\n",
       "      <td>3.605338</td>\n",
       "      <td>False</td>\n",
       "    </tr>\n",
       "    <tr>\n",
       "      <th>1</th>\n",
       "      <td>False</td>\n",
       "      <td>False</td>\n",
       "      <td>False</td>\n",
       "      <td>False</td>\n",
       "      <td>False</td>\n",
       "      <td>2</td>\n",
       "      <td>62</td>\n",
       "      <td>4.068553</td>\n",
       "      <td>4.855729</td>\n",
       "      <td>False</td>\n",
       "    </tr>\n",
       "    <tr>\n",
       "      <th>2</th>\n",
       "      <td>False</td>\n",
       "      <td>False</td>\n",
       "      <td>False</td>\n",
       "      <td>False</td>\n",
       "      <td>False</td>\n",
       "      <td>0</td>\n",
       "      <td>21</td>\n",
       "      <td>3.725651</td>\n",
       "      <td>4.587015</td>\n",
       "      <td>False</td>\n",
       "    </tr>\n",
       "    <tr>\n",
       "      <th>3</th>\n",
       "      <td>True</td>\n",
       "      <td>False</td>\n",
       "      <td>False</td>\n",
       "      <td>True</td>\n",
       "      <td>False</td>\n",
       "      <td>3</td>\n",
       "      <td>28</td>\n",
       "      <td>4.039149</td>\n",
       "      <td>4.745707</td>\n",
       "      <td>False</td>\n",
       "    </tr>\n",
       "    <tr>\n",
       "      <th>4</th>\n",
       "      <td>False</td>\n",
       "      <td>False</td>\n",
       "      <td>False</td>\n",
       "      <td>False</td>\n",
       "      <td>False</td>\n",
       "      <td>0</td>\n",
       "      <td>38</td>\n",
       "      <td>4.145972</td>\n",
       "      <td>4.562487</td>\n",
       "      <td>False</td>\n",
       "    </tr>\n",
       "    <tr>\n",
       "      <th>...</th>\n",
       "      <td>...</td>\n",
       "      <td>...</td>\n",
       "      <td>...</td>\n",
       "      <td>...</td>\n",
       "      <td>...</td>\n",
       "      <td>...</td>\n",
       "      <td>...</td>\n",
       "      <td>...</td>\n",
       "      <td>...</td>\n",
       "      <td>...</td>\n",
       "    </tr>\n",
       "    <tr>\n",
       "      <th>19995</th>\n",
       "      <td>False</td>\n",
       "      <td>False</td>\n",
       "      <td>False</td>\n",
       "      <td>False</td>\n",
       "      <td>False</td>\n",
       "      <td>0</td>\n",
       "      <td>13</td>\n",
       "      <td>3.546594</td>\n",
       "      <td>4.987845</td>\n",
       "      <td>False</td>\n",
       "    </tr>\n",
       "    <tr>\n",
       "      <th>19996</th>\n",
       "      <td>True</td>\n",
       "      <td>False</td>\n",
       "      <td>True</td>\n",
       "      <td>False</td>\n",
       "      <td>False</td>\n",
       "      <td>10</td>\n",
       "      <td>26</td>\n",
       "      <td>3.715454</td>\n",
       "      <td>5.191878</td>\n",
       "      <td>False</td>\n",
       "    </tr>\n",
       "    <tr>\n",
       "      <th>19997</th>\n",
       "      <td>False</td>\n",
       "      <td>False</td>\n",
       "      <td>False</td>\n",
       "      <td>False</td>\n",
       "      <td>False</td>\n",
       "      <td>0</td>\n",
       "      <td>14</td>\n",
       "      <td>3.182006</td>\n",
       "      <td>4.993333</td>\n",
       "      <td>False</td>\n",
       "    </tr>\n",
       "    <tr>\n",
       "      <th>19998</th>\n",
       "      <td>False</td>\n",
       "      <td>False</td>\n",
       "      <td>False</td>\n",
       "      <td>False</td>\n",
       "      <td>False</td>\n",
       "      <td>0</td>\n",
       "      <td>30</td>\n",
       "      <td>3.789898</td>\n",
       "      <td>4.367640</td>\n",
       "      <td>False</td>\n",
       "    </tr>\n",
       "    <tr>\n",
       "      <th>19999</th>\n",
       "      <td>False</td>\n",
       "      <td>False</td>\n",
       "      <td>False</td>\n",
       "      <td>False</td>\n",
       "      <td>False</td>\n",
       "      <td>0</td>\n",
       "      <td>29</td>\n",
       "      <td>3.823498</td>\n",
       "      <td>4.278634</td>\n",
       "      <td>False</td>\n",
       "    </tr>\n",
       "  </tbody>\n",
       "</table>\n",
       "<p>20000 rows × 10 columns</p>\n",
       "</div>"
      ],
      "text/plain": [
       "        html  javascript    css  html_form  html_iframe  URLs_in_message  \\\n",
       "0      False       False  False      False        False                0   \n",
       "1      False       False  False      False        False                2   \n",
       "2      False       False  False      False        False                0   \n",
       "3       True       False  False       True        False                3   \n",
       "4      False       False  False      False        False                0   \n",
       "...      ...         ...    ...        ...          ...              ...   \n",
       "19995  False       False  False      False        False                0   \n",
       "19996   True       False   True      False        False               10   \n",
       "19997  False       False  False      False        False                0   \n",
       "19998  False       False  False      False        False                0   \n",
       "19999  False       False  False      False        False                0   \n",
       "\n",
       "       subject_len  subject_entropy  body_entropy  attachement  \n",
       "0               20         3.684184      3.605338        False  \n",
       "1               62         4.068553      4.855729        False  \n",
       "2               21         3.725651      4.587015        False  \n",
       "3               28         4.039149      4.745707        False  \n",
       "4               38         4.145972      4.562487        False  \n",
       "...            ...              ...           ...          ...  \n",
       "19995           13         3.546594      4.987845        False  \n",
       "19996           26         3.715454      5.191878        False  \n",
       "19997           14         3.182006      4.993333        False  \n",
       "19998           30         3.789898      4.367640        False  \n",
       "19999           29         3.823498      4.278634        False  \n",
       "\n",
       "[20000 rows x 10 columns]"
      ]
     },
     "execution_count": 7,
     "metadata": {},
     "output_type": "execute_result"
    }
   ],
   "source": [
    "X"
   ]
  },
  {
   "cell_type": "markdown",
   "metadata": {},
   "source": [
    "## Decision Tree"
   ]
  },
  {
   "cell_type": "code",
   "execution_count": 8,
   "metadata": {},
   "outputs": [
    {
     "name": "stdout",
     "output_type": "stream",
     "text": [
      "Number of mislabeled points out of a total: 5000 points: 824\n",
      "The accuracy of the model is: 83.52000000000001%\n"
     ]
    }
   ],
   "source": [
    "dts_clf = DecisionTreeClassifier(random_state=rand)\n",
    "dts_model = dts_clf.fit(train_X, train_y)\n",
    "pred_y = dts_model.predict(val_X)\n",
    "\n",
    "print(f\"Number of mislabeled points out of a total: {len(val_X)} points: {(val_y != pred_y).sum()}\")\n",
    "print(f\"The accuracy of the model is: {((val_y == pred_y).sum() / len(val_X)) * 100}%\")"
   ]
  },
  {
   "cell_type": "code",
   "execution_count": 9,
   "metadata": {},
   "outputs": [],
   "source": []
  },
  {
   "cell_type": "markdown",
   "metadata": {},
   "source": [
    "## KNN"
   ]
  },
  {
   "cell_type": "code",
   "execution_count": 10,
   "metadata": {},
   "outputs": [
    {
     "name": "stdout",
     "output_type": "stream",
     "text": [
      "Number of mislabeled points out of a total: 5000 points: 904\n",
      "The accuracy of the model is: 81.92%\n"
     ]
    }
   ],
   "source": [
    "knn_clf = KNeighborsClassifier()\n",
    "knn_model = knn_clf.fit(train_X, train_y)\n",
    "pred_y = knn_model.predict(val_X)\n",
    "\n",
    "print(f\"Number of mislabeled points out of a total: {len(val_X)} points: {(val_y != pred_y).sum()}\")\n",
    "print(f\"The accuracy of the model is: {((val_y == pred_y).sum() / len(val_X)) * 100}%\")"
   ]
  },
  {
   "cell_type": "markdown",
   "metadata": {},
   "source": [
    "## Random Forest"
   ]
  },
  {
   "cell_type": "code",
   "execution_count": 11,
   "metadata": {},
   "outputs": [
    {
     "name": "stdout",
     "output_type": "stream",
     "text": [
      "Number of mislabeled points out of a total: 5000 points: 646\n",
      "The accuracy of the model is: 87.08%\n"
     ]
    }
   ],
   "source": [
    "rf_clf = RandomForestClassifier(random_state=rand)\n",
    "rf_model = rf_clf.fit(train_X, train_y)\n",
    "pred_y = rf_model.predict(val_X)\n",
    "\n",
    "print(f\"Number of mislabeled points out of a total: {len(val_X)} points: {(val_y != pred_y).sum()}\")\n",
    "print(f\"The accuracy of the model is: {((val_y == pred_y).sum() / len(val_X)) * 100}%\")"
   ]
  },
  {
   "cell_type": "markdown",
   "metadata": {},
   "source": [
    "## Naive Bayes"
   ]
  },
  {
   "cell_type": "code",
   "execution_count": 12,
   "metadata": {},
   "outputs": [
    {
     "name": "stdout",
     "output_type": "stream",
     "text": [
      "Number of mislabeled points out of a total: 5000 points: 1336\n",
      "The accuracy of the model is: 73.28%\n"
     ]
    }
   ],
   "source": [
    "nb_clf = GaussianNB()\n",
    "nb_model = nb_clf.fit(train_X, train_y)\n",
    "pred_y = nb_model.predict(val_X)\n",
    "\n",
    "print(f\"Number of mislabeled points out of a total: {len(val_X)} points: {(val_y != pred_y).sum()}\")\n",
    "print(f\"The accuracy of the model is: {((val_y == pred_y).sum() / len(val_X)) * 100}%\")"
   ]
  }
 ],
 "metadata": {
  "kernelspec": {
   "display_name": "Python 3.9.12 ('base')",
   "language": "python",
   "name": "python3"
  },
  "language_info": {
   "codemirror_mode": {
    "name": "ipython",
    "version": 3
   },
   "file_extension": ".py",
   "mimetype": "text/x-python",
   "name": "python",
   "nbconvert_exporter": "python",
   "pygments_lexer": "ipython3",
   "version": "3.9.12"
  },
  "orig_nbformat": 4,
  "vscode": {
   "interpreter": {
    "hash": "43faf7f6e3c8903bcbf219f459c479e0fb6d51fc0610fd9ffdaf5b483d5dbe7d"
   }
  }
 },
 "nbformat": 4,
 "nbformat_minor": 2
}
