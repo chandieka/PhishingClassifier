{
 "cells": [
  {
   "cell_type": "markdown",
   "metadata": {},
   "source": [
    "## Summary"
   ]
  },
  {
   "cell_type": "markdown",
   "metadata": {},
   "source": [
    "## Import Libraries"
   ]
  },
  {
   "cell_type": "code",
   "execution_count": 1,
   "metadata": {},
   "outputs": [],
   "source": [
    "import pandas as pd\n",
    "import numpy as np\n",
    "from sklearn.ensemble import RandomForestRegressor\n",
    "from sklearn.metrics import mean_absolute_error\n",
    "from sklearn.naive_bayes import GaussianNB\n",
    "from sklearn.tree import DecisionTreeClassifier\n",
    "from sklearn.neighbors import KNeighborsClassifier\n",
    "from sklearn.ensemble import RandomForestClassifier\n",
    "from sklearn.model_selection import train_test_split"
   ]
  },
  {
   "cell_type": "markdown",
   "metadata": {},
   "source": [
    "## Import Datasets"
   ]
  },
  {
   "cell_type": "code",
   "execution_count": 2,
   "metadata": {},
   "outputs": [],
   "source": [
    "enron_df = pd.read_csv('datasets/explored/enron-emails-explored.csv')\n",
    "mal_df = pd.read_csv('datasets/explored/malicious-emails-explored.csv')"
   ]
  },
  {
   "cell_type": "markdown",
   "metadata": {},
   "source": [
    "Create the Training sets"
   ]
  },
  {
   "cell_type": "code",
   "execution_count": 3,
   "metadata": {},
   "outputs": [],
   "source": [
    "import random\n",
    "\n",
    "\n",
    "part_1 = enron_df.sample(11871, ignore_index=True, random_state=1)\n",
    "part_2 = mal_df\n",
    "rand = round(random.random())\n",
    "\n",
    "training_set = (pd.concat([part_1, part_2], ignore_index=True)).sample(frac=1, ignore_index=True, random_state=rand)"
   ]
  },
  {
   "cell_type": "code",
   "execution_count": 4,
   "metadata": {},
   "outputs": [
    {
     "data": {
      "text/plain": [
       "Index(['raw_mail', 'subject', 'from', 'to', 'status', 'date', 'body',\n",
       "       'parsed_from', 'parsed_to', 'parsed_date', 'malicious', 'content_type',\n",
       "       'charset', 'content_transfer_encoding', 'from_domain', 'to_domain',\n",
       "       'html', 'javascript', 'css', 'html_form', 'html_iframe',\n",
       "       'URLs_in_message', 'subject_len', 'subject_entropy', 'body_entropy',\n",
       "       'attachement'],\n",
       "      dtype='object')"
      ]
     },
     "execution_count": 4,
     "metadata": {},
     "output_type": "execute_result"
    }
   ],
   "source": [
    "training_set.columns"
   ]
  },
  {
   "cell_type": "code",
   "execution_count": 5,
   "metadata": {},
   "outputs": [],
   "source": [
    "features = ['html', \n",
    "            'javascript', \n",
    "            'css', \n",
    "            'html_form', \n",
    "            'html_iframe',\n",
    "            'URLs_in_message', \n",
    "            'subject_len', \n",
    "            'subject_entropy', \n",
    "            'body_entropy',\n",
    "            'attachement']"
   ]
  },
  {
   "cell_type": "code",
   "execution_count": 6,
   "metadata": {},
   "outputs": [],
   "source": [
    "X = training_set[features]\n",
    "y = training_set.malicious\n",
    "\n",
    "train_X, val_X, train_y, val_y = train_test_split(X, y,random_state = rand)"
   ]
  },
  {
   "cell_type": "code",
   "execution_count": 7,
   "metadata": {},
   "outputs": [
    {
     "data": {
      "text/html": [
       "<div>\n",
       "<style scoped>\n",
       "    .dataframe tbody tr th:only-of-type {\n",
       "        vertical-align: middle;\n",
       "    }\n",
       "\n",
       "    .dataframe tbody tr th {\n",
       "        vertical-align: top;\n",
       "    }\n",
       "\n",
       "    .dataframe thead th {\n",
       "        text-align: right;\n",
       "    }\n",
       "</style>\n",
       "<table border=\"1\" class=\"dataframe\">\n",
       "  <thead>\n",
       "    <tr style=\"text-align: right;\">\n",
       "      <th></th>\n",
       "      <th>URLs_in_message</th>\n",
       "      <th>subject_len</th>\n",
       "      <th>subject_entropy</th>\n",
       "      <th>body_entropy</th>\n",
       "    </tr>\n",
       "  </thead>\n",
       "  <tbody>\n",
       "    <tr>\n",
       "      <th>count</th>\n",
       "      <td>20000.000000</td>\n",
       "      <td>20000.000000</td>\n",
       "      <td>20000.000000</td>\n",
       "      <td>20000.000000</td>\n",
       "    </tr>\n",
       "    <tr>\n",
       "      <th>mean</th>\n",
       "      <td>2.676050</td>\n",
       "      <td>30.771800</td>\n",
       "      <td>3.696848</td>\n",
       "      <td>4.793095</td>\n",
       "    </tr>\n",
       "    <tr>\n",
       "      <th>std</th>\n",
       "      <td>8.816654</td>\n",
       "      <td>31.105961</td>\n",
       "      <td>0.631801</td>\n",
       "      <td>0.486961</td>\n",
       "    </tr>\n",
       "    <tr>\n",
       "      <th>min</th>\n",
       "      <td>0.000000</td>\n",
       "      <td>1.000000</td>\n",
       "      <td>-0.000000</td>\n",
       "      <td>-0.000000</td>\n",
       "    </tr>\n",
       "    <tr>\n",
       "      <th>25%</th>\n",
       "      <td>0.000000</td>\n",
       "      <td>17.000000</td>\n",
       "      <td>3.452820</td>\n",
       "      <td>4.552525</td>\n",
       "    </tr>\n",
       "    <tr>\n",
       "      <th>50%</th>\n",
       "      <td>0.000000</td>\n",
       "      <td>26.000000</td>\n",
       "      <td>3.794653</td>\n",
       "      <td>4.806861</td>\n",
       "    </tr>\n",
       "    <tr>\n",
       "      <th>75%</th>\n",
       "      <td>1.000000</td>\n",
       "      <td>40.000000</td>\n",
       "      <td>4.092136</td>\n",
       "      <td>5.056293</td>\n",
       "    </tr>\n",
       "    <tr>\n",
       "      <th>max</th>\n",
       "      <td>142.000000</td>\n",
       "      <td>2659.000000</td>\n",
       "      <td>5.359526</td>\n",
       "      <td>6.134659</td>\n",
       "    </tr>\n",
       "  </tbody>\n",
       "</table>\n",
       "</div>"
      ],
      "text/plain": [
       "       URLs_in_message   subject_len  subject_entropy  body_entropy\n",
       "count     20000.000000  20000.000000     20000.000000  20000.000000\n",
       "mean          2.676050     30.771800         3.696848      4.793095\n",
       "std           8.816654     31.105961         0.631801      0.486961\n",
       "min           0.000000      1.000000        -0.000000     -0.000000\n",
       "25%           0.000000     17.000000         3.452820      4.552525\n",
       "50%           0.000000     26.000000         3.794653      4.806861\n",
       "75%           1.000000     40.000000         4.092136      5.056293\n",
       "max         142.000000   2659.000000         5.359526      6.134659"
      ]
     },
     "execution_count": 7,
     "metadata": {},
     "output_type": "execute_result"
    }
   ],
   "source": [
    "X.describe()"
   ]
  },
  {
   "cell_type": "code",
   "execution_count": 52,
   "metadata": {},
   "outputs": [],
   "source": [
    "from sklearn.metrics import confusion_matrix, precision_score, recall_score, f1_score\n",
    "import seaborn as sn\n",
    "import matplotlib.pyplot as plt\n"
   ]
  },
  {
   "cell_type": "markdown",
   "metadata": {},
   "source": [
    "## Decision Tree"
   ]
  },
  {
   "cell_type": "code",
   "execution_count": 54,
   "metadata": {},
   "outputs": [
    {
     "name": "stdout",
     "output_type": "stream",
     "text": [
      "Number of mislabeled points out of a total: 5000 points: 830\n",
      "The accuracy of the model is: 83%\n",
      "Precision of the model is: 80%\n",
      "Recall of the model is: 81%\n",
      "F1 score of the model is: 80\n"
     ]
    },
    {
     "data": {
      "text/plain": [
       "<AxesSubplot:>"
      ]
     },
     "execution_count": 54,
     "metadata": {},
     "output_type": "execute_result"
    },
    {
     "data": {
      "image/png": "[encoded data removed]",
      "text/plain": [
       "<Figure size 432x432 with 2 Axes>"
      ]
     },
     "metadata": {
      "needs_background": "light"
     },
     "output_type": "display_data"
    }
   ],
   "source": [
    "dts_clf = DecisionTreeClassifier(random_state=rand)\n",
    "dts_model = dts_clf.fit(train_X, train_y)\n",
    "pred_y = dts_model.predict(val_X)\n",
    "\n",
    "print(f\"Number of mislabeled points out of a total: {len(val_X)} points: {(val_y != pred_y).sum()}\")\n",
    "print(f\"The accuracy of the model is: {round((val_y == pred_y).sum() / len(val_X) * 100)}%\")\n",
    "print(f'Precision of the model is: {round(precision_score(val_y, pred_y) * 100)}%')\n",
    "print(f'Recall of the model is: {round(recall_score(val_y, pred_y) * 100)}%')\n",
    "print(f'F1 score of the model is: {round(f1_score(val_y, pred_y) * 100)}%')\n",
    "\n",
    "cm = confusion_matrix(val_y, pred_y)\n",
    "df_cm = pd.DataFrame(cm, index=['legitimate', 'Malicious'], columns=['pred legitimate', 'pred Malicious'])\n",
    "\n",
    "plt.figure(figsize=(6,6))\n",
    "sn.heatmap(df_cm, annot=True)"
   ]
  },
  {
   "cell_type": "markdown",
   "metadata": {},
   "source": [
    "## KNN"
   ]
  },
  {
   "cell_type": "code",
   "execution_count": 49,
   "metadata": {},
   "outputs": [
    {
     "name": "stdout",
     "output_type": "stream",
     "text": [
      "Number of mislabeled points out of a total: 5000 points: 914\n",
      "The accuracy of the model is: 82%\n",
      "Precision of the model is: 79%\n",
      "Recall of the model is: 76%\n"
     ]
    },
    {
     "data": {
      "text/plain": [
       "<AxesSubplot:>"
      ]
     },
     "execution_count": 49,
     "metadata": {},
     "output_type": "execute_result"
    },
    {
     "data": {
      "image/png": "[encoded data removed]",
      "text/plain": [
       "<Figure size 432x432 with 2 Axes>"
      ]
     },
     "metadata": {
      "needs_background": "light"
     },
     "output_type": "display_data"
    }
   ],
   "source": [
    "knn_clf = KNeighborsClassifier()\n",
    "knn_model = knn_clf.fit(train_X, train_y)\n",
    "pred_y = knn_model.predict(val_X)\n",
    "\n",
    "print(f\"Number of mislabeled points out of a total: {len(val_X)} points: {(val_y != pred_y).sum()}\")\n",
    "print(f\"The accuracy of the model is: {round((val_y == pred_y).sum() / len(val_X) * 100)}%\")\n",
    "print(f'Precision of the model is: {round(precision_score(val_y, pred_y) * 100)}%')\n",
    "print(f'Recall of the model is: {round(recall_score(val_y, pred_y) * 100)}%')\n",
    "print(f'F1 score of the model is: {round(f1_score(val_y, pred_y) * 100)}%')\n",
    "\n",
    "cm = confusion_matrix(val_y, pred_y)\n",
    "df_cm = pd.DataFrame(cm, index=['legitimate', 'Malicious'], columns=['pred legitimate', 'pred Malicious'])\n",
    "\n",
    "plt.figure(figsize=(6,6))\n",
    "sn.heatmap(df_cm, annot=True)"
   ]
  },
  {
   "cell_type": "markdown",
   "metadata": {},
   "source": [
    "## Random Forest"
   ]
  },
  {
   "cell_type": "code",
   "execution_count": 50,
   "metadata": {},
   "outputs": [
    {
     "name": "stdout",
     "output_type": "stream",
     "text": [
      "Number of mislabeled points out of a total: 5000 points: 667\n",
      "The accuracy of the model is: 87%\n",
      "Precision of the model is: 85%\n",
      "Recall of the model is: 82%\n"
     ]
    },
    {
     "data": {
      "text/plain": [
       "<AxesSubplot:>"
      ]
     },
     "execution_count": 50,
     "metadata": {},
     "output_type": "execute_result"
    },
    {
     "data": {
      "image/png": "[encoded data removed]",
      "text/plain": [
       "<Figure size 432x432 with 2 Axes>"
      ]
     },
     "metadata": {
      "needs_background": "light"
     },
     "output_type": "display_data"
    }
   ],
   "source": [
    "rf_clf = RandomForestClassifier(random_state=rand)\n",
    "rf_model = rf_clf.fit(train_X, train_y)\n",
    "pred_y = rf_model.predict(val_X)\n",
    "\n",
    "print(f\"Number of mislabeled points out of a total: {len(val_X)} points: {(val_y != pred_y).sum()}\")\n",
    "print(f\"The accuracy of the model is: {round((val_y == pred_y).sum() / len(val_X) * 100)}%\")\n",
    "print(f'Precision of the model is: {round(precision_score(val_y, pred_y) * 100)}%')\n",
    "print(f'Recall of the model is: {round(recall_score(val_y, pred_y) * 100)}%')\n",
    "print(f'F1 score of the model is: {round(f1_score(val_y, pred_y) * 100)}%')\n",
    "\n",
    "cm = confusion_matrix(val_y, pred_y)\n",
    "df_cm = pd.DataFrame(cm, index=['legitimate', 'Malicious'], columns=['pred legitimate', 'pred Malicious'])\n",
    "\n",
    "plt.figure(figsize=(6,6))\n",
    "sn.heatmap(df_cm, annot=True)"
   ]
  },
  {
   "cell_type": "markdown",
   "metadata": {},
   "source": [
    "## Naive Bayes"
   ]
  },
  {
   "cell_type": "code",
   "execution_count": 51,
   "metadata": {},
   "outputs": [
    {
     "name": "stdout",
     "output_type": "stream",
     "text": [
      "Number of mislabeled points out of a total: 5000 points: 1352\n",
      "The accuracy of the model is: 73%\n",
      "Precision of the model is: 97%\n",
      "Recall of the model is: 36%\n"
     ]
    },
    {
     "data": {
      "text/plain": [
       "<AxesSubplot:>"
      ]
     },
     "execution_count": 51,
     "metadata": {},
     "output_type": "execute_result"
    },
    {
     "data": {
      "image/png": "[encoded data removed]",
      "text/plain": [
       "<Figure size 432x432 with 2 Axes>"
      ]
     },
     "metadata": {
      "needs_background": "light"
     },
     "output_type": "display_data"
    }
   ],
   "source": [
    "nb_clf = GaussianNB()\n",
    "nb_model = nb_clf.fit(train_X, train_y)\n",
    "pred_y = nb_model.predict(val_X)\n",
    "\n",
    "print(f\"Number of mislabeled points out of a total: {len(val_X)} points: {(val_y != pred_y).sum()}\")\n",
    "print(f\"The accuracy of the model is: {round((val_y == pred_y).sum() / len(val_X) * 100)}%\")\n",
    "print(f'Precision of the model is: {round(precision_score(val_y, pred_y) * 100)}%')\n",
    "print(f'Recall of the model is: {round(recall_score(val_y, pred_y) * 100)}%')\n",
    "print(f'F1 score of the model is: {round(f1_score(val_y, pred_y) * 100)}%')\n",
    "\n",
    "cm = confusion_matrix(val_y, pred_y)\n",
    "df_cm = pd.DataFrame(cm, index=['legitimate', 'Malicious'], columns=['pred legitimate', 'pred Malicious'])\n",
    "\n",
    "plt.figure(figsize=(6,6))\n",
    "sn.heatmap(df_cm, annot=True)"
   ]
  }
 ],
 "metadata": {
  "kernelspec": {
   "display_name": "Python 3.9.12 ('base')",
   "language": "python",
   "name": "python3"
  },
  "language_info": {
   "codemirror_mode": {
    "name": "ipython",
    "version": 3
   },
   "file_extension": ".py",
   "mimetype": "text/x-python",
   "name": "python",
   "nbconvert_exporter": "python",
   "pygments_lexer": "ipython3",
   "version": "3.9.12"
  },
  "orig_nbformat": 4,
  "vscode": {
   "interpreter": {
    "hash": "3f83a4b8e1c187aca35894c8eeaad8267ead7007e3a6e08dfe58ab16c9dd478f"
   }
  }
 },
 "nbformat": 4,
 "nbformat_minor": 2
}
