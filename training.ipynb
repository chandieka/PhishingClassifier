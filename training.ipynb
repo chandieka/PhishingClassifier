{
 "cells": [
  {
   "cell_type": "markdown",
   "metadata": {},
   "source": [
    "## Summary"
   ]
  },
  {
   "cell_type": "markdown",
   "metadata": {},
   "source": [
    "Using 4 different estimator we can deduce which one perform better in different category. To do that we need to set the same level of standard where one the same datasets will be used to fit the estimator and estimator parameter will be set to default."
   ]
  },
  {
   "cell_type": "markdown",
   "metadata": {},
   "source": [
    "The 4 kind of estimator are as followed:\n",
    "- Decision Tree\n",
    "- Random Forest\n",
    "- KNN\n",
    "- Naive baiyes\n",
    "  "
   ]
  },
  {
   "cell_type": "markdown",
   "metadata": {},
   "source": [
    "## Conclusion"
   ]
  },
  {
   "cell_type": "markdown",
   "metadata": {},
   "source": [
    "Out of the 4 estimator Random forest perform higher in overal score reaching 98/100 (plus minus) in accuracy, precision, recall and F1 Score. "
   ]
  },
  {
   "cell_type": "markdown",
   "metadata": {},
   "source": [
    "the reason why Random forest perform better than the rest is that this estimator can \"efficiently\" utilize a large set of features by creating numerous decision trees using random set of feature. the trees that are created will then take a vote for which composition perform better on average."
   ]
  },
  {
   "cell_type": "markdown",
   "metadata": {},
   "source": [
    "Decision Tree perform slightly worse than random forest while still perform on average higher than 97/100 in all evaluation score."
   ]
  },
  {
   "cell_type": "markdown",
   "metadata": {},
   "source": [
    "While KNN & Naive bayes perform worse in all aspect other than it's precision score. the overal score is still above 90/100 but fall short compare to Decision Trees and Random Forest."
   ]
  },
  {
   "cell_type": "markdown",
   "metadata": {},
   "source": [
    "## Import Libraries"
   ]
  },
  {
   "cell_type": "markdown",
   "metadata": {},
   "source": [
    "Start by loading all the libaries that are needed"
   ]
  },
  {
   "cell_type": "code",
   "execution_count": 9,
   "metadata": {},
   "outputs": [],
   "source": [
    "import pandas as pd\n",
    "import numpy as np\n",
    "from sklearn.ensemble import RandomForestRegressor\n",
    "from sklearn.metrics import mean_absolute_error\n",
    "from sklearn.naive_bayes import GaussianNB\n",
    "from sklearn.tree import DecisionTreeClassifier\n",
    "from sklearn.neighbors import KNeighborsClassifier\n",
    "from sklearn.ensemble import RandomForestClassifier\n",
    "from sklearn.model_selection import train_test_split\n",
    "from sklearn.metrics import confusion_matrix, precision_score, recall_score, f1_score\n",
    "import seaborn as sn\n",
    "import matplotlib.pyplot as plt"
   ]
  },
  {
   "cell_type": "markdown",
   "metadata": {},
   "source": [
    "## Import Datasets"
   ]
  },
  {
   "cell_type": "markdown",
   "metadata": {},
   "source": [
    "Load the explored datasets, enron represent the legitimate datasets while the other is malicious one "
   ]
  },
  {
   "cell_type": "code",
   "execution_count": 2,
   "metadata": {},
   "outputs": [],
   "source": [
    "enron_df = pd.read_csv('datasets/explored/enron-emails-explored.csv')\n",
    "mal_df = pd.read_csv('datasets/explored/malicious-emails-explored.csv')"
   ]
  },
  {
   "cell_type": "markdown",
   "metadata": {},
   "source": [
    "Create the Training sets by concating the malicious and legitimate datasets and randomized the data "
   ]
  },
  {
   "cell_type": "code",
   "execution_count": 3,
   "metadata": {},
   "outputs": [],
   "source": [
    "import random\n",
    "\n",
    "\n",
    "part_1 = enron_df.sample(11871, ignore_index=True, random_state=1)\n",
    "part_2 = mal_df\n",
    "rand = round(random.random())\n",
    "\n",
    "training_set = (pd.concat([part_1, part_2], ignore_index=True)).sample(frac=1, ignore_index=True, random_state=rand)"
   ]
  },
  {
   "cell_type": "markdown",
   "metadata": {},
   "source": [
    "bellow is the list of features that can be used to train the model"
   ]
  },
  {
   "cell_type": "code",
   "execution_count": 4,
   "metadata": {},
   "outputs": [
    {
     "data": {
      "text/plain": [
       "Index(['Unnamed: 0', 'body', 'subject', 'raw_mail', 'from', 'to', 'status',\n",
       "       'date', 'parsed_from', 'parsed_to', 'parsed_date', 'malicious',\n",
       "       'content_type', 'charset', 'content_transfer_encoding', 'from_domain',\n",
       "       'to_domain', 'html', 'javascript', 'css', 'html_form', 'html_iframe',\n",
       "       'URLs_in_message', 'subject_len', 'subject_entropy', 'body_entropy',\n",
       "       'attachement'],\n",
       "      dtype='object')"
      ]
     },
     "execution_count": 4,
     "metadata": {},
     "output_type": "execute_result"
    }
   ],
   "source": [
    "training_set.columns"
   ]
  },
  {
   "cell_type": "markdown",
   "metadata": {},
   "source": [
    "the features will be used to train the model are defined as shown in the cell bellow"
   ]
  },
  {
   "cell_type": "code",
   "execution_count": 5,
   "metadata": {},
   "outputs": [],
   "source": [
    "features = [\n",
    "    'content_type',\n",
    "    'content_transfer_encoding',\n",
    "    'charset',\n",
    "    'html', \n",
    "    'javascript', \n",
    "    'css', \n",
    "    'html_form', \n",
    "    'html_iframe',\n",
    "    'URLs_in_message', \n",
    "    'subject_len', \n",
    "    'subject_entropy', \n",
    "    'body_entropy',\n",
    "    'attachement'\n",
    "]"
   ]
  },
  {
   "cell_type": "code",
   "execution_count": 7,
   "metadata": {},
   "outputs": [
    {
     "name": "stdout",
     "output_type": "stream",
     "text": [
      "<class 'pandas.core.frame.DataFrame'>\n",
      "RangeIndex: 20000 entries, 0 to 19999\n",
      "Data columns (total 13 columns):\n",
      " #   Column                     Non-Null Count  Dtype  \n",
      "---  ------                     --------------  -----  \n",
      " 0   content_type               20000 non-null  int64  \n",
      " 1   content_transfer_encoding  20000 non-null  int64  \n",
      " 2   charset                    20000 non-null  int64  \n",
      " 3   html                       20000 non-null  int64  \n",
      " 4   javascript                 20000 non-null  int64  \n",
      " 5   css                        20000 non-null  int64  \n",
      " 6   html_form                  20000 non-null  int64  \n",
      " 7   html_iframe                20000 non-null  int64  \n",
      " 8   URLs_in_message            20000 non-null  int64  \n",
      " 9   subject_len                20000 non-null  int64  \n",
      " 10  subject_entropy            20000 non-null  float64\n",
      " 11  body_entropy               20000 non-null  float64\n",
      " 12  attachement                20000 non-null  int64  \n",
      "dtypes: float64(2), int64(11)\n",
      "memory usage: 2.0 MB\n"
     ]
    }
   ],
   "source": [
    "training_set[features].info()"
   ]
  },
  {
   "cell_type": "markdown",
   "metadata": {},
   "source": [
    "## Spliting the training sets"
   ]
  },
  {
   "cell_type": "markdown",
   "metadata": {},
   "source": [
    "the training sets are split into 2, training and validation."
   ]
  },
  {
   "cell_type": "markdown",
   "metadata": {},
   "source": [
    "the training set will contains 15000 row and validation set will contains 5000 row, with a ratio to 3:1"
   ]
  },
  {
   "cell_type": "code",
   "execution_count": 8,
   "metadata": {},
   "outputs": [
    {
     "name": "stdout",
     "output_type": "stream",
     "text": [
      "train lenght:  15000\n",
      "val lenght:  5000\n"
     ]
    }
   ],
   "source": [
    "X = training_set[features]\n",
    "y = training_set.malicious\n",
    "\n",
    "train_X, val_X, train_y, val_y = train_test_split(X, y, random_state = rand)\n",
    "\n",
    "print(\"train lenght: \",len(train_X))\n",
    "print(\"val lenght: \",len(val_X))"
   ]
  },
  {
   "cell_type": "code",
   "execution_count": 8,
   "metadata": {},
   "outputs": [
    {
     "data": {
      "text/html": [
       "<div>\n",
       "<style scoped>\n",
       "    .dataframe tbody tr th:only-of-type {\n",
       "        vertical-align: middle;\n",
       "    }\n",
       "\n",
       "    .dataframe tbody tr th {\n",
       "        vertical-align: top;\n",
       "    }\n",
       "\n",
       "    .dataframe thead th {\n",
       "        text-align: right;\n",
       "    }\n",
       "</style>\n",
       "<table border=\"1\" class=\"dataframe\">\n",
       "  <thead>\n",
       "    <tr style=\"text-align: right;\">\n",
       "      <th></th>\n",
       "      <th>content_type</th>\n",
       "      <th>content_transfer_encoding</th>\n",
       "      <th>charset</th>\n",
       "      <th>html</th>\n",
       "      <th>javascript</th>\n",
       "      <th>css</th>\n",
       "      <th>html_form</th>\n",
       "      <th>html_iframe</th>\n",
       "      <th>URLs_in_message</th>\n",
       "      <th>subject_len</th>\n",
       "      <th>subject_entropy</th>\n",
       "      <th>body_entropy</th>\n",
       "      <th>attachement</th>\n",
       "    </tr>\n",
       "  </thead>\n",
       "  <tbody>\n",
       "    <tr>\n",
       "      <th>count</th>\n",
       "      <td>20000.00000</td>\n",
       "      <td>20000.000000</td>\n",
       "      <td>20000.000000</td>\n",
       "      <td>20000.000000</td>\n",
       "      <td>20000.000000</td>\n",
       "      <td>20000.000000</td>\n",
       "      <td>20000.000000</td>\n",
       "      <td>20000.000000</td>\n",
       "      <td>20000.000000</td>\n",
       "      <td>20000.000000</td>\n",
       "      <td>20000.000000</td>\n",
       "      <td>20000.000000</td>\n",
       "      <td>20000.000000</td>\n",
       "    </tr>\n",
       "    <tr>\n",
       "      <th>mean</th>\n",
       "      <td>1.62705</td>\n",
       "      <td>1.128200</td>\n",
       "      <td>1.757500</td>\n",
       "      <td>0.107900</td>\n",
       "      <td>0.159600</td>\n",
       "      <td>0.079150</td>\n",
       "      <td>0.002400</td>\n",
       "      <td>0.000600</td>\n",
       "      <td>2.676050</td>\n",
       "      <td>30.771800</td>\n",
       "      <td>3.696848</td>\n",
       "      <td>4.793095</td>\n",
       "      <td>0.144350</td>\n",
       "    </tr>\n",
       "    <tr>\n",
       "      <th>std</th>\n",
       "      <td>1.15435</td>\n",
       "      <td>0.969181</td>\n",
       "      <td>3.269775</td>\n",
       "      <td>0.310262</td>\n",
       "      <td>1.444483</td>\n",
       "      <td>0.432776</td>\n",
       "      <td>0.059114</td>\n",
       "      <td>0.024488</td>\n",
       "      <td>8.816654</td>\n",
       "      <td>31.105961</td>\n",
       "      <td>0.631801</td>\n",
       "      <td>0.486961</td>\n",
       "      <td>0.755408</td>\n",
       "    </tr>\n",
       "    <tr>\n",
       "      <th>min</th>\n",
       "      <td>1.00000</td>\n",
       "      <td>0.000000</td>\n",
       "      <td>0.000000</td>\n",
       "      <td>0.000000</td>\n",
       "      <td>0.000000</td>\n",
       "      <td>0.000000</td>\n",
       "      <td>0.000000</td>\n",
       "      <td>0.000000</td>\n",
       "      <td>0.000000</td>\n",
       "      <td>1.000000</td>\n",
       "      <td>-0.000000</td>\n",
       "      <td>-0.000000</td>\n",
       "      <td>0.000000</td>\n",
       "    </tr>\n",
       "    <tr>\n",
       "      <th>25%</th>\n",
       "      <td>1.00000</td>\n",
       "      <td>1.000000</td>\n",
       "      <td>1.000000</td>\n",
       "      <td>0.000000</td>\n",
       "      <td>0.000000</td>\n",
       "      <td>0.000000</td>\n",
       "      <td>0.000000</td>\n",
       "      <td>0.000000</td>\n",
       "      <td>0.000000</td>\n",
       "      <td>17.000000</td>\n",
       "      <td>3.452820</td>\n",
       "      <td>4.552525</td>\n",
       "      <td>0.000000</td>\n",
       "    </tr>\n",
       "    <tr>\n",
       "      <th>50%</th>\n",
       "      <td>1.00000</td>\n",
       "      <td>1.000000</td>\n",
       "      <td>1.000000</td>\n",
       "      <td>0.000000</td>\n",
       "      <td>0.000000</td>\n",
       "      <td>0.000000</td>\n",
       "      <td>0.000000</td>\n",
       "      <td>0.000000</td>\n",
       "      <td>0.000000</td>\n",
       "      <td>26.000000</td>\n",
       "      <td>3.794653</td>\n",
       "      <td>4.806861</td>\n",
       "      <td>0.000000</td>\n",
       "    </tr>\n",
       "    <tr>\n",
       "      <th>75%</th>\n",
       "      <td>1.00000</td>\n",
       "      <td>1.000000</td>\n",
       "      <td>1.000000</td>\n",
       "      <td>0.000000</td>\n",
       "      <td>0.000000</td>\n",
       "      <td>0.000000</td>\n",
       "      <td>0.000000</td>\n",
       "      <td>0.000000</td>\n",
       "      <td>1.000000</td>\n",
       "      <td>40.000000</td>\n",
       "      <td>4.092136</td>\n",
       "      <td>5.056293</td>\n",
       "      <td>0.000000</td>\n",
       "    </tr>\n",
       "    <tr>\n",
       "      <th>max</th>\n",
       "      <td>5.00000</td>\n",
       "      <td>5.000000</td>\n",
       "      <td>26.000000</td>\n",
       "      <td>1.000000</td>\n",
       "      <td>95.000000</td>\n",
       "      <td>14.000000</td>\n",
       "      <td>3.000000</td>\n",
       "      <td>1.000000</td>\n",
       "      <td>142.000000</td>\n",
       "      <td>2659.000000</td>\n",
       "      <td>5.359526</td>\n",
       "      <td>6.134659</td>\n",
       "      <td>27.000000</td>\n",
       "    </tr>\n",
       "  </tbody>\n",
       "</table>\n",
       "</div>"
      ],
      "text/plain": [
       "       content_type  content_transfer_encoding       charset          html  \\\n",
       "count   20000.00000               20000.000000  20000.000000  20000.000000   \n",
       "mean        1.62705                   1.128200      1.757500      0.107900   \n",
       "std         1.15435                   0.969181      3.269775      0.310262   \n",
       "min         1.00000                   0.000000      0.000000      0.000000   \n",
       "25%         1.00000                   1.000000      1.000000      0.000000   \n",
       "50%         1.00000                   1.000000      1.000000      0.000000   \n",
       "75%         1.00000                   1.000000      1.000000      0.000000   \n",
       "max         5.00000                   5.000000     26.000000      1.000000   \n",
       "\n",
       "         javascript           css     html_form   html_iframe  \\\n",
       "count  20000.000000  20000.000000  20000.000000  20000.000000   \n",
       "mean       0.159600      0.079150      0.002400      0.000600   \n",
       "std        1.444483      0.432776      0.059114      0.024488   \n",
       "min        0.000000      0.000000      0.000000      0.000000   \n",
       "25%        0.000000      0.000000      0.000000      0.000000   \n",
       "50%        0.000000      0.000000      0.000000      0.000000   \n",
       "75%        0.000000      0.000000      0.000000      0.000000   \n",
       "max       95.000000     14.000000      3.000000      1.000000   \n",
       "\n",
       "       URLs_in_message   subject_len  subject_entropy  body_entropy  \\\n",
       "count     20000.000000  20000.000000     20000.000000  20000.000000   \n",
       "mean          2.676050     30.771800         3.696848      4.793095   \n",
       "std           8.816654     31.105961         0.631801      0.486961   \n",
       "min           0.000000      1.000000        -0.000000     -0.000000   \n",
       "25%           0.000000     17.000000         3.452820      4.552525   \n",
       "50%           0.000000     26.000000         3.794653      4.806861   \n",
       "75%           1.000000     40.000000         4.092136      5.056293   \n",
       "max         142.000000   2659.000000         5.359526      6.134659   \n",
       "\n",
       "        attachement  \n",
       "count  20000.000000  \n",
       "mean       0.144350  \n",
       "std        0.755408  \n",
       "min        0.000000  \n",
       "25%        0.000000  \n",
       "50%        0.000000  \n",
       "75%        0.000000  \n",
       "max       27.000000  "
      ]
     },
     "execution_count": 8,
     "metadata": {},
     "output_type": "execute_result"
    }
   ],
   "source": [
    "X.describe()"
   ]
  },
  {
   "cell_type": "markdown",
   "metadata": {},
   "source": [
    "# Model training"
   ]
  },
  {
   "cell_type": "markdown",
   "metadata": {},
   "source": [
    "the model that will be train will used 4 different kind algorithm, which are:\n",
    "- Decision Tree\n",
    "- Random forest\n",
    "- KNN\n",
    "- Naive baiyes"
   ]
  },
  {
   "cell_type": "markdown",
   "metadata": {},
   "source": [
    "the purpose of training different model is to make the comparison of the said algorithms, to find which produce model with better overal performance and to see which model perform better in one aspect"
   ]
  },
  {
   "cell_type": "markdown",
   "metadata": {},
   "source": [
    "## Decision Tree"
   ]
  },
  {
   "cell_type": "code",
   "execution_count": 10,
   "metadata": {},
   "outputs": [
    {
     "name": "stdout",
     "output_type": "stream",
     "text": [
      "Number of mislabeled points out of a total: 5000 points: 111\n",
      "The accuracy of the model is: 98%\n",
      "Precision of the model is: 97%\n",
      "Recall of the model is: 97%\n",
      "F1 score of the model is: 97%\n"
     ]
    },
    {
     "data": {
      "text/plain": [
       "<AxesSubplot:>"
      ]
     },
     "execution_count": 10,
     "metadata": {},
     "output_type": "execute_result"
    },
    {
     "data": {
      "image/png": "[encoded data removed]",
      "text/plain": [
       "<Figure size 432x432 with 2 Axes>"
      ]
     },
     "metadata": {
      "needs_background": "light"
     },
     "output_type": "display_data"
    }
   ],
   "source": [
    "dts_clf = DecisionTreeClassifier(random_state=rand)\n",
    "dts_model = dts_clf.fit(train_X, train_y)\n",
    "pred_y = dts_model.predict(val_X)\n",
    "\n",
    "print(f\"Number of mislabeled points out of a total: {len(val_X)} points: {(val_y != pred_y).sum()}\")\n",
    "print(f\"The accuracy of the model is: {round((val_y == pred_y).sum() / len(val_X) * 100)}%\")\n",
    "print(f'Precision of the model is: {round(precision_score(val_y, pred_y) * 100)}%')\n",
    "print(f'Recall of the model is: {round(recall_score(val_y, pred_y) * 100)}%')\n",
    "print(f'F1 score of the model is: {round(f1_score(val_y, pred_y) * 100)}%')\n",
    "\n",
    "cm = confusion_matrix(val_y, pred_y)\n",
    "df_cm = pd.DataFrame(cm, index=['legitimate', 'Malicious'], columns=['pred legitimate', 'pred Malicious'])\n",
    "\n",
    "plt.figure(figsize=(6,6))\n",
    "sn.heatmap(df_cm, annot=True)"
   ]
  },
  {
   "cell_type": "markdown",
   "metadata": {},
   "source": [
    "## KNN"
   ]
  },
  {
   "cell_type": "code",
   "execution_count": 11,
   "metadata": {},
   "outputs": [
    {
     "name": "stdout",
     "output_type": "stream",
     "text": [
      "Number of mislabeled points out of a total: 5000 points: 195\n",
      "The accuracy of the model is: 96%\n",
      "Precision of the model is: 97%\n",
      "Recall of the model is: 93%\n",
      "F1 score of the model is: 95%\n",
      "F1 score of the model is: 95%\n"
     ]
    },
    {
     "data": {
      "text/plain": [
       "<AxesSubplot:>"
      ]
     },
     "execution_count": 11,
     "metadata": {},
     "output_type": "execute_result"
    },
    {
     "data": {
      "image/png": "[encoded data removed]",
      "text/plain": [
       "<Figure size 432x432 with 2 Axes>"
      ]
     },
     "metadata": {
      "needs_background": "light"
     },
     "output_type": "display_data"
    }
   ],
   "source": [
    "knn_clf = KNeighborsClassifier()\n",
    "knn_model = knn_clf.fit(train_X, train_y)\n",
    "pred_y = knn_model.predict(val_X)\n",
    "\n",
    "print(f\"Number of mislabeled points out of a total: {len(val_X)} points: {(val_y != pred_y).sum()}\")\n",
    "print(f\"The accuracy of the model is: {round((val_y == pred_y).sum() / len(val_X) * 100)}%\")\n",
    "print(f'Precision of the model is: {round(precision_score(val_y, pred_y) * 100)}%')\n",
    "print(f'Recall of the model is: {round(recall_score(val_y, pred_y) * 100)}%')\n",
    "print(f'F1 score of the model is: {round(f1_score(val_y, pred_y) * 100)}%')\n",
    "\n",
    "cm = confusion_matrix(val_y, pred_y)\n",
    "df_cm = pd.DataFrame(cm, index=['legitimate', 'Malicious'], columns=['pred legitimate', 'pred Malicious'])\n",
    "\n",
    "plt.figure(figsize=(6,6))\n",
    "sn.heatmap(df_cm, annot=True)"
   ]
  },
  {
   "cell_type": "markdown",
   "metadata": {},
   "source": [
    "## Random Forest"
   ]
  },
  {
   "cell_type": "code",
   "execution_count": 12,
   "metadata": {},
   "outputs": [
    {
     "name": "stdout",
     "output_type": "stream",
     "text": [
      "Number of mislabeled points out of a total: 5000 points: 76\n",
      "The accuracy of the model is: 98%\n",
      "Precision of the model is: 98%\n",
      "Recall of the model is: 98%\n",
      "F1 score of the model is: 98%\n"
     ]
    },
    {
     "data": {
      "text/plain": [
       "<AxesSubplot:>"
      ]
     },
     "execution_count": 12,
     "metadata": {},
     "output_type": "execute_result"
    },
    {
     "data": {
      "image/png": "[encoded data removed]",
      "text/plain": [
       "<Figure size 432x432 with 2 Axes>"
      ]
     },
     "metadata": {
      "needs_background": "light"
     },
     "output_type": "display_data"
    }
   ],
   "source": [
    "rf_clf = RandomForestClassifier(random_state=rand)\n",
    "rf_model = rf_clf.fit(train_X, train_y)\n",
    "pred_y = rf_model.predict(val_X)\n",
    "\n",
    "print(f\"Number of mislabeled points out of a total: {len(val_X)} points: {(val_y != pred_y).sum()}\")\n",
    "print(f\"The accuracy of the model is: {round((val_y == pred_y).sum() / len(val_X) * 100)}%\")\n",
    "print(f'Precision of the model is: {round(precision_score(val_y, pred_y) * 100)}%')\n",
    "print(f'Recall of the model is: {round(recall_score(val_y, pred_y) * 100)}%')\n",
    "print(f'F1 score of the model is: {round(f1_score(val_y, pred_y) * 100)}%')\n",
    "\n",
    "cm = confusion_matrix(val_y, pred_y)\n",
    "df_cm = pd.DataFrame(cm, index=['legitimate', 'Malicious'], columns=['pred legitimate', 'pred Malicious'])\n",
    "\n",
    "plt.figure(figsize=(6,6))\n",
    "sn.heatmap(df_cm, annot=True)"
   ]
  },
  {
   "cell_type": "markdown",
   "metadata": {},
   "source": [
    "## Naive Bayes"
   ]
  },
  {
   "cell_type": "code",
   "execution_count": 13,
   "metadata": {},
   "outputs": [
    {
     "name": "stdout",
     "output_type": "stream",
     "text": [
      "Number of mislabeled points out of a total: 5000 points: 399\n",
      "The accuracy of the model is: 92%\n",
      "Precision of the model is: 99%\n",
      "Recall of the model is: 82%\n",
      "F1 score of the model is: 89%\n"
     ]
    },
    {
     "data": {
      "text/plain": [
       "<AxesSubplot:>"
      ]
     },
     "execution_count": 13,
     "metadata": {},
     "output_type": "execute_result"
    },
    {
     "data": {
      "image/png": "[encoded data removed]",
      "text/plain": [
       "<Figure size 432x432 with 2 Axes>"
      ]
     },
     "metadata": {
      "needs_background": "light"
     },
     "output_type": "display_data"
    }
   ],
   "source": [
    "nb_clf = GaussianNB()\n",
    "nb_model = nb_clf.fit(train_X, train_y)\n",
    "pred_y = nb_model.predict(val_X)\n",
    "\n",
    "print(f\"Number of mislabeled points out of a total: {len(val_X)} points: {(val_y != pred_y).sum()}\")\n",
    "print(f\"The accuracy of the model is: {round((val_y == pred_y).sum() / len(val_X) * 100)}%\")\n",
    "print(f'Precision of the model is: {round(precision_score(val_y, pred_y) * 100)}%')\n",
    "print(f'Recall of the model is: {round(recall_score(val_y, pred_y) * 100)}%')\n",
    "print(f'F1 score of the model is: {round(f1_score(val_y, pred_y) * 100)}%')\n",
    "\n",
    "cm = confusion_matrix(val_y, pred_y)\n",
    "df_cm = pd.DataFrame(cm, index=['legitimate', 'Malicious'], columns=['pred legitimate', 'pred Malicious'])\n",
    "\n",
    "plt.figure(figsize=(6,6))\n",
    "sn.heatmap(df_cm, annot=True)"
   ]
  },
  {
   "cell_type": "markdown",
   "metadata": {},
   "source": [
    "## (Alternative) Test Cycle"
   ]
  },
  {
   "cell_type": "markdown",
   "metadata": {},
   "source": [
    "The function bellow test how much of effect does mixing does to the model evaluation results"
   ]
  },
  {
   "cell_type": "markdown",
   "metadata": {},
   "source": [
    "the datasets mixing is done using a random number as the seed"
   ]
  },
  {
   "cell_type": "markdown",
   "metadata": {},
   "source": [
    "the results of the test then save into a file "
   ]
  },
  {
   "cell_type": "code",
   "execution_count": 10,
   "metadata": {},
   "outputs": [],
   "source": [
    "def test_cycle(cycle):\n",
    "    temp = {}\n",
    "    for i in range(cycle):\n",
    "        data = { }\n",
    "        part_1 = enron_df.sample(11871, ignore_index=True, random_state=1) ## get the same data each time\n",
    "        part_2 = mal_df\n",
    "        rand = round(random.random() * 10000)\n",
    "        data[\"rand\"] = rand\n",
    "        \n",
    "        training_set = (pd.concat([part_1, part_2], ignore_index=True)).sample(frac=1, ignore_index=True, random_state=rand)\n",
    "        \n",
    "        X = training_set[features]\n",
    "        y = training_set.malicious\n",
    "        train_X, val_X, train_y, val_y = train_test_split(X, y,random_state = rand)\n",
    "        \n",
    "        dts_clf = DecisionTreeClassifier(random_state=rand)\n",
    "        dts_model = dts_clf.fit(train_X, train_y)\n",
    "        pred_y = dts_model.predict(val_X)\n",
    "        data[\"dts_accuracy\"] = round((val_y == pred_y).sum() / len(val_X) * 100)\n",
    "        data[\"dts_precision\"] = round(precision_score(val_y, pred_y) * 100)\n",
    "        data[\"dts_recall\"] = round(recall_score(val_y, pred_y) * 100)\n",
    "        data[\"dts_recall\"] = round(recall_score(val_y, pred_y) * 100)\n",
    "        data[\"dts_f1\"] = round(f1_score(val_y, pred_y) * 100)\n",
    "        \n",
    "        knn_clf = KNeighborsClassifier()\n",
    "        knn_model = knn_clf.fit(train_X, train_y)\n",
    "        pred_y = knn_model.predict(val_X)\n",
    "        data[\"knn_accuracy\"] = round((val_y == pred_y).sum() / len(val_X) * 100)\n",
    "        data[\"knn_precision\"] = round(precision_score(val_y, pred_y) * 100)\n",
    "        data[\"knn_recall\"] = round(recall_score(val_y, pred_y) * 100)\n",
    "        data[\"knn_recall\"] = round(recall_score(val_y, pred_y) * 100)\n",
    "        data[\"knn_f1\"] = round(f1_score(val_y, pred_y) * 100)\n",
    "        \n",
    "        rf_clf = RandomForestClassifier(random_state=rand)\n",
    "        rf_model = rf_clf.fit(train_X, train_y)\n",
    "        pred_y = rf_model.predict(val_X)\n",
    "        data[\"rf_accuracy\"] = round((val_y == pred_y).sum() / len(val_X) * 100)\n",
    "        data[\"rf_precision\"] = round(precision_score(val_y, pred_y) * 100)\n",
    "        data[\"rf_recall\"] = round(recall_score(val_y, pred_y) * 100)\n",
    "        data[\"rf_recall\"] = round(recall_score(val_y, pred_y) * 100)\n",
    "        data[\"rf_f1\"] = round(f1_score(val_y, pred_y) * 100)\n",
    "        \n",
    "        nb_clf = GaussianNB()\n",
    "        nb_model = nb_clf.fit(train_X, train_y)\n",
    "        pred_y = nb_model.predict(val_X)   \n",
    "        data[\"nb_accuracy\"] = round((val_y == pred_y).sum() / len(val_X) * 100)\n",
    "        data[\"nb_precision\"] = round(precision_score(val_y, pred_y) * 100)\n",
    "        data[\"nb_recall\"] = round(recall_score(val_y, pred_y) * 100)\n",
    "        data[\"nb_recall\"] = round(recall_score(val_y, pred_y) * 100)\n",
    "        data[\"nb_f1\"] = round(f1_score(val_y, pred_y) * 100)\n",
    "        \n",
    "        temp[i] = data\n",
    "    return temp"
   ]
  },
  {
   "cell_type": "markdown",
   "metadata": {},
   "source": [
    "### saving test results"
   ]
  },
  {
   "cell_type": "code",
   "execution_count": 42,
   "metadata": {},
   "outputs": [],
   "source": [
    "import json\n",
    "\n",
    "with open('./datasets/test-result.json', 'w') as fs:\n",
    "    fs.writelines(json.dumps(test_cycle(100)))   "
   ]
  },
  {
   "cell_type": "code",
   "execution_count": 43,
   "metadata": {},
   "outputs": [],
   "source": [
    "test_df = pd.read_json('./datasets/test-result.json', orient=\"index\")"
   ]
  },
  {
   "cell_type": "code",
   "execution_count": 44,
   "metadata": {},
   "outputs": [
    {
     "data": {
      "text/html": [
       "<div>\n",
       "<style scoped>\n",
       "    .dataframe tbody tr th:only-of-type {\n",
       "        vertical-align: middle;\n",
       "    }\n",
       "\n",
       "    .dataframe tbody tr th {\n",
       "        vertical-align: top;\n",
       "    }\n",
       "\n",
       "    .dataframe thead th {\n",
       "        text-align: right;\n",
       "    }\n",
       "</style>\n",
       "<table border=\"1\" class=\"dataframe\">\n",
       "  <thead>\n",
       "    <tr style=\"text-align: right;\">\n",
       "      <th></th>\n",
       "      <th>rand</th>\n",
       "      <th>dts_accuracy</th>\n",
       "      <th>dts_precision</th>\n",
       "      <th>dts_recall</th>\n",
       "      <th>dts_f1</th>\n",
       "      <th>knn_accuracy</th>\n",
       "      <th>knn_precision</th>\n",
       "      <th>knn_recall</th>\n",
       "      <th>knn_f1</th>\n",
       "      <th>rf_accuracy</th>\n",
       "      <th>rf_precision</th>\n",
       "      <th>rf_recall</th>\n",
       "      <th>rf_f1</th>\n",
       "      <th>nb_accuracy</th>\n",
       "      <th>nb_precision</th>\n",
       "      <th>nb_recall</th>\n",
       "      <th>nb_f1</th>\n",
       "    </tr>\n",
       "  </thead>\n",
       "  <tbody>\n",
       "    <tr>\n",
       "      <th>count</th>\n",
       "      <td>100.000000</td>\n",
       "      <td>100.000000</td>\n",
       "      <td>100.000000</td>\n",
       "      <td>100.000000</td>\n",
       "      <td>100.00000</td>\n",
       "      <td>100.000000</td>\n",
       "      <td>100.000000</td>\n",
       "      <td>100.000000</td>\n",
       "      <td>100.000000</td>\n",
       "      <td>100.000000</td>\n",
       "      <td>100.000000</td>\n",
       "      <td>100.000000</td>\n",
       "      <td>100.000000</td>\n",
       "      <td>100.000000</td>\n",
       "      <td>100.000000</td>\n",
       "      <td>100.000000</td>\n",
       "      <td>100.000000</td>\n",
       "    </tr>\n",
       "    <tr>\n",
       "      <th>mean</th>\n",
       "      <td>5252.450000</td>\n",
       "      <td>97.970000</td>\n",
       "      <td>97.300000</td>\n",
       "      <td>97.640000</td>\n",
       "      <td>97.43000</td>\n",
       "      <td>95.990000</td>\n",
       "      <td>96.990000</td>\n",
       "      <td>93.250000</td>\n",
       "      <td>95.050000</td>\n",
       "      <td>98.680000</td>\n",
       "      <td>98.670000</td>\n",
       "      <td>97.960000</td>\n",
       "      <td>98.090000</td>\n",
       "      <td>92.510000</td>\n",
       "      <td>98.930000</td>\n",
       "      <td>82.430000</td>\n",
       "      <td>89.890000</td>\n",
       "    </tr>\n",
       "    <tr>\n",
       "      <th>std</th>\n",
       "      <td>2969.973344</td>\n",
       "      <td>0.171447</td>\n",
       "      <td>0.559581</td>\n",
       "      <td>0.482418</td>\n",
       "      <td>0.49757</td>\n",
       "      <td>0.224508</td>\n",
       "      <td>0.460457</td>\n",
       "      <td>0.672324</td>\n",
       "      <td>0.435194</td>\n",
       "      <td>0.468826</td>\n",
       "      <td>0.472582</td>\n",
       "      <td>0.373896</td>\n",
       "      <td>0.287623</td>\n",
       "      <td>0.502418</td>\n",
       "      <td>0.293189</td>\n",
       "      <td>0.890522</td>\n",
       "      <td>0.617833</td>\n",
       "    </tr>\n",
       "    <tr>\n",
       "      <th>min</th>\n",
       "      <td>31.000000</td>\n",
       "      <td>97.000000</td>\n",
       "      <td>96.000000</td>\n",
       "      <td>97.000000</td>\n",
       "      <td>97.00000</td>\n",
       "      <td>95.000000</td>\n",
       "      <td>96.000000</td>\n",
       "      <td>92.000000</td>\n",
       "      <td>94.000000</td>\n",
       "      <td>98.000000</td>\n",
       "      <td>98.000000</td>\n",
       "      <td>97.000000</td>\n",
       "      <td>98.000000</td>\n",
       "      <td>92.000000</td>\n",
       "      <td>98.000000</td>\n",
       "      <td>81.000000</td>\n",
       "      <td>89.000000</td>\n",
       "    </tr>\n",
       "    <tr>\n",
       "      <th>25%</th>\n",
       "      <td>2599.250000</td>\n",
       "      <td>98.000000</td>\n",
       "      <td>97.000000</td>\n",
       "      <td>97.000000</td>\n",
       "      <td>97.00000</td>\n",
       "      <td>96.000000</td>\n",
       "      <td>97.000000</td>\n",
       "      <td>93.000000</td>\n",
       "      <td>95.000000</td>\n",
       "      <td>98.000000</td>\n",
       "      <td>98.000000</td>\n",
       "      <td>98.000000</td>\n",
       "      <td>98.000000</td>\n",
       "      <td>92.000000</td>\n",
       "      <td>99.000000</td>\n",
       "      <td>82.000000</td>\n",
       "      <td>89.750000</td>\n",
       "    </tr>\n",
       "    <tr>\n",
       "      <th>50%</th>\n",
       "      <td>5664.000000</td>\n",
       "      <td>98.000000</td>\n",
       "      <td>97.000000</td>\n",
       "      <td>98.000000</td>\n",
       "      <td>97.00000</td>\n",
       "      <td>96.000000</td>\n",
       "      <td>97.000000</td>\n",
       "      <td>93.000000</td>\n",
       "      <td>95.000000</td>\n",
       "      <td>99.000000</td>\n",
       "      <td>99.000000</td>\n",
       "      <td>98.000000</td>\n",
       "      <td>98.000000</td>\n",
       "      <td>93.000000</td>\n",
       "      <td>99.000000</td>\n",
       "      <td>82.000000</td>\n",
       "      <td>90.000000</td>\n",
       "    </tr>\n",
       "    <tr>\n",
       "      <th>75%</th>\n",
       "      <td>7654.000000</td>\n",
       "      <td>98.000000</td>\n",
       "      <td>98.000000</td>\n",
       "      <td>98.000000</td>\n",
       "      <td>98.00000</td>\n",
       "      <td>96.000000</td>\n",
       "      <td>97.000000</td>\n",
       "      <td>94.000000</td>\n",
       "      <td>95.000000</td>\n",
       "      <td>99.000000</td>\n",
       "      <td>99.000000</td>\n",
       "      <td>98.000000</td>\n",
       "      <td>98.000000</td>\n",
       "      <td>93.000000</td>\n",
       "      <td>99.000000</td>\n",
       "      <td>83.000000</td>\n",
       "      <td>90.000000</td>\n",
       "    </tr>\n",
       "    <tr>\n",
       "      <th>max</th>\n",
       "      <td>9861.000000</td>\n",
       "      <td>98.000000</td>\n",
       "      <td>98.000000</td>\n",
       "      <td>98.000000</td>\n",
       "      <td>98.00000</td>\n",
       "      <td>97.000000</td>\n",
       "      <td>98.000000</td>\n",
       "      <td>95.000000</td>\n",
       "      <td>96.000000</td>\n",
       "      <td>99.000000</td>\n",
       "      <td>99.000000</td>\n",
       "      <td>99.000000</td>\n",
       "      <td>99.000000</td>\n",
       "      <td>93.000000</td>\n",
       "      <td>100.000000</td>\n",
       "      <td>84.000000</td>\n",
       "      <td>91.000000</td>\n",
       "    </tr>\n",
       "  </tbody>\n",
       "</table>\n",
       "</div>"
      ],
      "text/plain": [
       "              rand  dts_accuracy  dts_precision  dts_recall     dts_f1  \\\n",
       "count   100.000000    100.000000     100.000000  100.000000  100.00000   \n",
       "mean   5252.450000     97.970000      97.300000   97.640000   97.43000   \n",
       "std    2969.973344      0.171447       0.559581    0.482418    0.49757   \n",
       "min      31.000000     97.000000      96.000000   97.000000   97.00000   \n",
       "25%    2599.250000     98.000000      97.000000   97.000000   97.00000   \n",
       "50%    5664.000000     98.000000      97.000000   98.000000   97.00000   \n",
       "75%    7654.000000     98.000000      98.000000   98.000000   98.00000   \n",
       "max    9861.000000     98.000000      98.000000   98.000000   98.00000   \n",
       "\n",
       "       knn_accuracy  knn_precision  knn_recall      knn_f1  rf_accuracy  \\\n",
       "count    100.000000     100.000000  100.000000  100.000000   100.000000   \n",
       "mean      95.990000      96.990000   93.250000   95.050000    98.680000   \n",
       "std        0.224508       0.460457    0.672324    0.435194     0.468826   \n",
       "min       95.000000      96.000000   92.000000   94.000000    98.000000   \n",
       "25%       96.000000      97.000000   93.000000   95.000000    98.000000   \n",
       "50%       96.000000      97.000000   93.000000   95.000000    99.000000   \n",
       "75%       96.000000      97.000000   94.000000   95.000000    99.000000   \n",
       "max       97.000000      98.000000   95.000000   96.000000    99.000000   \n",
       "\n",
       "       rf_precision   rf_recall       rf_f1  nb_accuracy  nb_precision  \\\n",
       "count    100.000000  100.000000  100.000000   100.000000    100.000000   \n",
       "mean      98.670000   97.960000   98.090000    92.510000     98.930000   \n",
       "std        0.472582    0.373896    0.287623     0.502418      0.293189   \n",
       "min       98.000000   97.000000   98.000000    92.000000     98.000000   \n",
       "25%       98.000000   98.000000   98.000000    92.000000     99.000000   \n",
       "50%       99.000000   98.000000   98.000000    93.000000     99.000000   \n",
       "75%       99.000000   98.000000   98.000000    93.000000     99.000000   \n",
       "max       99.000000   99.000000   99.000000    93.000000    100.000000   \n",
       "\n",
       "        nb_recall       nb_f1  \n",
       "count  100.000000  100.000000  \n",
       "mean    82.430000   89.890000  \n",
       "std      0.890522    0.617833  \n",
       "min     81.000000   89.000000  \n",
       "25%     82.000000   89.750000  \n",
       "50%     82.000000   90.000000  \n",
       "75%     83.000000   90.000000  \n",
       "max     84.000000   91.000000  "
      ]
     },
     "execution_count": 44,
     "metadata": {},
     "output_type": "execute_result"
    }
   ],
   "source": [
    "test_df.describe()"
   ]
  }
 ],
 "metadata": {
  "kernelspec": {
   "display_name": "Python 3.9.12 ('base')",
   "language": "python",
   "name": "python3"
  },
  "language_info": {
   "codemirror_mode": {
    "name": "ipython",
    "version": 3
   },
   "file_extension": ".py",
   "mimetype": "text/x-python",
   "name": "python",
   "nbconvert_exporter": "python",
   "pygments_lexer": "ipython3",
   "version": "3.9.12"
  },
  "orig_nbformat": 4,
  "vscode": {
   "interpreter": {
    "hash": "43faf7f6e3c8903bcbf219f459c479e0fb6d51fc0610fd9ffdaf5b483d5dbe7d"
   }
  }
 },
 "nbformat": 4,
 "nbformat_minor": 2
}
