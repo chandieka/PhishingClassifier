{
 "cells": [
  {
   "cell_type": "markdown",
   "metadata": {},
   "source": [
    "## Summary"
   ]
  },
  {
   "cell_type": "markdown",
   "metadata": {},
   "source": [
    "## Import Libraries"
   ]
  },
  {
   "cell_type": "code",
   "execution_count": 11,
   "metadata": {},
   "outputs": [],
   "source": [
    "import pandas as pd\n",
    "import numpy as np\n",
    "from sklearn.ensemble import RandomForestRegressor\n",
    "from sklearn.metrics import mean_absolute_error\n",
    "from sklearn.naive_bayes import GaussianNB\n",
    "from sklearn.tree import DecisionTreeClassifier\n",
    "from sklearn.neighbors import KNeighborsClassifier\n",
    "from sklearn.ensemble import RandomForestClassifier\n",
    "from sklearn.model_selection import train_test_split"
   ]
  },
  {
   "cell_type": "markdown",
   "metadata": {},
   "source": [
    "## Import Datasets"
   ]
  },
  {
   "cell_type": "code",
   "execution_count": 12,
   "metadata": {},
   "outputs": [],
   "source": [
    "enron_df = pd.read_csv('datasets/explored/enron-emails-explored.csv')\n",
    "mal_df = pd.read_csv('datasets/explored/malicious-emails-explored.csv')"
   ]
  },
  {
   "cell_type": "markdown",
   "metadata": {},
   "source": [
    "Create the Training sets"
   ]
  },
  {
   "cell_type": "code",
   "execution_count": 13,
   "metadata": {},
   "outputs": [],
   "source": [
    "import random\n",
    "\n",
    "\n",
    "part_1 = enron_df.sample(11871, ignore_index=True, random_state=1)\n",
    "part_2 = mal_df\n",
    "rand = round(random.random())\n",
    "\n",
    "training_set = (pd.concat([part_1, part_2], ignore_index=True)).sample(frac=1, ignore_index=True, random_state=rand)"
   ]
  },
  {
   "cell_type": "code",
   "execution_count": 15,
   "metadata": {},
   "outputs": [
    {
     "data": {
      "text/plain": [
       "Index(['Unnamed: 0', 'body', 'subject', 'raw_mail', 'from', 'to', 'status',\n",
       "       'date', 'parsed_from', 'parsed_to', 'parsed_date', 'malicious',\n",
       "       'content_type', 'charset', 'content_transfer_encoding', 'from_domain',\n",
       "       'to_domain', 'html', 'javascript', 'css', 'html_form', 'html_iframe',\n",
       "       'URLs_in_message', 'subject_len', 'subject_entropy', 'body_entropy',\n",
       "       'attachement'],\n",
       "      dtype='object')"
      ]
     },
     "execution_count": 15,
     "metadata": {},
     "output_type": "execute_result"
    }
   ],
   "source": [
    "training_set.columns"
   ]
  },
  {
   "cell_type": "code",
   "execution_count": 18,
   "metadata": {},
   "outputs": [],
   "source": [
    "features = [\n",
    "    'content_type',\n",
    "    'content_transfer_encoding',\n",
    "    'charset',\n",
    "    'html', \n",
    "    'javascript', \n",
    "    'css', \n",
    "    'html_form', \n",
    "    'html_iframe',\n",
    "    'URLs_in_message', \n",
    "    'subject_len', \n",
    "    'subject_entropy', \n",
    "    'body_entropy',\n",
    "    'attachement'\n",
    "]"
   ]
  },
  {
   "cell_type": "code",
   "execution_count": 19,
   "metadata": {},
   "outputs": [
    {
     "data": {
      "text/html": [
       "<div>\n",
       "<style scoped>\n",
       "    .dataframe tbody tr th:only-of-type {\n",
       "        vertical-align: middle;\n",
       "    }\n",
       "\n",
       "    .dataframe tbody tr th {\n",
       "        vertical-align: top;\n",
       "    }\n",
       "\n",
       "    .dataframe thead th {\n",
       "        text-align: right;\n",
       "    }\n",
       "</style>\n",
       "<table border=\"1\" class=\"dataframe\">\n",
       "  <thead>\n",
       "    <tr style=\"text-align: right;\">\n",
       "      <th></th>\n",
       "      <th>content_type</th>\n",
       "      <th>content_transfer_encoding</th>\n",
       "      <th>charset</th>\n",
       "      <th>html</th>\n",
       "      <th>javascript</th>\n",
       "      <th>css</th>\n",
       "      <th>html_form</th>\n",
       "      <th>html_iframe</th>\n",
       "      <th>URLs_in_message</th>\n",
       "      <th>subject_len</th>\n",
       "      <th>subject_entropy</th>\n",
       "      <th>body_entropy</th>\n",
       "      <th>attachement</th>\n",
       "    </tr>\n",
       "  </thead>\n",
       "  <tbody>\n",
       "    <tr>\n",
       "      <th>0</th>\n",
       "      <td>4</td>\n",
       "      <td>2</td>\n",
       "      <td>14</td>\n",
       "      <td>1</td>\n",
       "      <td>0</td>\n",
       "      <td>1</td>\n",
       "      <td>0</td>\n",
       "      <td>0</td>\n",
       "      <td>3</td>\n",
       "      <td>42</td>\n",
       "      <td>4.026030</td>\n",
       "      <td>4.986394</td>\n",
       "      <td>0</td>\n",
       "    </tr>\n",
       "    <tr>\n",
       "      <th>1</th>\n",
       "      <td>1</td>\n",
       "      <td>1</td>\n",
       "      <td>1</td>\n",
       "      <td>0</td>\n",
       "      <td>0</td>\n",
       "      <td>0</td>\n",
       "      <td>0</td>\n",
       "      <td>0</td>\n",
       "      <td>0</td>\n",
       "      <td>36</td>\n",
       "      <td>3.974938</td>\n",
       "      <td>4.566216</td>\n",
       "      <td>0</td>\n",
       "    </tr>\n",
       "    <tr>\n",
       "      <th>2</th>\n",
       "      <td>4</td>\n",
       "      <td>2</td>\n",
       "      <td>14</td>\n",
       "      <td>1</td>\n",
       "      <td>0</td>\n",
       "      <td>0</td>\n",
       "      <td>0</td>\n",
       "      <td>0</td>\n",
       "      <td>5</td>\n",
       "      <td>24</td>\n",
       "      <td>3.938722</td>\n",
       "      <td>5.446724</td>\n",
       "      <td>0</td>\n",
       "    </tr>\n",
       "    <tr>\n",
       "      <th>3</th>\n",
       "      <td>4</td>\n",
       "      <td>2</td>\n",
       "      <td>14</td>\n",
       "      <td>1</td>\n",
       "      <td>0</td>\n",
       "      <td>0</td>\n",
       "      <td>0</td>\n",
       "      <td>0</td>\n",
       "      <td>1</td>\n",
       "      <td>44</td>\n",
       "      <td>4.036041</td>\n",
       "      <td>5.274466</td>\n",
       "      <td>0</td>\n",
       "    </tr>\n",
       "    <tr>\n",
       "      <th>4</th>\n",
       "      <td>1</td>\n",
       "      <td>1</td>\n",
       "      <td>1</td>\n",
       "      <td>0</td>\n",
       "      <td>0</td>\n",
       "      <td>0</td>\n",
       "      <td>0</td>\n",
       "      <td>0</td>\n",
       "      <td>0</td>\n",
       "      <td>16</td>\n",
       "      <td>3.625000</td>\n",
       "      <td>3.006239</td>\n",
       "      <td>0</td>\n",
       "    </tr>\n",
       "    <tr>\n",
       "      <th>...</th>\n",
       "      <td>...</td>\n",
       "      <td>...</td>\n",
       "      <td>...</td>\n",
       "      <td>...</td>\n",
       "      <td>...</td>\n",
       "      <td>...</td>\n",
       "      <td>...</td>\n",
       "      <td>...</td>\n",
       "      <td>...</td>\n",
       "      <td>...</td>\n",
       "      <td>...</td>\n",
       "      <td>...</td>\n",
       "      <td>...</td>\n",
       "    </tr>\n",
       "    <tr>\n",
       "      <th>19995</th>\n",
       "      <td>1</td>\n",
       "      <td>5</td>\n",
       "      <td>1</td>\n",
       "      <td>0</td>\n",
       "      <td>0</td>\n",
       "      <td>0</td>\n",
       "      <td>0</td>\n",
       "      <td>0</td>\n",
       "      <td>0</td>\n",
       "      <td>18</td>\n",
       "      <td>3.572431</td>\n",
       "      <td>4.480296</td>\n",
       "      <td>0</td>\n",
       "    </tr>\n",
       "    <tr>\n",
       "      <th>19996</th>\n",
       "      <td>3</td>\n",
       "      <td>3</td>\n",
       "      <td>0</td>\n",
       "      <td>0</td>\n",
       "      <td>0</td>\n",
       "      <td>0</td>\n",
       "      <td>0</td>\n",
       "      <td>0</td>\n",
       "      <td>1</td>\n",
       "      <td>94</td>\n",
       "      <td>4.909456</td>\n",
       "      <td>4.908874</td>\n",
       "      <td>0</td>\n",
       "    </tr>\n",
       "    <tr>\n",
       "      <th>19997</th>\n",
       "      <td>1</td>\n",
       "      <td>1</td>\n",
       "      <td>1</td>\n",
       "      <td>0</td>\n",
       "      <td>0</td>\n",
       "      <td>0</td>\n",
       "      <td>0</td>\n",
       "      <td>0</td>\n",
       "      <td>0</td>\n",
       "      <td>61</td>\n",
       "      <td>4.543374</td>\n",
       "      <td>4.277969</td>\n",
       "      <td>0</td>\n",
       "    </tr>\n",
       "    <tr>\n",
       "      <th>19998</th>\n",
       "      <td>1</td>\n",
       "      <td>2</td>\n",
       "      <td>1</td>\n",
       "      <td>0</td>\n",
       "      <td>0</td>\n",
       "      <td>0</td>\n",
       "      <td>0</td>\n",
       "      <td>0</td>\n",
       "      <td>2</td>\n",
       "      <td>13</td>\n",
       "      <td>3.546594</td>\n",
       "      <td>0.866078</td>\n",
       "      <td>0</td>\n",
       "    </tr>\n",
       "    <tr>\n",
       "      <th>19999</th>\n",
       "      <td>1</td>\n",
       "      <td>1</td>\n",
       "      <td>2</td>\n",
       "      <td>0</td>\n",
       "      <td>0</td>\n",
       "      <td>0</td>\n",
       "      <td>0</td>\n",
       "      <td>0</td>\n",
       "      <td>0</td>\n",
       "      <td>66</td>\n",
       "      <td>4.234952</td>\n",
       "      <td>4.625497</td>\n",
       "      <td>1</td>\n",
       "    </tr>\n",
       "  </tbody>\n",
       "</table>\n",
       "<p>20000 rows × 13 columns</p>\n",
       "</div>"
      ],
      "text/plain": [
       "       content_type  content_transfer_encoding  charset  html  javascript  \\\n",
       "0                 4                          2       14     1           0   \n",
       "1                 1                          1        1     0           0   \n",
       "2                 4                          2       14     1           0   \n",
       "3                 4                          2       14     1           0   \n",
       "4                 1                          1        1     0           0   \n",
       "...             ...                        ...      ...   ...         ...   \n",
       "19995             1                          5        1     0           0   \n",
       "19996             3                          3        0     0           0   \n",
       "19997             1                          1        1     0           0   \n",
       "19998             1                          2        1     0           0   \n",
       "19999             1                          1        2     0           0   \n",
       "\n",
       "       css  html_form  html_iframe  URLs_in_message  subject_len  \\\n",
       "0        1          0            0                3           42   \n",
       "1        0          0            0                0           36   \n",
       "2        0          0            0                5           24   \n",
       "3        0          0            0                1           44   \n",
       "4        0          0            0                0           16   \n",
       "...    ...        ...          ...              ...          ...   \n",
       "19995    0          0            0                0           18   \n",
       "19996    0          0            0                1           94   \n",
       "19997    0          0            0                0           61   \n",
       "19998    0          0            0                2           13   \n",
       "19999    0          0            0                0           66   \n",
       "\n",
       "       subject_entropy  body_entropy  attachement  \n",
       "0             4.026030      4.986394            0  \n",
       "1             3.974938      4.566216            0  \n",
       "2             3.938722      5.446724            0  \n",
       "3             4.036041      5.274466            0  \n",
       "4             3.625000      3.006239            0  \n",
       "...                ...           ...          ...  \n",
       "19995         3.572431      4.480296            0  \n",
       "19996         4.909456      4.908874            0  \n",
       "19997         4.543374      4.277969            0  \n",
       "19998         3.546594      0.866078            0  \n",
       "19999         4.234952      4.625497            1  \n",
       "\n",
       "[20000 rows x 13 columns]"
      ]
     },
     "execution_count": 19,
     "metadata": {},
     "output_type": "execute_result"
    }
   ],
   "source": [
    "training_set[features]"
   ]
  },
  {
   "cell_type": "code",
   "execution_count": 20,
   "metadata": {},
   "outputs": [],
   "source": [
    "X = training_set[features]\n",
    "y = training_set.malicious\n",
    "\n",
    "train_X, val_X, train_y, val_y = train_test_split(X, y,random_state = rand)"
   ]
  },
  {
   "cell_type": "code",
   "execution_count": 21,
   "metadata": {},
   "outputs": [
    {
     "data": {
      "text/html": [
       "<div>\n",
       "<style scoped>\n",
       "    .dataframe tbody tr th:only-of-type {\n",
       "        vertical-align: middle;\n",
       "    }\n",
       "\n",
       "    .dataframe tbody tr th {\n",
       "        vertical-align: top;\n",
       "    }\n",
       "\n",
       "    .dataframe thead th {\n",
       "        text-align: right;\n",
       "    }\n",
       "</style>\n",
       "<table border=\"1\" class=\"dataframe\">\n",
       "  <thead>\n",
       "    <tr style=\"text-align: right;\">\n",
       "      <th></th>\n",
       "      <th>content_type</th>\n",
       "      <th>content_transfer_encoding</th>\n",
       "      <th>charset</th>\n",
       "      <th>html</th>\n",
       "      <th>javascript</th>\n",
       "      <th>css</th>\n",
       "      <th>html_form</th>\n",
       "      <th>html_iframe</th>\n",
       "      <th>URLs_in_message</th>\n",
       "      <th>subject_len</th>\n",
       "      <th>subject_entropy</th>\n",
       "      <th>body_entropy</th>\n",
       "      <th>attachement</th>\n",
       "    </tr>\n",
       "  </thead>\n",
       "  <tbody>\n",
       "    <tr>\n",
       "      <th>count</th>\n",
       "      <td>20000.00000</td>\n",
       "      <td>20000.000000</td>\n",
       "      <td>20000.000000</td>\n",
       "      <td>20000.000000</td>\n",
       "      <td>20000.000000</td>\n",
       "      <td>20000.000000</td>\n",
       "      <td>20000.000000</td>\n",
       "      <td>20000.000000</td>\n",
       "      <td>20000.000000</td>\n",
       "      <td>20000.000000</td>\n",
       "      <td>20000.000000</td>\n",
       "      <td>20000.000000</td>\n",
       "      <td>20000.000000</td>\n",
       "    </tr>\n",
       "    <tr>\n",
       "      <th>mean</th>\n",
       "      <td>1.62705</td>\n",
       "      <td>1.797750</td>\n",
       "      <td>1.757500</td>\n",
       "      <td>0.107900</td>\n",
       "      <td>0.159600</td>\n",
       "      <td>0.079150</td>\n",
       "      <td>0.002400</td>\n",
       "      <td>0.000600</td>\n",
       "      <td>2.676050</td>\n",
       "      <td>30.771800</td>\n",
       "      <td>3.696848</td>\n",
       "      <td>4.793095</td>\n",
       "      <td>0.144350</td>\n",
       "    </tr>\n",
       "    <tr>\n",
       "      <th>std</th>\n",
       "      <td>1.15435</td>\n",
       "      <td>1.189712</td>\n",
       "      <td>3.269775</td>\n",
       "      <td>0.310262</td>\n",
       "      <td>1.444483</td>\n",
       "      <td>0.432776</td>\n",
       "      <td>0.059114</td>\n",
       "      <td>0.024488</td>\n",
       "      <td>8.816654</td>\n",
       "      <td>31.105961</td>\n",
       "      <td>0.631801</td>\n",
       "      <td>0.486961</td>\n",
       "      <td>0.755408</td>\n",
       "    </tr>\n",
       "    <tr>\n",
       "      <th>min</th>\n",
       "      <td>1.00000</td>\n",
       "      <td>1.000000</td>\n",
       "      <td>0.000000</td>\n",
       "      <td>0.000000</td>\n",
       "      <td>0.000000</td>\n",
       "      <td>0.000000</td>\n",
       "      <td>0.000000</td>\n",
       "      <td>0.000000</td>\n",
       "      <td>0.000000</td>\n",
       "      <td>1.000000</td>\n",
       "      <td>-0.000000</td>\n",
       "      <td>-0.000000</td>\n",
       "      <td>0.000000</td>\n",
       "    </tr>\n",
       "    <tr>\n",
       "      <th>25%</th>\n",
       "      <td>1.00000</td>\n",
       "      <td>1.000000</td>\n",
       "      <td>1.000000</td>\n",
       "      <td>0.000000</td>\n",
       "      <td>0.000000</td>\n",
       "      <td>0.000000</td>\n",
       "      <td>0.000000</td>\n",
       "      <td>0.000000</td>\n",
       "      <td>0.000000</td>\n",
       "      <td>17.000000</td>\n",
       "      <td>3.452820</td>\n",
       "      <td>4.552525</td>\n",
       "      <td>0.000000</td>\n",
       "    </tr>\n",
       "    <tr>\n",
       "      <th>50%</th>\n",
       "      <td>1.00000</td>\n",
       "      <td>1.000000</td>\n",
       "      <td>1.000000</td>\n",
       "      <td>0.000000</td>\n",
       "      <td>0.000000</td>\n",
       "      <td>0.000000</td>\n",
       "      <td>0.000000</td>\n",
       "      <td>0.000000</td>\n",
       "      <td>0.000000</td>\n",
       "      <td>26.000000</td>\n",
       "      <td>3.794653</td>\n",
       "      <td>4.806861</td>\n",
       "      <td>0.000000</td>\n",
       "    </tr>\n",
       "    <tr>\n",
       "      <th>75%</th>\n",
       "      <td>1.00000</td>\n",
       "      <td>3.000000</td>\n",
       "      <td>1.000000</td>\n",
       "      <td>0.000000</td>\n",
       "      <td>0.000000</td>\n",
       "      <td>0.000000</td>\n",
       "      <td>0.000000</td>\n",
       "      <td>0.000000</td>\n",
       "      <td>1.000000</td>\n",
       "      <td>40.000000</td>\n",
       "      <td>4.092136</td>\n",
       "      <td>5.056293</td>\n",
       "      <td>0.000000</td>\n",
       "    </tr>\n",
       "    <tr>\n",
       "      <th>max</th>\n",
       "      <td>5.00000</td>\n",
       "      <td>6.000000</td>\n",
       "      <td>26.000000</td>\n",
       "      <td>1.000000</td>\n",
       "      <td>95.000000</td>\n",
       "      <td>14.000000</td>\n",
       "      <td>3.000000</td>\n",
       "      <td>1.000000</td>\n",
       "      <td>142.000000</td>\n",
       "      <td>2659.000000</td>\n",
       "      <td>5.359526</td>\n",
       "      <td>6.134659</td>\n",
       "      <td>27.000000</td>\n",
       "    </tr>\n",
       "  </tbody>\n",
       "</table>\n",
       "</div>"
      ],
      "text/plain": [
       "       content_type  content_transfer_encoding       charset          html  \\\n",
       "count   20000.00000               20000.000000  20000.000000  20000.000000   \n",
       "mean        1.62705                   1.797750      1.757500      0.107900   \n",
       "std         1.15435                   1.189712      3.269775      0.310262   \n",
       "min         1.00000                   1.000000      0.000000      0.000000   \n",
       "25%         1.00000                   1.000000      1.000000      0.000000   \n",
       "50%         1.00000                   1.000000      1.000000      0.000000   \n",
       "75%         1.00000                   3.000000      1.000000      0.000000   \n",
       "max         5.00000                   6.000000     26.000000      1.000000   \n",
       "\n",
       "         javascript           css     html_form   html_iframe  \\\n",
       "count  20000.000000  20000.000000  20000.000000  20000.000000   \n",
       "mean       0.159600      0.079150      0.002400      0.000600   \n",
       "std        1.444483      0.432776      0.059114      0.024488   \n",
       "min        0.000000      0.000000      0.000000      0.000000   \n",
       "25%        0.000000      0.000000      0.000000      0.000000   \n",
       "50%        0.000000      0.000000      0.000000      0.000000   \n",
       "75%        0.000000      0.000000      0.000000      0.000000   \n",
       "max       95.000000     14.000000      3.000000      1.000000   \n",
       "\n",
       "       URLs_in_message   subject_len  subject_entropy  body_entropy  \\\n",
       "count     20000.000000  20000.000000     20000.000000  20000.000000   \n",
       "mean          2.676050     30.771800         3.696848      4.793095   \n",
       "std           8.816654     31.105961         0.631801      0.486961   \n",
       "min           0.000000      1.000000        -0.000000     -0.000000   \n",
       "25%           0.000000     17.000000         3.452820      4.552525   \n",
       "50%           0.000000     26.000000         3.794653      4.806861   \n",
       "75%           1.000000     40.000000         4.092136      5.056293   \n",
       "max         142.000000   2659.000000         5.359526      6.134659   \n",
       "\n",
       "        attachement  \n",
       "count  20000.000000  \n",
       "mean       0.144350  \n",
       "std        0.755408  \n",
       "min        0.000000  \n",
       "25%        0.000000  \n",
       "50%        0.000000  \n",
       "75%        0.000000  \n",
       "max       27.000000  "
      ]
     },
     "execution_count": 21,
     "metadata": {},
     "output_type": "execute_result"
    }
   ],
   "source": [
    "X.describe()"
   ]
  },
  {
   "cell_type": "code",
   "execution_count": 22,
   "metadata": {},
   "outputs": [],
   "source": [
    "from sklearn.metrics import confusion_matrix, precision_score, recall_score, f1_score\n",
    "import seaborn as sn\n",
    "import matplotlib.pyplot as plt"
   ]
  },
  {
   "cell_type": "markdown",
   "metadata": {},
   "source": [
    "## Decision Tree"
   ]
  },
  {
   "cell_type": "code",
   "execution_count": 23,
   "metadata": {},
   "outputs": [
    {
     "name": "stdout",
     "output_type": "stream",
     "text": [
      "Number of mislabeled points out of a total: 5000 points: 98\n",
      "The accuracy of the model is: 98%\n",
      "Precision of the model is: 98%\n",
      "Recall of the model is: 98%\n",
      "F1 score of the model is: 98%\n"
     ]
    },
    {
     "data": {
      "text/plain": [
       "<AxesSubplot:>"
      ]
     },
     "execution_count": 23,
     "metadata": {},
     "output_type": "execute_result"
    },
    {
     "data": {
      "image/png": "[encoded data removed]",
      "text/plain": [
       "<Figure size 432x432 with 2 Axes>"
      ]
     },
     "metadata": {
      "needs_background": "light"
     },
     "output_type": "display_data"
    }
   ],
   "source": [
    "dts_clf = DecisionTreeClassifier(random_state=rand)\n",
    "dts_model = dts_clf.fit(train_X, train_y)\n",
    "pred_y = dts_model.predict(val_X)\n",
    "\n",
    "print(f\"Number of mislabeled points out of a total: {len(val_X)} points: {(val_y != pred_y).sum()}\")\n",
    "print(f\"The accuracy of the model is: {round((val_y == pred_y).sum() / len(val_X) * 100)}%\")\n",
    "print(f'Precision of the model is: {round(precision_score(val_y, pred_y) * 100)}%')\n",
    "print(f'Recall of the model is: {round(recall_score(val_y, pred_y) * 100)}%')\n",
    "print(f'F1 score of the model is: {round(f1_score(val_y, pred_y) * 100)}%')\n",
    "\n",
    "cm = confusion_matrix(val_y, pred_y)\n",
    "df_cm = pd.DataFrame(cm, index=['legitimate', 'Malicious'], columns=['pred legitimate', 'pred Malicious'])\n",
    "\n",
    "plt.figure(figsize=(6,6))\n",
    "sn.heatmap(df_cm, annot=True)"
   ]
  },
  {
   "cell_type": "markdown",
   "metadata": {},
   "source": [
    "## KNN"
   ]
  },
  {
   "cell_type": "code",
   "execution_count": 24,
   "metadata": {},
   "outputs": [
    {
     "name": "stdout",
     "output_type": "stream",
     "text": [
      "Number of mislabeled points out of a total: 5000 points: 172\n",
      "The accuracy of the model is: 97%\n",
      "Precision of the model is: 97%\n",
      "Recall of the model is: 95%\n",
      "F1 score of the model is: 96%\n",
      "F1 score of the model is: 96%\n"
     ]
    },
    {
     "data": {
      "text/plain": [
       "<AxesSubplot:>"
      ]
     },
     "execution_count": 24,
     "metadata": {},
     "output_type": "execute_result"
    },
    {
     "data": {
      "image/png": "[encoded data removed]",
      "text/plain": [
       "<Figure size 432x432 with 2 Axes>"
      ]
     },
     "metadata": {
      "needs_background": "light"
     },
     "output_type": "display_data"
    }
   ],
   "source": [
    "knn_clf = KNeighborsClassifier()\n",
    "knn_model = knn_clf.fit(train_X, train_y)\n",
    "pred_y = knn_model.predict(val_X)\n",
    "\n",
    "print(f\"Number of mislabeled points out of a total: {len(val_X)} points: {(val_y != pred_y).sum()}\")\n",
    "print(f\"The accuracy of the model is: {round((val_y == pred_y).sum() / len(val_X) * 100)}%\")\n",
    "print(f'Precision of the model is: {round(precision_score(val_y, pred_y) * 100)}%')\n",
    "print(f'Recall of the model is: {round(recall_score(val_y, pred_y) * 100)}%')\n",
    "print(f'F1 score of the model is: {round(f1_score(val_y, pred_y) * 100)}%')\n",
    "print(f'F1 score of the model is: {round(f1_score(val_y, pred_y) * 100)}%')\n",
    "\n",
    "cm = confusion_matrix(val_y, pred_y)\n",
    "df_cm = pd.DataFrame(cm, index=['legitimate', 'Malicious'], columns=['pred legitimate', 'pred Malicious'])\n",
    "\n",
    "plt.figure(figsize=(6,6))\n",
    "sn.heatmap(df_cm, annot=True)"
   ]
  },
  {
   "cell_type": "markdown",
   "metadata": {},
   "source": [
    "## Random Forest"
   ]
  },
  {
   "cell_type": "code",
   "execution_count": 25,
   "metadata": {},
   "outputs": [
    {
     "name": "stdout",
     "output_type": "stream",
     "text": [
      "Number of mislabeled points out of a total: 5000 points: 74\n",
      "The accuracy of the model is: 99%\n",
      "Precision of the model is: 99%\n",
      "Recall of the model is: 98%\n",
      "F1 score of the model is: 98%\n"
     ]
    },
    {
     "data": {
      "text/plain": [
       "<AxesSubplot:>"
      ]
     },
     "execution_count": 25,
     "metadata": {},
     "output_type": "execute_result"
    },
    {
     "data": {
      "image/png": "[encoded data removed]",
      "text/plain": [
       "<Figure size 432x432 with 2 Axes>"
      ]
     },
     "metadata": {
      "needs_background": "light"
     },
     "output_type": "display_data"
    }
   ],
   "source": [
    "rf_clf = RandomForestClassifier(random_state=rand)\n",
    "rf_model = rf_clf.fit(train_X, train_y)\n",
    "pred_y = rf_model.predict(val_X)\n",
    "\n",
    "print(f\"Number of mislabeled points out of a total: {len(val_X)} points: {(val_y != pred_y).sum()}\")\n",
    "print(f\"The accuracy of the model is: {round((val_y == pred_y).sum() / len(val_X) * 100)}%\")\n",
    "print(f'Precision of the model is: {round(precision_score(val_y, pred_y) * 100)}%')\n",
    "print(f'Recall of the model is: {round(recall_score(val_y, pred_y) * 100)}%')\n",
    "print(f'F1 score of the model is: {round(f1_score(val_y, pred_y) * 100)}%')\n",
    "\n",
    "cm = confusion_matrix(val_y, pred_y)\n",
    "df_cm = pd.DataFrame(cm, index=['legitimate', 'Malicious'], columns=['pred legitimate', 'pred Malicious'])\n",
    "\n",
    "plt.figure(figsize=(6,6))\n",
    "sn.heatmap(df_cm, annot=True)"
   ]
  },
  {
   "cell_type": "markdown",
   "metadata": {},
   "source": [
    "## Naive Bayes"
   ]
  },
  {
   "cell_type": "code",
   "execution_count": 26,
   "metadata": {},
   "outputs": [
    {
     "name": "stdout",
     "output_type": "stream",
     "text": [
      "Number of mislabeled points out of a total: 5000 points: 224\n",
      "The accuracy of the model is: 96%\n",
      "Precision of the model is: 99%\n",
      "Recall of the model is: 90%\n",
      "F1 score of the model is: 94%\n"
     ]
    },
    {
     "data": {
      "text/plain": [
       "<AxesSubplot:>"
      ]
     },
     "execution_count": 26,
     "metadata": {},
     "output_type": "execute_result"
    },
    {
     "data": {
      "image/png": "[encoded data removed]",
      "text/plain": [
       "<Figure size 432x432 with 2 Axes>"
      ]
     },
     "metadata": {
      "needs_background": "light"
     },
     "output_type": "display_data"
    }
   ],
   "source": [
    "nb_clf = GaussianNB()\n",
    "nb_model = nb_clf.fit(train_X, train_y)\n",
    "pred_y = nb_model.predict(val_X)\n",
    "\n",
    "print(f\"Number of mislabeled points out of a total: {len(val_X)} points: {(val_y != pred_y).sum()}\")\n",
    "print(f\"The accuracy of the model is: {round((val_y == pred_y).sum() / len(val_X) * 100)}%\")\n",
    "print(f'Precision of the model is: {round(precision_score(val_y, pred_y) * 100)}%')\n",
    "print(f'Recall of the model is: {round(recall_score(val_y, pred_y) * 100)}%')\n",
    "print(f'F1 score of the model is: {round(f1_score(val_y, pred_y) * 100)}%')\n",
    "\n",
    "cm = confusion_matrix(val_y, pred_y)\n",
    "df_cm = pd.DataFrame(cm, index=['legitimate', 'Malicious'], columns=['pred legitimate', 'pred Malicious'])\n",
    "\n",
    "plt.figure(figsize=(6,6))\n",
    "sn.heatmap(df_cm, annot=True)"
   ]
  }
 ],
 "metadata": {
  "kernelspec": {
   "display_name": "Python 3.9.12 ('base')",
   "language": "python",
   "name": "python3"
  },
  "language_info": {
   "codemirror_mode": {
    "name": "ipython",
    "version": 3
   },
   "file_extension": ".py",
   "mimetype": "text/x-python",
   "name": "python",
   "nbconvert_exporter": "python",
   "pygments_lexer": "ipython3",
   "version": "3.9.12"
  },
  "orig_nbformat": 4,
  "vscode": {
   "interpreter": {
    "hash": "43faf7f6e3c8903bcbf219f459c479e0fb6d51fc0610fd9ffdaf5b483d5dbe7d"
   }
  }
 },
 "nbformat": 4,
 "nbformat_minor": 2
}
